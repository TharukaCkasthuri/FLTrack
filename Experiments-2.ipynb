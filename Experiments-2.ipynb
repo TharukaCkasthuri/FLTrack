{
 "cells": [
  {
   "cell_type": "code",
   "execution_count": 1,
   "id": "0f511941",
   "metadata": {},
   "outputs": [],
   "source": [
    "import os\n",
    "import time\n",
    "import torch\n",
    "\n",
    "import pandas as pd\n",
    "import numpy as np\n",
    "\n",
    "import matplotlib.pyplot as plt\n",
    "from torch.utils.data import DataLoader\n",
    "\n",
    "from FLTrack.models import ShallowNN\n",
    "from FLTrack.evals import evaluate_mae_with_confidence\n",
    "from FLTrack.evals import influence\n",
    "from FLTrack.evals import evaluate\n",
    "from FLTrack.evals import euclidean_distance, accumulated_proximity, hessian_eccentricity\n",
    "\n",
    "features = 169\n",
    "batch_size = 64\n",
    "loss_fn = torch.nn.L1Loss()"
   ]
  },
  {
   "cell_type": "code",
   "execution_count": 2,
   "id": "837ad7d4",
   "metadata": {},
   "outputs": [],
   "source": [
    "client_ids = [f\"c{i}\" for i in range(1, 25)]"
   ]
  },
  {
   "cell_type": "code",
   "execution_count": 3,
   "id": "8ef71a57",
   "metadata": {},
   "outputs": [],
   "source": [
    "def eval(model, loss_fn, dataloader) -> float:\n",
    "    \"\"\"\n",
    "    Evaluate the model with validation dataset.\n",
    "\n",
    "    Parameters:\n",
    "    ------------\n",
    "    model: torch.nn.Module object; model to be evaluated\n",
    "    loss_fn: torch.nn.Module object; loss function\n",
    "\n",
    "    Returns:\n",
    "    ------------\n",
    "    loss_avg: float; average loss\n",
    "    \"\"\"\n",
    "    batch_loss = []\n",
    "    for _, (x, y) in enumerate(dataloader):\n",
    "        outputs = model(x)\n",
    "        y = y.view(-1, 1)\n",
    "        loss = loss_fn(outputs, y)\n",
    "        batch_loss.append(loss.item())\n",
    "    loss_avg = sum(batch_loss) / len(batch_loss)\n",
    "\n",
    "    return loss_avg"
   ]
  },
  {
   "cell_type": "markdown",
   "id": "20601c4d-aba5-47bc-b99a-1a48d82e7ae4",
   "metadata": {},
   "source": [
    "## Isolated Model Performance"
   ]
  },
  {
   "cell_type": "code",
   "execution_count": 47,
   "id": "5840aba3",
   "metadata": {},
   "outputs": [
    {
     "name": "stdout",
     "output_type": "stream",
     "text": [
      "c1 1.2210556441737759\n",
      "c2 1.5780206944080108\n",
      "c3 1.950760540637103\n",
      "c4 1.2377872733693374\n",
      "c5 1.1606549497912912\n",
      "c6 1.2909132192532222\n",
      "c7 1.6484751731157303\n",
      "c8 1.733246340070452\n",
      "c9 1.585139326427294\n",
      "c10 1.2165417321350263\n",
      "c11 1.1682600378990173\n",
      "c12 1.553945590468014\n",
      "c13 1.9501162730157375\n",
      "c14 1.0826254515420823\n",
      "c15 2.058063189188639\n",
      "c16 1.729732933971617\n",
      "c17 1.552233454428221\n",
      "c18 2.1999396085739136\n",
      "c19 1.0929219196009081\n",
      "c20 1.343466579914093\n",
      "c21 1.5469098707725262\n",
      "c22 1.7717657004083907\n",
      "c23 1.1347104971823485\n",
      "c24 1.8716264212573017\n"
     ]
    }
   ],
   "source": [
    "for client in client_ids:\n",
    "    val_data_path =  \"testpt/\"+str(client)+\".pt\"\n",
    "    val_set = torch.load(val_data_path)\n",
    "    val_loader = DataLoader(val_set, batch_size, shuffle = True)\n",
    "    isolated_model_path = \"FLTrack/checkpt/isolated/epoch_250/batch256_client_\"+str(client)+\".pth\"\n",
    "    isolated_model =  ShallowNN(169)\n",
    "    isolated_model.load_state_dict(torch.load(isolated_model_path))\n",
    "    print(str(client), eval(isolated_model, loss_fn, val_loader))"
   ]
  },
  {
   "cell_type": "markdown",
   "id": "72d8b171-f5cd-49af-a454-82bf4b572492",
   "metadata": {},
   "source": [
    "## Federated Model Performance"
   ]
  },
  {
   "cell_type": "code",
   "execution_count": 38,
   "id": "64a6dc00",
   "metadata": {},
   "outputs": [
    {
     "data": {
      "text/plain": [
       "<All keys matched successfully>"
      ]
     },
     "execution_count": 38,
     "metadata": {},
     "output_type": "execute_result"
    }
   ],
   "source": [
    "global_model = ShallowNN(features)\n",
    "global_model.load_state_dict(torch.load('FLTrack/checkpt/fedl/epoch_250/25_rounds_10_epochs_per_round/global_model.pth'))"
   ]
  },
  {
   "cell_type": "code",
   "execution_count": 39,
   "id": "46f407da-5849-44c8-94c3-1d7d4b8bd894",
   "metadata": {},
   "outputs": [
    {
     "name": "stdout",
     "output_type": "stream",
     "text": [
      "c1 1.454211546528724\n",
      "c2 1.5361252287600904\n",
      "c3 1.519852871244604\n",
      "c4 1.8562415555903786\n",
      "c5 1.526824085151448\n",
      "c6 1.4924133817354839\n",
      "c7 1.5672013133764267\n",
      "c8 1.8476547070911953\n",
      "c9 2.01485930836719\n",
      "c10 2.1389639299848806\n",
      "c11 1.9257643738308468\n",
      "c12 1.6821298038258272\n",
      "c13 2.4283836111426353\n",
      "c14 1.6592816795621599\n",
      "c15 1.581293969684177\n",
      "c16 1.4163567423820496\n",
      "c17 1.6887979193737632\n",
      "c18 2.277299068190835\n",
      "c19 1.893774623094603\n",
      "c20 1.685123332085148\n",
      "c21 1.5132498042336826\n",
      "c22 2.5871134400367737\n",
      "c23 1.9292572840400364\n",
      "c24 1.6730993456310697\n"
     ]
    }
   ],
   "source": [
    "for client in client_ids:\n",
    "    val_data_path =  \"testpt/\"+str(client)+\".pt\"\n",
    "    val_set = torch.load(val_data_path)\n",
    "    val_loader = DataLoader(val_set, batch_size, shuffle = True)\n",
    "    print(str(client), eval(global_model, loss_fn, val_loader))"
   ]
  },
  {
   "cell_type": "markdown",
   "id": "4761b18f",
   "metadata": {},
   "source": [
    "## Error Bars for Federated Learning vs Isolated Training"
   ]
  },
  {
   "cell_type": "code",
   "execution_count": null,
   "id": "ac455aa6",
   "metadata": {},
   "outputs": [],
   "source": [
    "eval_list = []\n",
    "for client in client_ids:\n",
    "    val_data_path =  \"testpt/\"+str(client)+\".pt\"\n",
    "    val_set = torch.load(val_data_path)\n",
    "    val_loader = DataLoader(val_set, batch_size, shuffle = True)\n",
    "    \n",
    "    isolated_model_path = \"checkpt/epoch_500/isolated/batch64_client_\"+str(client)+\".pth\"\n",
    "    isolated_model =  ShallowNN(features)\n",
    "    isolated_model.load_state_dict(torch.load(isolated_model_path))\n",
    "    \n",
    "    isolated_mae,(iso_lower_band, iso_upper_band), _  = evaluate_mae_with_confidence(isolated_model, val_loader)\n",
    "    federated_mae,(fed_lower_band, fed_upper_band), _ = evaluate_mae_with_confidence(global_model,val_loader)\n",
    "    \n",
    "    eval_dict = {\"client_id\":client, \"Isolated Average MAE\": round(isolated_mae, 4),\n",
    "                 \"Isolated MAE lower band\":round(iso_lower_band,4),\n",
    "                 \"Isolated MAE upper band\":round(iso_upper_band,4),\n",
    "                 \"Federated Average MAE\" :round(federated_mae, 4),\n",
    "                \"Federated MAE lower band\": round(fed_lower_band, 4),\n",
    "                \"Federated MAE upper band\":round(fed_upper_band,4)}\n",
    "    eval_list.append(eval_dict)\n",
    "    \n",
    "eval_df = pd.DataFrame.from_dict(eval_list)\n",
    "eval_df[\"clients\"] = [i for i in range(1,25)] "
   ]
  },
  {
   "cell_type": "code",
   "execution_count": null,
   "id": "ca78caa4",
   "metadata": {},
   "outputs": [],
   "source": [
    "fig, ax = plt.subplots(figsize=(20, 10))\n",
    "bar_width = 0.3\n",
    "index = eval_df.index\n",
    "\n",
    "bar1 = ax.bar(index - bar_width / 2, eval_df['Isolated Average MAE'], bar_width, yerr=[\n",
    "    (eval_df[\"Isolated Average MAE\"] - eval_df[\"Isolated MAE lower band\"]),\n",
    "    (eval_df['Isolated MAE upper band'] - eval_df[\"Isolated Average MAE\"])\n",
    "], capsize=5, label='Isolated Model MAE')\n",
    "\n",
    "bar2 = ax.bar(index + bar_width / 2, eval_df['Federated Average MAE'], bar_width, yerr=[\n",
    "    (eval_df[\"Federated Average MAE\"] - eval_df[\"Federated MAE lower band\"]),\n",
    "    (eval_df['Federated MAE upper band'] - eval_df[\"Federated Average MAE\"])\n",
    "], capsize=5, label='Federated Model MAE')\n",
    "\n",
    "ax.set_xlabel('Client IDs', fontdict={'fontsize': 13})\n",
    "ax.set_ylabel(\"Mean Absolute Error for Validation\", fontdict={'fontsize': 13})\n",
    "ax.set_xticks(index)\n",
    "ax.set_xticklabels(eval_df['clients'])\n",
    "ax.legend(fontsize=15, loc=\"upper right\")\n",
    "\n",
    "# Adjust the xlim to decrease space at the left and right edges\n",
    "ax.set_xlim(index[0] - 0.7, index[-1] + 0.7)\n",
    "\n",
    "plt.show()"
   ]
  },
  {
   "cell_type": "markdown",
   "id": "34b2cf62",
   "metadata": {},
   "source": [
    "## Influence with prediction difference at 500 global rounds"
   ]
  },
  {
   "cell_type": "code",
   "execution_count": null,
   "id": "95700673",
   "metadata": {},
   "outputs": [],
   "source": [
    "inf_val = []\n",
    "for client in client_ids:\n",
    "    model = ShallowNN(features)\n",
    "    model.load_state_dict(torch.load('checkpt/epoch_500/influence/' + str(client)+ '_fedl_global_500.pth'))\n",
    "    val_data_path =  \"testpt/\"+str(client)+\".pt\"\n",
    "    val_set = torch.load(val_data_path)\n",
    "    inf = influence(global_model,model,val_set)\n",
    "    inf_val.append(round(inf.item(),4))\n",
    "   \n",
    "data = {\"client id\": client_ids, \"inf_val\": inf_val}\n",
    "data = pd.DataFrame(data)\n",
    "data.to_csv(\"insights/influence_with_pred_diff_ex1.csv\" , index=False)"
   ]
  },
  {
   "cell_type": "markdown",
   "id": "fec6f7c4",
   "metadata": {},
   "source": [
    "## Influence with prediction difference at 1 global round and 25 local rounds"
   ]
  },
  {
   "cell_type": "code",
   "execution_count": null,
   "id": "3b8cf202",
   "metadata": {},
   "outputs": [],
   "source": [
    "global_model = ShallowNN(features)\n",
    "global_model.load_state_dict(torch.load('checkpt/saving/epoch_500/global_1/global_model.pth'))\n",
    "\n",
    "inf_val_test = []\n",
    "for client in client_ids:\n",
    "    model = ShallowNN(features)\n",
    "    model.load_state_dict(torch.load('checkpt/epoch_25/influence/1_rounds_25_epochs_per_round/' + str(client)+ '_fedl_global_1_25.pth'))\n",
    "    val_data_path =  \"testpt/\"+str(client)+\".pt\"\n",
    "    val_set = torch.load(val_data_path)\n",
    "    inf = influence(global_model,model,val_set)\n",
    "    inf_val_test.append(round(inf.item(),4))\n",
    "    \n",
    "data_test = {\"client id\": client_ids, \"inf_val\": inf_val_test}\n",
    "data_test = pd.DataFrame(data_test)\n",
    "data_test.to_csv(\"insights/influence_with_pred_diff_ex2.csv\" , index=False)"
   ]
  },
  {
   "cell_type": "markdown",
   "id": "a345ea02",
   "metadata": {},
   "source": [
    "## Influence with mae at 1 global round and 25 local rounds"
   ]
  },
  {
   "cell_type": "code",
   "execution_count": null,
   "id": "be237c40",
   "metadata": {},
   "outputs": [],
   "source": [
    "performance_inf = []\n",
    "for client in client_ids:\n",
    "    isolated_model = ShallowNN(features)\n",
    "    isolated_model.load_state_dict(torch.load('checkpt/epoch_500/influence/' + str(client)+ '_fedl_global_500.pth'))\n",
    "    val_data_path =  \"testpt/\"+str(client)+\".pt\"\n",
    "    val_set = torch.load(val_data_path)\n",
    "    val_loader = DataLoader(val_set, batch_size, shuffle = True)\n",
    "    \n",
    "    _, _ , isolated_mae = evaluate(isolated_model, val_loader, loss_fn)\n",
    "    _, _ , global_mae = evaluate(global_model,val_loader,loss_fn)\n",
    "    \n",
    "    inf = global_mae - isolated_mae\n",
    "    \n",
    "    performance_inf.append(round(inf.item(),4))\n",
    "\n",
    "data = {\"client id\": client_ids, \"inf_val\": performance_inf}\n",
    "data = pd.DataFrame(data)\n",
    "data.to_csv(\"insights/influence_with_mae_ex2.csv\" , index=False)"
   ]
  },
  {
   "cell_type": "markdown",
   "id": "5c5471d9",
   "metadata": {
    "jp-MarkdownHeadingCollapsed": true
   },
   "source": [
    "## Eccentricity  $\\xi^L$ \n",
    "\n",
    "$\n",
    "\\begin{equation}\\label{eq:Ecc1}\n",
    "\\xi_i = \\frac{2\\sum_{j=1}^{k}d(\\mathcal{H}_{\\mu_i}, \\mathcal{H}_{\\mu_j})}{\\sum_{l=1}^{k}\\sum _{j=1}^{k} d(\\mathcal{H}_{\\mu_l}, \\mathcal{H}_{\\mu_j})},\n",
    "\\end{equation}\n",
    "$\n",
    "\n",
    "Where  $\\mathcal{H}_{\\mu_i}$ is the Hessian matrix of client $i$, and $d(.,.)$ is the Euclidean distance between the Hessian matrices of two clients. "
   ]
  },
  {
   "cell_type": "code",
   "execution_count": null,
   "id": "5be124b8",
   "metadata": {},
   "outputs": [],
   "source": [
    "local_matrix_dict = {\n",
    "        key: torch.load(\"hessians/epoch_500/iso/\" + str(key) + \".pth\")\n",
    "        for key in client_ids\n",
    "    }"
   ]
  },
  {
   "cell_type": "code",
   "execution_count": null,
   "id": "ffdcbf7c",
   "metadata": {},
   "outputs": [],
   "source": [
    "ecce_dict = hessian_eccentricity(local_matrix_dict, euclidean_distance)\n",
    "ecc_hessian = {\"client id\": client_ids, \"hess_ecc\": list(ecce_dict.values())}\n",
    "ecc_hessian = pd.DataFrame(ecc_hessian)\n",
    "ecc_hessian.to_csv(\"insights/eccentricity_with_hessian_euclidean_with_local_model.csv\" , index=False)"
   ]
  },
  {
   "cell_type": "markdown",
   "id": "187af1ff",
   "metadata": {},
   "source": [
    "## Eccentricity $\\xi^G$ \n",
    "\n",
    "$\n",
    "\\begin{equation}\\label{eq:Ecc1}\n",
    "\\xi_i = \\frac{2\\sum_{j=1}^{k}d(\\mathcal{H}^i_{\\mathcal M}, \\mathcal{H}^j_{\\mathcal M})}{\\sum_{l=1}^{k}\\sum _{j=1}^{k} d(\\mathcal{H}^l_{\\mathcal M}, \\mathcal{H}^j_{\\mathcal M})},\n",
    "\\end{equation}\n",
    "$\n",
    "\n",
    "where $\\mathcal{H}^i_{\\mathcal M}$ is the Hessian matrix of client $i$, and $d(.,.)$ is the Euclidean distance between the Hessian matrices global with respect to the validation dataset of clients $i$. "
   ]
  },
  {
   "cell_type": "code",
   "execution_count": null,
   "id": "ea27cf65",
   "metadata": {},
   "outputs": [],
   "source": [
    "global_matrix_dict = {\n",
    "        key: torch.load(\"hessians/epoch_500/fed/\" + str(key) + \".pth\")\n",
    "        for key in client_ids\n",
    "    }"
   ]
  },
  {
   "cell_type": "code",
   "execution_count": null,
   "id": "0e62f60d",
   "metadata": {},
   "outputs": [],
   "source": [
    "ecce_dict_g = hessian_eccentricity(global_matrix_dict, euclidean_distance)\n",
    "ecc_hessian_g = {\"client id\": client_ids, \"hess_ecc\": list(ecce_dict_g.values())}\n",
    "ecc_hessian_g = pd.DataFrame(ecc_hessian)\n",
    "ecc_hessian_g.to_csv(\"insights/eccentricity_with_hessian_euclidean_with_globall_model.csv\" , index=False)"
   ]
  },
  {
   "cell_type": "code",
   "execution_count": null,
   "id": "c6222ffb",
   "metadata": {},
   "outputs": [],
   "source": [
    "[0.022619629561823677, 1.62271054254116, -0.5735217639598182, 0, -0.7876090943058588, 0, 0.43482986006497976, 1.6028013361292264, -0.10931628063829524, -0.6966764002778227, -0.17369175360870828, 0.16841961315934875, -0.015073389215806005, -0.4861588087040261, -0.06287855664828562, -0.23575240856089766, 0.07736005847409497, 0.7842280658106887, 0.12698984913067995, -0.08667967230145918, 0.15672320636514706, 0.13853950906135654, 0.7912020259738062, 0.6457963290841103]"
   ]
  }
 ],
 "metadata": {
  "kernelspec": {
   "display_name": "Python 3 (ipykernel)",
   "language": "python",
   "name": "python3"
  },
  "language_info": {
   "codemirror_mode": {
    "name": "ipython",
    "version": 3
   },
   "file_extension": ".py",
   "mimetype": "text/x-python",
   "name": "python",
   "nbconvert_exporter": "python",
   "pygments_lexer": "ipython3",
   "version": "3.12.2"
  }
 },
 "nbformat": 4,
 "nbformat_minor": 5
}
