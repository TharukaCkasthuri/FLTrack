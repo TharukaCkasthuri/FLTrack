{
 "cells": [
  {
   "cell_type": "code",
   "execution_count": 1,
   "id": "37b86d0f",
   "metadata": {},
   "outputs": [],
   "source": [
    "import pandas as pd"
   ]
  },
  {
   "cell_type": "code",
   "execution_count": 2,
   "id": "c70f08e5",
   "metadata": {},
   "outputs": [],
   "source": [
    "benificts = pd.read_csv(\"insights/benifict.csv\")\n",
    "influence = pd.read_csv(\"insights/influence_with_pred_diff.csv\")\n",
    "influence_mae = pd.read_csv(\"insights/influence_with_batch_mae.csv\")\n",
    "eccentricities_3 =  pd.read_csv(\"insights/eccentricities_3.csv\")"
   ]
  },
  {
   "cell_type": "code",
   "execution_count": 3,
   "id": "f7ca0926",
   "metadata": {},
   "outputs": [],
   "source": [
    "benificts = benificts[['clients','Benefict']]"
   ]
  },
  {
   "cell_type": "code",
   "execution_count": 4,
   "id": "a4f272eb",
   "metadata": {},
   "outputs": [],
   "source": [
    "benificts[\"influence\"] = influence.inf_val.values\n",
    "benificts[\"influence_mae\"] = influence_mae.inf_val.values\n",
    "benificts[\"eccentricities_3\"] = eccentricities_3.eccentricity.values"
   ]
  },
  {
   "cell_type": "code",
   "execution_count": 5,
   "id": "df2a9f6d",
   "metadata": {},
   "outputs": [
    {
     "data": {
      "text/html": [
       "<div>\n",
       "<style scoped>\n",
       "    .dataframe tbody tr th:only-of-type {\n",
       "        vertical-align: middle;\n",
       "    }\n",
       "\n",
       "    .dataframe tbody tr th {\n",
       "        vertical-align: top;\n",
       "    }\n",
       "\n",
       "    .dataframe thead th {\n",
       "        text-align: right;\n",
       "    }\n",
       "</style>\n",
       "<table border=\"1\" class=\"dataframe\">\n",
       "  <thead>\n",
       "    <tr style=\"text-align: right;\">\n",
       "      <th></th>\n",
       "      <th>Benefict</th>\n",
       "      <th>influence</th>\n",
       "      <th>influence_mae</th>\n",
       "      <th>eccentricities_3</th>\n",
       "    </tr>\n",
       "  </thead>\n",
       "  <tbody>\n",
       "    <tr>\n",
       "      <th>Benefict</th>\n",
       "      <td>1.000000</td>\n",
       "      <td>-0.221416</td>\n",
       "      <td>0.160585</td>\n",
       "      <td>-0.072727</td>\n",
       "    </tr>\n",
       "    <tr>\n",
       "      <th>influence</th>\n",
       "      <td>-0.221416</td>\n",
       "      <td>1.000000</td>\n",
       "      <td>-0.054646</td>\n",
       "      <td>0.083485</td>\n",
       "    </tr>\n",
       "    <tr>\n",
       "      <th>influence_mae</th>\n",
       "      <td>0.160585</td>\n",
       "      <td>-0.054646</td>\n",
       "      <td>1.000000</td>\n",
       "      <td>0.124088</td>\n",
       "    </tr>\n",
       "    <tr>\n",
       "      <th>eccentricities_3</th>\n",
       "      <td>-0.072727</td>\n",
       "      <td>0.083485</td>\n",
       "      <td>0.124088</td>\n",
       "      <td>1.000000</td>\n",
       "    </tr>\n",
       "  </tbody>\n",
       "</table>\n",
       "</div>"
      ],
      "text/plain": [
       "                  Benefict  influence  influence_mae  eccentricities_3\n",
       "Benefict          1.000000  -0.221416       0.160585         -0.072727\n",
       "influence        -0.221416   1.000000      -0.054646          0.083485\n",
       "influence_mae     0.160585  -0.054646       1.000000          0.124088\n",
       "eccentricities_3 -0.072727   0.083485       0.124088          1.000000"
      ]
     },
     "execution_count": 5,
     "metadata": {},
     "output_type": "execute_result"
    }
   ],
   "source": [
    "benificts[[\"Benefict\", \"influence\",\"influence_mae\",\"eccentricities_3\"]].corr(method='kendall')"
   ]
  },
  {
   "cell_type": "code",
   "execution_count": null,
   "id": "2b885aca",
   "metadata": {},
   "outputs": [],
   "source": []
  }
 ],
 "metadata": {
  "kernelspec": {
   "display_name": "Python 3 (ipykernel)",
   "language": "python",
   "name": "python3"
  },
  "language_info": {
   "codemirror_mode": {
    "name": "ipython",
    "version": 3
   },
   "file_extension": ".py",
   "mimetype": "text/x-python",
   "name": "python",
   "nbconvert_exporter": "python",
   "pygments_lexer": "ipython3",
   "version": "3.11.4"
  }
 },
 "nbformat": 4,
 "nbformat_minor": 5
}
