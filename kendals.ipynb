{
 "cells": [
  {
   "cell_type": "code",
   "execution_count": 1,
   "id": "37b86d0f",
   "metadata": {},
   "outputs": [],
   "source": [
    "import pandas as pd"
   ]
  },
  {
   "cell_type": "code",
   "execution_count": 18,
   "id": "1a8dca03",
   "metadata": {},
   "outputs": [],
   "source": [
    "benificts = pd.read_csv(\"../insights/benifict.csv\")\n",
    "influence = pd.read_csv(\"../insights/influence_with_pred_diff_ex1.csv\")"
   ]
  },
  {
   "cell_type": "code",
   "execution_count": 19,
   "id": "f7ca0926",
   "metadata": {},
   "outputs": [],
   "source": [
    "benificts = benificts[['clients','Benefict']]"
   ]
  },
  {
   "cell_type": "code",
   "execution_count": 20,
   "id": "463fafb8",
   "metadata": {},
   "outputs": [],
   "source": [
    "benificts = benificts.rename(columns={\"Benefict\": \"benefit\"})"
   ]
  },
  {
   "cell_type": "code",
   "execution_count": null,
   "id": "a4f272eb",
   "metadata": {},
   "outputs": [],
   "source": [
    "benificts[\"Influence\"] = influence.inf_val.values\n",
    "benificts[\"Eccentricity based on parameters\"] = eccentricities.average.values\n",
    "benificts[\"Eccentricity global model\"] = ecce_global_model.hess_ecc.values\n",
    "benificts[\"Eccentricity isolated_model\"] = ecce_isolated_model.hess_ecc.values\n",
    "#benificts[\"Eccentricity Parameter\"] = lrp_eccetricities.average.values"
   ]
  },
  {
   "cell_type": "code",
   "execution_count": null,
   "id": "df2a9f6d",
   "metadata": {},
   "outputs": [],
   "source": [
    "benificts[[\"benefit\", \"Influence\",\"Eccentricity based on parameters\",\"Eccentricity global model\",\"Eccentricity isolated_model\"]].corr(method='kendall')"
   ]
  },
  {
   "cell_type": "code",
   "execution_count": null,
   "id": "2ccda17e",
   "metadata": {},
   "outputs": [],
   "source": [
    "import seaborn as sns\n",
    "import matplotlib.pyplot as plt\n",
    "\n",
    "selected_columns = [\"benefit\", \"Influence\", \"Eccentricity based on parameters\", \"Eccentricity global model\", \"Eccentricity isolated_model\"]\n",
    "\n",
    "corr = benificts[selected_columns].corr(method='kendall')\n",
    "\n",
    "plt.figure(figsize=(8, 6))  # Adjust the figure size if needed\n",
    "sns.heatmap(corr, annot=True, cmap='coolwarm', fmt=\".2f\", linewidths=0.5)\n",
    "plt.title(\"Kendals ranking Heatmap\")\n",
    "plt.show()"
   ]
  },
  {
   "cell_type": "code",
   "execution_count": null,
   "id": "0fb4554e",
   "metadata": {},
   "outputs": [],
   "source": [
    "import seaborn as sns\n",
    "import matplotlib.pyplot as plt\n",
    "import numpy as np\n",
    "\n",
    "selected_columns = [\"benefit\", \"Influence\", \"Eccentricity based on parameters\", \"Eccentricity global model\", \"Eccentricity isolated_model\"]\n",
    "\n",
    "corr = benificts[selected_columns].corr(method='kendall')\n",
    "\n",
    "mask = np.triu(np.ones_like(corr, dtype=bool), k=1)\n",
    "\n",
    "vmin = -0.6 \n",
    "vmax = 1\n",
    "\n",
    "plt.figure(figsize=(8, 6))\n",
    "heatmap = sns.heatmap(corr, annot=True, cmap='coolwarm', fmt=\".2f\", linewidths=0.5, mask=mask, vmin=vmin, vmax=vmax)\n",
    "\n",
    "latex_labels = ['Benifit', 'Influence', '$\\\\xi^P$', '$\\\\xi^G$', '$\\\\xi^L$']\n",
    "heatmap.set_xticklabels(latex_labels, rotation=0, horizontalalignment='center')\n",
    "heatmap.set_yticklabels(latex_labels, rotation=0, horizontalalignment='right')\n",
    "\n",
    "plt.show()"
   ]
  },
  {
   "cell_type": "code",
   "execution_count": null,
   "id": "28ccaf9c",
   "metadata": {},
   "outputs": [],
   "source": [
    "benif_25 = pd.read_csv(\"insights/benefit_25.csv\")\n",
    "ecce_at_25 = pd.read_csv(\"insights/eccentricity_with_global_model_based_3_at_25_epoch.csv\")\n",
    "inf_25 = pd.read_csv(\"insights/influence_with_pred_diff_test.csv\")\n",
    "lrp_eccetricities_25 = pd.read_csv(\"insights/eccentricity_with_lrp_25_epoch.csv\")\n",
    "lrp_eccentricities_iso_25 = pd.read_csv(\"insights/eccentricity_with_isolated_model_based_3_at_25_epoch.csv\")"
   ]
  },
  {
   "cell_type": "code",
   "execution_count": null,
   "id": "1a061ba3",
   "metadata": {},
   "outputs": [],
   "source": [
    "benif_25 = benif_25[['clients','Benefit']]"
   ]
  },
  {
   "cell_type": "code",
   "execution_count": null,
   "id": "eeab824e",
   "metadata": {},
   "outputs": [],
   "source": [
    "benif_25[\"influence\"] = inf_25.inf_val.values\n",
    "benif_25[\"ecc_global\"] = ecce_at_25.hess_ecc.values\n",
    "benif_25[\"parameter ecc average\"] = lrp_eccetricities_25.average.values\n",
    "benif_25[\"ecc_iso\"] = lrp_eccentricities_iso_25.hess_ecc.values"
   ]
  },
  {
   "cell_type": "code",
   "execution_count": null,
   "id": "98d28eb4",
   "metadata": {},
   "outputs": [],
   "source": [
    "benif_25[[\"Benefit\", \"influence\",\"ecc_global\", \"parameter ecc average\",\"ecc_iso\"]].corr(method='kendall')"
   ]
  },
  {
   "cell_type": "code",
   "execution_count": null,
   "id": "9314351c",
   "metadata": {},
   "outputs": [],
   "source": [
    "import seaborn as sns\n",
    "import matplotlib.pyplot as plt\n",
    "import numpy as np\n",
    "\n",
    "selected_columns = [\"Benefit\", \"influence\", \"parameter ecc average\", \"ecc_global\", \"ecc_iso\"]\n",
    "\n",
    "corr = benif_25[selected_columns].corr(method='kendall')\n",
    "\n",
    "# Create a mask to display only one value for each pair of correlation\n",
    "mask = np.triu(np.ones_like(corr, dtype=bool), k=1)\n",
    "\n",
    "# Set a consistent color bar range for both heatmaps\n",
    "vmin = -0.6  # Minimum value for the color bar\n",
    "vmax = 1   # Maximum value for the color bar\n",
    "\n",
    "plt.figure(figsize=(8, 6))\n",
    "heatmap = sns.heatmap(corr, annot=True, cmap='coolwarm', fmt=\".2f\", linewidths=0.5, mask=mask, vmin=vmin, vmax=vmax)\n",
    "\n",
    "latex_labels = ['Benifit', 'Influence', '$\\\\xi^P$', '$\\\\xi^G$', '$\\\\xi^L$']\n",
    "heatmap.set_xticklabels(latex_labels, rotation=0, horizontalalignment='center')\n",
    "heatmap.set_yticklabels(latex_labels, rotation=0, horizontalalignment='right')\n",
    "\n",
    "plt.show()\n"
   ]
  },
  {
   "cell_type": "code",
   "execution_count": null,
   "id": "17bf5d55",
   "metadata": {},
   "outputs": [],
   "source": []
  }
 ],
 "metadata": {
  "kernelspec": {
   "display_name": "Python 3 (ipykernel)",
   "language": "python",
   "name": "python3"
  },
  "language_info": {
   "codemirror_mode": {
    "name": "ipython",
    "version": 3
   },
   "file_extension": ".py",
   "mimetype": "text/x-python",
   "name": "python",
   "nbconvert_exporter": "python",
   "pygments_lexer": "ipython3",
   "version": "3.11.5"
  }
 },
 "nbformat": 4,
 "nbformat_minor": 5
}
