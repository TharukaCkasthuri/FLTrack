{
 "cells": [
  {
   "cell_type": "code",
   "execution_count": 29,
   "id": "8263943a",
   "metadata": {},
   "outputs": [],
   "source": [
    "import os\n",
    "import time\n",
    "import torch\n",
    "\n",
    "import pandas as pd\n",
    "import numpy as np\n",
    "\n",
    "import matplotlib.pyplot as plt\n",
    "from torch.utils.data import DataLoader\n",
    "\n",
    "from models import ShallowNN\n",
    "from utils import load_file, get_all_possible_pairs\n",
    "from evals import evaluate, pairwise_euclidean_distance , influence, calculate_hessian_flattened\n",
    "from evals import euclidean_distance, manhattan_distance, pairwise_euclidean_distance, accumulated_proximity, full_accumulated_proximity\n",
    "\n",
    "features = 197\n",
    "batch_size = 64\n",
    "loss_fn = torch.nn.L1Loss()"
   ]
  },
  {
   "cell_type": "code",
   "execution_count": 6,
   "id": "3f1b5973",
   "metadata": {},
   "outputs": [],
   "source": [
    "client_ids = [f\"{i}_{j}\" for i in range(4) for j in range(6)]"
   ]
  },
  {
   "cell_type": "markdown",
   "id": "e81c3383",
   "metadata": {},
   "source": [
    "## 500 Global Round and 1 Local Round"
   ]
  },
  {
   "cell_type": "code",
   "execution_count": 3,
   "id": "79cb6efb",
   "metadata": {},
   "outputs": [
    {
     "data": {
      "text/plain": [
       "<All keys matched successfully>"
      ]
     },
     "execution_count": 3,
     "metadata": {},
     "output_type": "execute_result"
    }
   ],
   "source": [
    "global_model = ShallowNN(features)\n",
    "global_model.load_state_dict(torch.load('checkpt/epoch_500/_fedl_global_500.pth'))"
   ]
  },
  {
   "cell_type": "code",
   "execution_count": 8,
   "id": "1b146c55",
   "metadata": {},
   "outputs": [],
   "source": [
    "def hessian(client):\n",
    "    \n",
    "    dataset = torch.load(\"trainpt/\"+ str(client)+\".pt\")\n",
    "    data_loader = DataLoader(dataset, batch_size, shuffle=True)\n",
    "                                              \n",
    "    fed_hessian_mat , _  = calculate_hessian_flattened(global_model,loss_fn,data_loader)\n",
    "    \n",
    "    return fed_hessian_mat"
   ]
  },
  {
   "cell_type": "code",
   "execution_count": 9,
   "id": "a68c2e42",
   "metadata": {},
   "outputs": [
    {
     "name": "stdout",
     "output_type": "stream",
     "text": [
      "Calculation time of Gradients 0.017606019973754883\n",
      "Calculation time of Hessian 9.303941015402476\n",
      "Client 0_0 done.\n",
      "Calculation time of Gradients 0.01801896095275879\n",
      "Calculation time of Hessian 9.503507733345032\n",
      "Client 0_1 done.\n",
      "Calculation time of Gradients 0.018792152404785156\n",
      "Calculation time of Hessian 9.581230354309081\n",
      "Client 0_2 done.\n",
      "Calculation time of Gradients 0.017399072647094727\n",
      "Calculation time of Hessian 9.333001538117726\n",
      "Client 0_3 done.\n",
      "Calculation time of Gradients 0.01732492446899414\n",
      "Calculation time of Hessian 9.43962384859721\n",
      "Client 0_4 done.\n",
      "Calculation time of Gradients 0.017280101776123047\n",
      "Calculation time of Hessian 9.395591231187185\n",
      "Client 0_5 done.\n",
      "Calculation time of Gradients 0.018857955932617188\n",
      "Calculation time of Hessian 10.077910633881887\n",
      "Client 1_0 done.\n",
      "Calculation time of Gradients 0.019461870193481445\n",
      "Calculation time of Hessian 10.016091732184092\n",
      "Client 1_1 done.\n",
      "Calculation time of Gradients 0.01909804344177246\n",
      "Calculation time of Hessian 10.485284002621968\n",
      "Client 1_2 done.\n",
      "Calculation time of Gradients 0.018629074096679688\n",
      "Calculation time of Hessian 25.914961234728494\n",
      "Client 1_3 done.\n",
      "Calculation time of Gradients 0.018527984619140625\n",
      "Calculation time of Hessian 14.642388896147411\n",
      "Client 1_4 done.\n",
      "Calculation time of Gradients 0.018751144409179688\n",
      "Calculation time of Hessian 10.37189303636551\n",
      "Client 1_5 done.\n",
      "Calculation time of Gradients 0.013956785202026367\n",
      "Calculation time of Hessian 7.322350831826528\n",
      "Client 2_0 done.\n",
      "Calculation time of Gradients 0.015156030654907227\n",
      "Calculation time of Hessian 7.444898204008738\n",
      "Client 2_1 done.\n",
      "Calculation time of Gradients 0.014940977096557617\n",
      "Calculation time of Hessian 7.389238663514456\n",
      "Client 2_2 done.\n",
      "Calculation time of Gradients 0.014709711074829102\n",
      "Calculation time of Hessian 7.274804111321767\n",
      "Client 2_3 done.\n",
      "Calculation time of Gradients 0.01424717903137207\n",
      "Calculation time of Hessian 7.327701803048452\n",
      "Client 2_4 done.\n",
      "Calculation time of Gradients 0.014888763427734375\n",
      "Calculation time of Hessian 7.263928532600403\n",
      "Client 2_5 done.\n",
      "Calculation time of Gradients 0.020328998565673828\n",
      "Calculation time of Hessian 11.41026350259781\n",
      "Client 3_0 done.\n",
      "Calculation time of Gradients 0.022110939025878906\n",
      "Calculation time of Hessian 11.406479465961457\n",
      "Client 3_1 done.\n",
      "Calculation time of Gradients 0.021792888641357422\n",
      "Calculation time of Hessian 11.286374628543854\n",
      "Client 3_2 done.\n",
      "Calculation time of Gradients 0.02057194709777832\n",
      "Calculation time of Hessian 11.164040716489156\n",
      "Client 3_3 done.\n",
      "Calculation time of Gradients 0.02094101905822754\n",
      "Calculation time of Hessian 11.87426168123881\n",
      "Client 3_4 done.\n",
      "Calculation time of Gradients 0.019917011260986328\n",
      "Calculation time of Hessian 11.368118119239806\n",
      "Client 3_5 done.\n"
     ]
    }
   ],
   "source": [
    "for client in client_ids:\n",
    "    fed_hessian_mat = hessian(client)\n",
    "    torch.save(fed_hessian_mat, \"hessians/epoch_500/train_fed/\"+str(client)+\".pth\")\n",
    "    print(\"Client \" +str(client)+ \" done.\")"
   ]
  },
  {
   "cell_type": "code",
   "execution_count": null,
   "id": "5d12087b",
   "metadata": {},
   "outputs": [
    {
     "name": "stdout",
     "output_type": "stream",
     "text": [
      "1.3976\n",
      "1.3468\n",
      "1.6332\n",
      "3.4409\n",
      "1.4376\n",
      "1.5074\n",
      "1.097\n",
      "1.0757\n",
      "0.6723\n",
      "3.4592\n",
      "0.7504\n"
     ]
    }
   ],
   "source": [
    "eigen_values = []\n",
    "for client in client_ids:\n",
    "    client_hess = torch.load(\"hessians/epoch_500/train_fed/\"+str(client)+\".pth\")\n",
    "    eigenvalues = np.linalg.eigvals(client_hess)\n",
    "    sorted_eigenvalues = np.sort(eigenvalues)[::-1]\n",
    "    top_eigenvalues = sorted_eigenvalues[:1]\n",
    "    eigen_values.append(round(top_eigenvalues[0].real,4))\n",
    "    print(round(top_eigenvalues[0].real,4))"
   ]
  },
  {
   "cell_type": "markdown",
   "id": "04037cfd",
   "metadata": {},
   "source": [
    "## 1 Global Round and 25 Local Round"
   ]
  },
  {
   "cell_type": "code",
   "execution_count": 2,
   "id": "e453792a",
   "metadata": {},
   "outputs": [
    {
     "data": {
      "text/plain": [
       "<All keys matched successfully>"
      ]
     },
     "execution_count": 2,
     "metadata": {},
     "output_type": "execute_result"
    }
   ],
   "source": [
    "global_model = ShallowNN(features)\n",
    "global_model.load_state_dict(torch.load('checkpt/epoch_25/1_rounds_25_epochs_per_round/_fedl_global_1_25.pth'))"
   ]
  },
  {
   "cell_type": "code",
   "execution_count": 7,
   "id": "63433d36",
   "metadata": {},
   "outputs": [],
   "source": [
    "def hessian(client):\n",
    "    \n",
    "    dataset = torch.load(\"trainpt/\"+ str(client)+\".pt\")\n",
    "    data_loader = DataLoader(dataset, batch_size, shuffle=True)\n",
    "                                              \n",
    "    fed_hessian_mat , _  = calculate_hessian_flattened(global_model,loss_fn,data_loader)\n",
    "    \n",
    "    return fed_hessian_mat"
   ]
  },
  {
   "cell_type": "code",
   "execution_count": 8,
   "id": "e5410057",
   "metadata": {},
   "outputs": [
    {
     "name": "stdout",
     "output_type": "stream",
     "text": [
      "Calculation time of Gradients 0.05275988578796387\n",
      "Calculation time of Hessian 9.325196115175883\n",
      "Client 0_0 done.\n",
      "Calculation time of Gradients 0.018674373626708984\n",
      "Calculation time of Hessian 9.453354402383168\n",
      "Client 0_1 done.\n",
      "Calculation time of Gradients 0.022162914276123047\n",
      "Calculation time of Hessian 9.664005148410798\n",
      "Client 0_2 done.\n",
      "Calculation time of Gradients 0.017602205276489258\n",
      "Calculation time of Hessian 9.44288760026296\n",
      "Client 0_3 done.\n",
      "Calculation time of Gradients 0.01822829246520996\n",
      "Calculation time of Hessian 9.449368317921957\n",
      "Client 0_4 done.\n",
      "Calculation time of Gradients 0.017702817916870117\n",
      "Calculation time of Hessian 9.337438428401947\n",
      "Client 0_5 done.\n",
      "Calculation time of Gradients 0.018970251083374023\n",
      "Calculation time of Hessian 50.031545066833495\n",
      "Client 1_0 done.\n",
      "Calculation time of Gradients 0.019299030303955078\n",
      "Calculation time of Hessian 10.383516518274943\n",
      "Client 1_1 done.\n",
      "Calculation time of Gradients 0.02052783966064453\n",
      "Calculation time of Hessian 10.366246167818705\n",
      "Client 1_2 done.\n",
      "Calculation time of Gradients 0.019771814346313477\n",
      "Calculation time of Hessian 10.441946963469187\n",
      "Client 1_3 done.\n",
      "Calculation time of Gradients 0.019265174865722656\n",
      "Calculation time of Hessian 10.361281418800354\n",
      "Client 1_4 done.\n",
      "Calculation time of Gradients 0.019402027130126953\n",
      "Calculation time of Hessian 10.359207065900167\n",
      "Client 1_5 done.\n",
      "Calculation time of Gradients 0.01396799087524414\n",
      "Calculation time of Hessian 7.3290022850036625\n",
      "Client 2_0 done.\n",
      "Calculation time of Gradients 0.015097856521606445\n",
      "Calculation time of Hessian 7.375373415152231\n",
      "Client 2_1 done.\n",
      "Calculation time of Gradients 0.014856815338134766\n",
      "Calculation time of Hessian 7.359480698903401\n",
      "Client 2_2 done.\n",
      "Calculation time of Gradients 0.014548063278198242\n",
      "Calculation time of Hessian 7.372458648681641\n",
      "Client 2_3 done.\n",
      "Calculation time of Gradients 0.016230106353759766\n",
      "Calculation time of Hessian 7.375281083583832\n",
      "Client 2_4 done.\n",
      "Calculation time of Gradients 0.016272783279418945\n",
      "Calculation time of Hessian 11.583468548456828\n",
      "Client 2_5 done.\n",
      "Calculation time of Gradients 0.022940874099731445\n",
      "Calculation time of Hessian 11.685693764686585\n",
      "Client 3_0 done.\n",
      "Calculation time of Gradients 0.02105402946472168\n",
      "Calculation time of Hessian 13.62529005209605\n",
      "Client 3_1 done.\n",
      "Calculation time of Gradients 0.0221102237701416\n",
      "Calculation time of Hessian 11.276453403631846\n",
      "Client 3_2 done.\n",
      "Calculation time of Gradients 0.024013042449951172\n",
      "Calculation time of Hessian 11.332519165674846\n",
      "Client 3_3 done.\n",
      "Calculation time of Gradients 0.0211179256439209\n",
      "Calculation time of Hessian 13.029630947113038\n",
      "Client 3_4 done.\n",
      "Calculation time of Gradients 0.02296924591064453\n",
      "Calculation time of Hessian 11.337000087896984\n",
      "Client 3_5 done.\n"
     ]
    }
   ],
   "source": [
    "for client in client_ids:\n",
    "    fed_hessian_mat = hessian(client)\n",
    "    torch.save(fed_hessian_mat, \"hessians/epoch_25/train_fed/\"+str(client)+\".pth\")\n",
    "    print(\"Client \" +str(client)+ \" done.\")"
   ]
  },
  {
   "cell_type": "code",
   "execution_count": 30,
   "id": "ba9cd61d",
   "metadata": {},
   "outputs": [],
   "source": [
    "matrix_dict_fed = {\n",
    "        key: torch.load(\"hessians/epoch_25/train_fed/\"+str(client)+\".pth\")\n",
    "        for key in client_ids\n",
    "    }"
   ]
  },
  {
   "cell_type": "code",
   "execution_count": 31,
   "id": "a431e7fc",
   "metadata": {},
   "outputs": [
    {
     "name": "stdout",
     "output_type": "stream",
     "text": [
      "12624.96\n",
      "12513.3584\n",
      "23060.1074\n",
      "37059.5508\n",
      "23537.2656\n",
      "14262.4463\n",
      "10858.4521\n",
      "10763.6084\n",
      "17709.8262\n",
      "32710.5\n",
      "15987.3975\n",
      "14450.4844\n",
      "5246.8604\n",
      "5286.2817\n",
      "4596.5171\n",
      "6220.5342\n",
      "5011.7891\n",
      "4133.6719\n",
      "4195.6997\n",
      "3905.4023\n",
      "3567.9146\n",
      "5247.8247\n",
      "3259.3577\n",
      "0.0\n"
     ]
    }
   ],
   "source": [
    "eccentricities = []\n",
    "\n",
    "for client in client_ids:\n",
    "    client_matrix = torch.load(\"hessians/epoch_25/train_fed/\" + str(client) + \".pth\")\n",
    "    acc_proximity = 0.0\n",
    "    for key in matrix_dict_fed:\n",
    "        distance = accumulated_proximity(matrix_dict_fed[key], client_matrix, euclidean_distance)\n",
    "        acc_proximity += distance\n",
    "    \n",
    "    eccentricities.append(round(acc_proximity.item(),4))\n",
    "    print(round(acc_proximity.item(),4))"
   ]
  },
  {
   "cell_type": "code",
   "execution_count": null,
   "id": "e31fb21c",
   "metadata": {},
   "outputs": [],
   "source": [
    "full_ecc = []\n",
    "full_acc_proximity = sum(eccentricities)\n",
    "\n",
    "for item in eccentricities:\n",
    "    full_ecc.append(round((item/full_acc_proximity),4))"
   ]
  },
  {
   "cell_type": "code",
   "execution_count": null,
   "id": "b3b5c7d3",
   "metadata": {},
   "outputs": [],
   "source": [
    "ecc_hessian = {\"client id\": client_ids, \"hess_ecc\": full_ecc}\n",
    "ecc_hessian = pd.DataFrame(ecc_hessian)\n",
    "ecc_hessian.to_csv(\"insights/eccentricity_with_global_model_based_3_at_25_epoch.csv\" , index=False)"
   ]
  },
  {
   "cell_type": "markdown",
   "id": "34a38d17",
   "metadata": {},
   "source": [
    "### Hessian Matrix for isolated model"
   ]
  },
  {
   "cell_type": "code",
   "execution_count": 20,
   "id": "0e15be86",
   "metadata": {},
   "outputs": [],
   "source": [
    "def hessian_iso(client):\n",
    "    \n",
    "    dataset = torch.load(\"trainpt/\"+ str(client)+\".pt\")\n",
    "    data_loader = DataLoader(dataset, batch_size, shuffle=True)\n",
    "    \n",
    "    client_model = ShallowNN(features)\n",
    "    client_model.load_state_dict(torch.load(\"checkpt/epoch_25/isolated/batch64_client_\"+ str(client)+ \".pth\"))\n",
    "                                              \n",
    "    fed_hessian_mat , _  = calculate_hessian_flattened(client_model,loss_fn,data_loader)\n",
    "    \n",
    "    return fed_hessian_mat"
   ]
  },
  {
   "cell_type": "code",
   "execution_count": 21,
   "id": "0921abb4",
   "metadata": {},
   "outputs": [
    {
     "name": "stdout",
     "output_type": "stream",
     "text": [
      "Calculation time of Gradients 0.02161884307861328\n",
      "Calculation time of Hessian 29.918104366461435\n",
      "Client 0_0 done.\n",
      "Calculation time of Gradients 0.019407987594604492\n",
      "Calculation time of Hessian 9.518111634254456\n",
      "Client 0_1 done.\n",
      "Calculation time of Gradients 0.017426013946533203\n",
      "Calculation time of Hessian 9.419407320022582\n",
      "Client 0_2 done.\n",
      "Calculation time of Gradients 0.018080949783325195\n",
      "Calculation time of Hessian 9.39827203353246\n",
      "Client 0_3 done.\n",
      "Calculation time of Gradients 0.018204927444458008\n",
      "Calculation time of Hessian 9.36241496404012\n",
      "Client 0_4 done.\n",
      "Calculation time of Gradients 0.017712116241455078\n",
      "Calculation time of Hessian 9.396783502896627\n",
      "Client 0_5 done.\n",
      "Calculation time of Gradients 0.019743919372558594\n",
      "Calculation time of Hessian 10.352544565995535\n",
      "Client 1_0 done.\n",
      "Calculation time of Gradients 0.020287275314331055\n",
      "Calculation time of Hessian 10.397171564896901\n",
      "Client 1_1 done.\n",
      "Calculation time of Gradients 0.01963186264038086\n",
      "Calculation time of Hessian 10.342646880944569\n",
      "Client 1_2 done.\n",
      "Calculation time of Gradients 0.020337820053100586\n",
      "Calculation time of Hessian 10.537527894973755\n",
      "Client 1_3 done.\n",
      "Calculation time of Gradients 0.019355058670043945\n",
      "Calculation time of Hessian 12.445244801044463\n",
      "Client 1_4 done.\n",
      "Calculation time of Gradients 0.019427061080932617\n",
      "Calculation time of Hessian 10.471994745731354\n",
      "Client 1_5 done.\n",
      "Calculation time of Gradients 0.014329195022583008\n",
      "Calculation time of Hessian 7.454333400726318\n",
      "Client 2_0 done.\n",
      "Calculation time of Gradients 0.014430999755859375\n",
      "Calculation time of Hessian 7.402104834715526\n",
      "Client 2_1 done.\n",
      "Calculation time of Gradients 0.014944076538085938\n",
      "Calculation time of Hessian 7.522842466831207\n",
      "Client 2_2 done.\n",
      "Calculation time of Gradients 0.01594090461730957\n",
      "Calculation time of Hessian 7.340189516544342\n",
      "Client 2_3 done.\n",
      "Calculation time of Gradients 0.014501810073852539\n",
      "Calculation time of Hessian 7.35467758178711\n",
      "Client 2_4 done.\n",
      "Calculation time of Gradients 0.015069961547851562\n",
      "Calculation time of Hessian 7.3656629840532934\n",
      "Client 2_5 done.\n",
      "Calculation time of Gradients 0.021172046661376953\n",
      "Calculation time of Hessian 11.549277913570403\n",
      "Client 3_0 done.\n",
      "Calculation time of Gradients 0.02170586585998535\n",
      "Calculation time of Hessian 11.56289999485016\n",
      "Client 3_1 done.\n",
      "Calculation time of Gradients 0.02339792251586914\n",
      "Calculation time of Hessian 11.368554667631786\n",
      "Client 3_2 done.\n",
      "Calculation time of Gradients 0.022311925888061523\n",
      "Calculation time of Hessian 11.401835397879283\n",
      "Client 3_3 done.\n",
      "Calculation time of Gradients 0.021669864654541016\n",
      "Calculation time of Hessian 11.384665282567342\n",
      "Client 3_4 done.\n",
      "Calculation time of Gradients 0.021971940994262695\n",
      "Calculation time of Hessian 11.474258927504222\n",
      "Client 3_5 done.\n"
     ]
    }
   ],
   "source": [
    "for client in client_ids:\n",
    "    fed_hessian_mat = hessian_iso(client)\n",
    "    torch.save(fed_hessian_mat, \"hessians/epoch_25/iso/\"+str(client)+\".pth\")\n",
    "    print(\"Client \" +str(client)+ \" done.\")"
   ]
  },
  {
   "cell_type": "code",
   "execution_count": 32,
   "id": "ce1dfa8f",
   "metadata": {},
   "outputs": [],
   "source": [
    "matrix_dict_iso = {\n",
    "        key: torch.load(\"hessians/epoch_25/iso/\"+str(client)+\".pth\")\n",
    "        for key in client_ids\n",
    "    }"
   ]
  },
  {
   "cell_type": "code",
   "execution_count": 33,
   "id": "46ea2e78",
   "metadata": {},
   "outputs": [
    {
     "name": "stdout",
     "output_type": "stream",
     "text": [
      "2304.0972\n",
      "2304.5659\n",
      "4657.9224\n",
      "2604.3494\n",
      "3292.7405\n",
      "2741.8596\n",
      "2627.2683\n",
      "2231.8069\n",
      "3543.1577\n",
      "6282.6997\n",
      "2381.5076\n",
      "2331.6155\n",
      "2651.3376\n",
      "2435.9534\n",
      "2306.0681\n",
      "2369.8713\n",
      "2979.9004\n",
      "2351.564\n",
      "3112.4338\n",
      "3164.4961\n",
      "3666.1978\n",
      "2933.1917\n",
      "3264.3064\n",
      "0.0\n"
     ]
    }
   ],
   "source": [
    "eccentricities = []\n",
    "\n",
    "for client in client_ids:\n",
    "    client_matrix = torch.load(\"hessians/epoch_25/iso/\" + str(client) + \".pth\")\n",
    "    acc_proximity = 0.0\n",
    "    for key in matrix_dict_iso:\n",
    "        distance = accumulated_proximity(matrix_dict_iso[key], client_matrix, euclidean_distance)\n",
    "        acc_proximity += distance\n",
    "    \n",
    "    eccentricities.append(round(acc_proximity.item(),4))\n",
    "    print(round(acc_proximity.item(),4))"
   ]
  },
  {
   "cell_type": "code",
   "execution_count": 34,
   "id": "443b1522",
   "metadata": {},
   "outputs": [],
   "source": [
    "full_ecc = []\n",
    "full_acc_proximity = sum(eccentricities)\n",
    "\n",
    "for item in eccentricities:\n",
    "    full_ecc.append(round((item/full_acc_proximity),4))"
   ]
  },
  {
   "cell_type": "code",
   "execution_count": 43,
   "id": "d860662a",
   "metadata": {},
   "outputs": [
    {
     "data": {
      "text/plain": [
       "[0.0336,\n",
       " 0.0336,\n",
       " 0.068,\n",
       " 0.038,\n",
       " 0.048,\n",
       " 0.04,\n",
       " 0.0383,\n",
       " 0.0326,\n",
       " 0.0517,\n",
       " 0.0917,\n",
       " 0.0347,\n",
       " 0.034,\n",
       " 0.0387,\n",
       " 0.0355,\n",
       " 0.0336,\n",
       " 0.0346,\n",
       " 0.0435,\n",
       " 0.0343,\n",
       " 0.0454,\n",
       " 0.0462,\n",
       " 0.0535,\n",
       " 0.0428,\n",
       " 0.0476,\n",
       " 0.0]"
      ]
     },
     "execution_count": 43,
     "metadata": {},
     "output_type": "execute_result"
    }
   ],
   "source": [
    "full_ecc"
   ]
  },
  {
   "cell_type": "code",
   "execution_count": 40,
   "id": "7e2a691f",
   "metadata": {},
   "outputs": [],
   "source": [
    "ecc_hessian = {\"client id\": client_ids, \"hess_ecc\": full_ecc}\n",
    "ecc_hessian = pd.DataFrame(ecc_hessian)\n",
    "ecc_hessian.to_csv(\"insights/eccentricity_with_isolated_model_based_3_at_25_epoch.csv\" , index=False)"
   ]
  },
  {
   "cell_type": "code",
   "execution_count": null,
   "id": "4d2da3b3",
   "metadata": {},
   "outputs": [],
   "source": []
  }
 ],
 "metadata": {
  "kernelspec": {
   "display_name": "Python 3 (ipykernel)",
   "language": "python",
   "name": "python3"
  },
  "language_info": {
   "codemirror_mode": {
    "name": "ipython",
    "version": 3
   },
   "file_extension": ".py",
   "mimetype": "text/x-python",
   "name": "python",
   "nbconvert_exporter": "python",
   "pygments_lexer": "ipython3",
   "version": "3.11.3"
  }
 },
 "nbformat": 4,
 "nbformat_minor": 5
}
