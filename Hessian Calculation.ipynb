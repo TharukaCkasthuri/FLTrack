{
 "cells": [
  {
   "cell_type": "code",
   "execution_count": 3,
   "id": "8263943a",
   "metadata": {},
   "outputs": [],
   "source": [
    "import os\n",
    "import time\n",
    "import torch\n",
    "\n",
    "import pandas as pd\n",
    "import numpy as np\n",
    "\n",
    "import matplotlib.pyplot as plt\n",
    "from torch.utils.data import DataLoader\n",
    "\n",
    "from FLTrack.models import ShallowNN\n",
    "from FLTrack.utils import load_file, get_all_possible_pairs\n",
    "from FLTrack.evals import evaluate, pairwise_euclidean_distance , influence, calculate_hessian_flattened\n",
    "from FLTrack.evals import euclidean_distance, manhattan_distance, pairwise_euclidean_distance, accumulated_proximity, full_accumulated_proximity\n",
    "\n",
    "features = 197\n",
    "batch_size = 64\n",
    "loss_fn = torch.nn.L1Loss()"
   ]
  },
  {
   "cell_type": "code",
   "execution_count": 4,
   "id": "3f1b5973",
   "metadata": {},
   "outputs": [],
   "source": [
    "client_ids = [f\"{i}_{j}\" for i in range(4) for j in range(6)]"
   ]
  },
  {
   "cell_type": "markdown",
   "id": "e81c3383",
   "metadata": {},
   "source": [
    "## 500 Global Round and 1 Local Round"
   ]
  },
  {
   "cell_type": "code",
   "execution_count": null,
   "id": "79cb6efb",
   "metadata": {},
   "outputs": [],
   "source": [
    "global_model = ShallowNN(features)\n",
    "global_model.load_state_dict(torch.load('checkpt/epoch_500/_fedl_global_500.pth'))"
   ]
  },
  {
   "cell_type": "code",
   "execution_count": null,
   "id": "1b146c55",
   "metadata": {},
   "outputs": [],
   "source": [
    "def hessian(client):\n",
    "    \n",
    "    dataset = torch.load(\"trainpt/\"+ str(client)+\".pt\")\n",
    "    data_loader = DataLoader(dataset, batch_size, shuffle=True)\n",
    "                                              \n",
    "    fed_hessian_mat , _  = calculate_hessian_flattened(global_model,loss_fn,data_loader)\n",
    "    \n",
    "    return fed_hessian_mat"
   ]
  },
  {
   "cell_type": "code",
   "execution_count": null,
   "id": "a68c2e42",
   "metadata": {},
   "outputs": [],
   "source": [
    "for client in client_ids:\n",
    "    fed_hessian_mat = hessian(client)\n",
    "    torch.save(fed_hessian_mat, \"hessians/epoch_500/train_fed/\"+str(client)+\".pth\")\n",
    "    print(\"Client \" +str(client)+ \" done.\")"
   ]
  },
  {
   "cell_type": "markdown",
   "id": "04037cfd",
   "metadata": {},
   "source": [
    "## 1 Global Round and 25 Local Round"
   ]
  },
  {
   "cell_type": "code",
   "execution_count": null,
   "id": "e453792a",
   "metadata": {},
   "outputs": [],
   "source": [
    "global_model = ShallowNN(features)\n",
    "global_model.load_state_dict(torch.load('checkpt/epoch_25/1_rounds_25_epochs_per_round/_fedl_global_1_25.pth'))"
   ]
  },
  {
   "cell_type": "code",
   "execution_count": null,
   "id": "63433d36",
   "metadata": {},
   "outputs": [],
   "source": [
    "def hessian(client):\n",
    "    \n",
    "    dataset = torch.load(\"trainpt/\"+ str(client)+\".pt\")\n",
    "    data_loader = DataLoader(dataset, batch_size, shuffle=True)\n",
    "                                              \n",
    "    fed_hessian_mat , _  = calculate_hessian_flattened(global_model,loss_fn,data_loader)\n",
    "    \n",
    "    return fed_hessian_mat"
   ]
  },
  {
   "cell_type": "code",
   "execution_count": null,
   "id": "e5410057",
   "metadata": {},
   "outputs": [],
   "source": [
    "for client in client_ids:\n",
    "    fed_hessian_mat = hessian(client)\n",
    "    torch.save(fed_hessian_mat, \"hessians/epoch_25/train_fed/\"+str(client)+\".pth\")\n",
    "    print(\"Client \" +str(client)+ \" done.\")"
   ]
  },
  {
   "cell_type": "markdown",
   "id": "34a38d17",
   "metadata": {},
   "source": [
    "### Hessian Matrix for isolated model"
   ]
  },
  {
   "cell_type": "code",
   "execution_count": 13,
   "id": "0e15be86",
   "metadata": {},
   "outputs": [],
   "source": [
    "def hessian_iso(client):\n",
    "    \n",
    "    dataset = torch.load(\"trainpt/\"+ str(client)+\".pt\")\n",
    "    data_loader = DataLoader(dataset, batch_size, shuffle=True)\n",
    "    \n",
    "    client_model = ShallowNN(features)\n",
    "    client_model.load_state_dict(torch.load(\"checkpt/saving/epoch_500/global_1/clients/client_model_\" +str(client)+ \".pth\" ))\n",
    "           \n",
    "    iso_hessian_mat = calculate_hessian_flattened(client_model,loss_fn,data_loader)\n",
    "    \n",
    "    return iso_hessian_mat"
   ]
  },
  {
   "cell_type": "code",
   "execution_count": 14,
   "id": "0921abb4",
   "metadata": {},
   "outputs": [
    {
     "name": "stdout",
     "output_type": "stream",
     "text": [
      "Calculation time of Gradients 0.01863384246826172\n",
      "Calculation time of Hessian 9.779759017626445\n",
      "Client 0_0 done.\n",
      "Calculation time of Gradients 0.020355939865112305\n",
      "Calculation time of Hessian 10.56281951268514\n",
      "Client 0_1 done.\n",
      "Calculation time of Gradients 0.01831197738647461\n",
      "Calculation time of Hessian 10.428972816467285\n",
      "Client 0_2 done.\n",
      "Calculation time of Gradients 0.01817917823791504\n",
      "Calculation time of Hessian 10.06779448588689\n",
      "Client 0_3 done.\n",
      "Calculation time of Gradients 0.0178830623626709\n",
      "Calculation time of Hessian 9.845117966334024\n",
      "Client 0_4 done.\n",
      "Calculation time of Gradients 0.01825714111328125\n",
      "Calculation time of Hessian 10.192091766993205\n",
      "Client 0_5 done.\n",
      "Calculation time of Gradients 0.02028799057006836\n",
      "Calculation time of Hessian 10.894143664836884\n",
      "Client 1_0 done.\n",
      "Calculation time of Gradients 0.019181013107299805\n",
      "Calculation time of Hessian 10.317794954776764\n",
      "Client 1_1 done.\n",
      "Calculation time of Gradients 0.01853799819946289\n",
      "Calculation time of Hessian 10.323912680149078\n",
      "Client 1_2 done.\n",
      "Calculation time of Gradients 0.01972198486328125\n",
      "Calculation time of Hessian 10.362602265675863\n",
      "Client 1_3 done.\n",
      "Calculation time of Gradients 0.018140077590942383\n",
      "Calculation time of Hessian 10.295721765359243\n",
      "Client 1_4 done.\n",
      "Calculation time of Gradients 0.018152952194213867\n",
      "Calculation time of Hessian 10.276987465222676\n",
      "Client 1_5 done.\n",
      "Calculation time of Gradients 0.013797998428344727\n",
      "Calculation time of Hessian 7.250315264860789\n",
      "Client 2_0 done.\n",
      "Calculation time of Gradients 0.013873815536499023\n",
      "Calculation time of Hessian 7.369039265314738\n",
      "Client 2_1 done.\n",
      "Calculation time of Gradients 0.015250921249389648\n",
      "Calculation time of Hessian 7.29212148586909\n",
      "Client 2_2 done.\n",
      "Calculation time of Gradients 0.016096830368041992\n",
      "Calculation time of Hessian 7.423844234148661\n",
      "Client 2_3 done.\n",
      "Calculation time of Gradients 0.015041112899780273\n",
      "Calculation time of Hessian 7.251933415730794\n",
      "Client 2_4 done.\n",
      "Calculation time of Gradients 0.014751911163330078\n",
      "Calculation time of Hessian 7.2961877346038815\n",
      "Client 2_5 done.\n",
      "Calculation time of Gradients 0.021130084991455078\n",
      "Calculation time of Hessian 11.3259285847346\n",
      "Client 3_0 done.\n",
      "Calculation time of Gradients 0.022665977478027344\n",
      "Calculation time of Hessian 11.42558556397756\n",
      "Client 3_1 done.\n",
      "Calculation time of Gradients 0.02267599105834961\n",
      "Calculation time of Hessian 11.332215797901153\n",
      "Client 3_2 done.\n",
      "Calculation time of Gradients 0.021734237670898438\n",
      "Calculation time of Hessian 11.308967618147532\n",
      "Client 3_3 done.\n",
      "Calculation time of Gradients 0.02106475830078125\n",
      "Calculation time of Hessian 11.416401914755504\n",
      "Client 3_4 done.\n",
      "Calculation time of Gradients 0.02107715606689453\n",
      "Calculation time of Hessian 11.442508566379548\n",
      "Client 3_5 done.\n"
     ]
    }
   ],
   "source": [
    "for client in client_ids:\n",
    "    fed_hessian_mat = hessian_iso(client)\n",
    "    torch.save(fed_hessian_mat, \"hessians/epoch_25/iso/\"+str(client)+\".pth\")\n",
    "    print(\"Client \" +str(client)+ \" done.\")"
   ]
  },
  {
   "cell_type": "markdown",
   "id": "b0bd4c14",
   "metadata": {},
   "source": [
    "## Hessians in Each Iteration"
   ]
  },
  {
   "cell_type": "code",
   "execution_count": 3,
   "id": "c428522b",
   "metadata": {},
   "outputs": [],
   "source": [
    "def hessian(client):\n",
    "    \n",
    "    dataset = torch.load(\"trainpt/\"+ str(client)+\".pt\")\n",
    "    data_loader = DataLoader(dataset, batch_size, shuffle=True)                                              \n",
    "    fed_hessian_mat = calculate_hessian_flattened(fl_model_ckpt,loss_fn,data_loader)\n",
    "    \n",
    "    return fed_hessian_mat"
   ]
  },
  {
   "cell_type": "code",
   "execution_count": 4,
   "id": "68f499e0",
   "metadata": {},
   "outputs": [],
   "source": [
    "#client_ids = ['0_2','0_3','0_4','0_5','1_0', '1_1', '1_2', '1_3', '1_4', '1_5', '2_0','2_1', '2_2','2_3','2_4','2_5','3_0','3_1','3_2','3_3','3_4','3_5']"
   ]
  },
  {
   "cell_type": "code",
   "execution_count": 5,
   "id": "34ec5c71",
   "metadata": {},
   "outputs": [
    {
     "name": "stdout",
     "output_type": "stream",
     "text": [
      "Calculation time of Gradients 0.04049396514892578\n",
      "Calculation time of Hessian 9.078031420707703\n",
      "Client 0_0 done.\n",
      "Calculation time of Gradients 0.017895221710205078\n",
      "Calculation time of Hessian 9.412500635782878\n",
      "Client 0_1 done.\n",
      "Calculation time of Gradients 0.017027854919433594\n",
      "Calculation time of Hessian 9.453154913584392\n",
      "Client 0_2 done.\n",
      "Calculation time of Gradients 0.016679763793945312\n",
      "Calculation time of Hessian 37.06908006668091\n",
      "Client 0_3 done.\n",
      "Calculation time of Gradients 0.016553878784179688\n",
      "Calculation time of Hessian 9.00583846171697\n",
      "Client 0_4 done.\n",
      "Calculation time of Gradients 0.016477108001708984\n",
      "Calculation time of Hessian 8.999890299638112\n",
      "Client 0_5 done.\n",
      "Calculation time of Gradients 0.018182039260864258\n",
      "Calculation time of Hessian 9.87904949982961\n",
      "Client 1_0 done.\n",
      "Calculation time of Gradients 0.017878055572509766\n",
      "Calculation time of Hessian 10.864837551116944\n",
      "Client 1_1 done.\n",
      "Calculation time of Gradients 0.018316984176635742\n",
      "Calculation time of Hessian 9.985280315081278\n",
      "Client 1_2 done.\n",
      "Calculation time of Gradients 0.018110036849975586\n",
      "Calculation time of Hessian 10.054764616489411\n",
      "Client 1_3 done.\n",
      "Calculation time of Gradients 0.018491029739379883\n",
      "Calculation time of Hessian 10.351966520150503\n",
      "Client 1_4 done.\n",
      "Calculation time of Gradients 0.02225494384765625\n",
      "Calculation time of Hessian 10.092982312043508\n",
      "Client 1_5 done.\n",
      "Calculation time of Gradients 0.01431894302368164\n",
      "Calculation time of Hessian 7.155406582355499\n",
      "Client 2_0 done.\n",
      "Calculation time of Gradients 0.016433000564575195\n",
      "Calculation time of Hessian 7.295494719346364\n",
      "Client 2_1 done.\n",
      "Calculation time of Gradients 0.013211965560913086\n",
      "Calculation time of Hessian 7.441869866847992\n",
      "Client 2_2 done.\n",
      "Calculation time of Gradients 0.013726949691772461\n",
      "Calculation time of Hessian 7.443973716100057\n",
      "Client 2_3 done.\n",
      "Calculation time of Gradients 0.013101816177368164\n",
      "Calculation time of Hessian 10.284344549973806\n",
      "Client 2_4 done.\n",
      "Calculation time of Gradients 0.013579845428466797\n",
      "Calculation time of Hessian 7.273345295588175\n",
      "Client 2_5 done.\n",
      "Calculation time of Gradients 0.023725032806396484\n",
      "Calculation time of Hessian 11.60219136873881\n",
      "Client 3_0 done.\n",
      "Calculation time of Gradients 0.021502017974853516\n",
      "Calculation time of Hessian 11.366404632727305\n",
      "Client 3_1 done.\n",
      "Calculation time of Gradients 0.020040035247802734\n",
      "Calculation time of Hessian 11.24315821727117\n",
      "Client 3_2 done.\n",
      "Calculation time of Gradients 0.025061845779418945\n",
      "Calculation time of Hessian 11.515320833524068\n",
      "Client 3_3 done.\n",
      "Calculation time of Gradients 0.02532196044921875\n",
      "Calculation time of Hessian 528.1537619829178\n",
      "Client 3_4 done.\n",
      "Calculation time of Gradients 0.020587921142578125\n",
      "Calculation time of Hessian 11.200395901997885\n",
      "Client 3_5 done.\n"
     ]
    }
   ],
   "source": [
    "global_round = 20\n",
    "fl_model_ckpt = ShallowNN(features)\n",
    "fl_model_ckpt.load_state_dict(torch.load('checkpt/saving/epoch_500/global_'+str(global_round)+'/global_model.pth'))\n",
    "for client in client_ids:\n",
    "    fed_hessian_mat = hessian(client)\n",
    "    path = f\"hessians/saving/{global_round}/{client}.pth\"\n",
    "    if os.path.exists(path):\n",
    "        torch.save(fed_hessian_mat, path)\n",
    "    else:\n",
    "        os.makedirs(os.path.dirname(path), exist_ok=True)\n",
    "        torch.save(fed_hessian_mat, path)\n",
    "    print(\"Client \" +str(client)+ \" done.\")"
   ]
  },
  {
   "cell_type": "code",
   "execution_count": null,
   "id": "298d7242",
   "metadata": {},
   "outputs": [],
   "source": []
  }
 ],
 "metadata": {
  "kernelspec": {
   "display_name": "Python 3 (ipykernel)",
   "language": "python",
   "name": "python3"
  },
  "language_info": {
   "codemirror_mode": {
    "name": "ipython",
    "version": 3
   },
   "file_extension": ".py",
   "mimetype": "text/x-python",
   "name": "python",
   "nbconvert_exporter": "python",
   "pygments_lexer": "ipython3",
   "version": "3.11.4"
  }
 },
 "nbformat": 4,
 "nbformat_minor": 5
}
