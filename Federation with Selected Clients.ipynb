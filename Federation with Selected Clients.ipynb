{
 "cells": [
  {
   "cell_type": "code",
   "execution_count": 5,
   "id": "99842358",
   "metadata": {},
   "outputs": [],
   "source": [
    "import torch\n",
    "from torch.utils.data import DataLoader\n",
    "\n",
    "import pandas as pd\n",
    "\n",
    "from models import ShallowNN\n",
    "from evals import evaluate_mae_with_confidence\n",
    "\n",
    "features = 197\n",
    "batch_size = 64\n",
    "loss_fn = torch.nn.L1Loss()"
   ]
  },
  {
   "cell_type": "code",
   "execution_count": 2,
   "id": "f4535bb3",
   "metadata": {},
   "outputs": [],
   "source": [
    "selected_client_ids = [\"0_0\", \"0_2\", \"0_3\", \"0_4\", \"1_0\", \"1_1\", \"1_2\", \"1_4\", \"2_0\", \"2_1\", \"2_2\", \"2_3\", \"2_4\", \"2_5\", \"3_0\", \"3_2\",\"3_3\",\"3_4\",\"3_5\"]\n",
    "\n",
    "client_ids = [f\"{i}_{j}\" for i in range(4) for j in range(6)]"
   ]
  },
  {
   "cell_type": "code",
   "execution_count": 3,
   "id": "e5a64580",
   "metadata": {},
   "outputs": [
    {
     "data": {
      "text/plain": [
       "<All keys matched successfully>"
      ]
     },
     "execution_count": 3,
     "metadata": {},
     "output_type": "execute_result"
    }
   ],
   "source": [
    "selected_global_model = ShallowNN(features)\n",
    "selected_global_model.load_state_dict(torch.load('checkpt/saving_only_selected_clients/epoch_500/_fedl_global_20_25.pth'))\n",
    "\n",
    "global_model = ShallowNN(features)\n",
    "global_model.load_state_dict(torch.load('checkpt/saving/epoch_500/_fedl_global_20_25.pth'))"
   ]
  },
  {
   "cell_type": "code",
   "execution_count": 6,
   "id": "afcb55a0",
   "metadata": {},
   "outputs": [],
   "source": [
    "selected_eval_list = []\n",
    "for client in selected_client_ids:\n",
    "    val_data_path =  \"testpt/\"+str(client)+\".pt\"\n",
    "    val_set = torch.load(val_data_path)\n",
    "    val_loader = DataLoader(val_set, batch_size, shuffle = True)\n",
    "    \n",
    "    federated_mae,(fed_lower_band, fed_upper_band), _ = evaluate_mae_with_confidence(selected_global_model,val_loader)\n",
    "    \n",
    "    eval_dict = {\"Client ID\" : client,\n",
    "                \"Federated Average MAE\" :round(federated_mae, 4),\n",
    "                \"Federated MAE lower band\": round(fed_lower_band, 4),\n",
    "                \"Federated MAE upper band\":round(fed_upper_band,4)}\n",
    "    \n",
    "    selected_eval_list.append(eval_dict)\n",
    "    \n",
    "selected_eval_df = pd.DataFrame.from_dict(selected_eval_list)\n",
    "selected_eval_df[\"clients\"] = [i for i in range(1, 25) if i not in (2, 6, 10, 12, 20)]"
   ]
  },
  {
   "cell_type": "code",
   "execution_count": 7,
   "id": "e1ac1a2d",
   "metadata": {},
   "outputs": [],
   "source": [
    "eval_list = []\n",
    "for client in client_ids:\n",
    "    val_data_path =  \"testpt/\"+str(client)+\".pt\"\n",
    "    val_set = torch.load(val_data_path)\n",
    "    val_loader = DataLoader(val_set, batch_size, shuffle = True)\n",
    "    \n",
    "    federated_mae,(fed_lower_band, fed_upper_band), _ = evaluate_mae_with_confidence(global_model,val_loader)\n",
    "    \n",
    "    eval_dict = {\"Client ID\" : client,\n",
    "                \"Federated Average MAE\" :round(federated_mae, 4),\n",
    "                \"Federated MAE lower band\": round(fed_lower_band, 4),\n",
    "                \"Federated MAE upper band\":round(fed_upper_band,4)}\n",
    "    \n",
    "    eval_list.append(eval_dict)\n",
    "    \n",
    "eval_df = pd.DataFrame.from_dict(eval_list)\n",
    "eval_df[\"clients\"] = [i for i in range(1, 25)]"
   ]
  },
  {
   "cell_type": "code",
   "execution_count": 9,
   "id": "8121863d",
   "metadata": {},
   "outputs": [
    {
     "name": "stdout",
     "output_type": "stream",
     "text": [
      "0_0 0.4953 0.4795\n",
      "0_2 0.3337 0.3645\n",
      "0_3 0.4222 0.4635\n",
      "0_4 0.3334 0.3594\n",
      "1_0 0.506 0.5006\n",
      "1_1 0.5113 0.5013\n",
      "1_2 0.4223 0.4415\n",
      "1_4 0.4419 0.4449\n",
      "2_0 0.4218 0.422\n",
      "2_1 0.4472 0.4293\n",
      "2_2 0.4217 0.4237\n",
      "2_3 0.4245 0.4309\n",
      "2_4 0.4163 0.418\n",
      "2_5 0.4266 0.4372\n",
      "3_0 0.4993 0.5192\n",
      "3_2 0.5138 0.5252\n",
      "3_3 0.5037 0.5184\n",
      "3_4 0.5088 0.5219\n",
      "3_5 0.5157 0.5306\n"
     ]
    }
   ],
   "source": [
    "for client in selected_client_ids:\n",
    "    selected_model_mae = selected_eval_df.loc[selected_eval_df['Client ID'] == client][\"Federated Average MAE\"].values[0]\n",
    "    all_model_mae = eval_df.loc[eval_df['Client ID'] == client][\"Federated Average MAE\"].values[0]\n",
    "    print(client, selected_model_mae, all_model_mae)"
   ]
  },
  {
   "cell_type": "code",
   "execution_count": 12,
   "id": "687e70c8",
   "metadata": {},
   "outputs": [],
   "source": [
    "selected_model_average_mae = selected_eval_df[\"Federated Average MAE\"].mean()\n",
    "model_average_mae = eval_df[\"Federated Average MAE\"].mean()"
   ]
  },
  {
   "cell_type": "code",
   "execution_count": 15,
   "id": "ea2cb584",
   "metadata": {},
   "outputs": [
    {
     "name": "stdout",
     "output_type": "stream",
     "text": [
      "Average mae of selected model 0.4508158564567566\n",
      "Average mae of model 0.4716208279132843\n"
     ]
    }
   ],
   "source": [
    "print(f\"Average mae of selected model {selected_model_average_mae}\")\n",
    "print(f\"Average mae of model {model_average_mae}\")"
   ]
  }
 ],
 "metadata": {
  "kernelspec": {
   "display_name": "Python 3 (ipykernel)",
   "language": "python",
   "name": "python3"
  },
  "language_info": {
   "codemirror_mode": {
    "name": "ipython",
    "version": 3
   },
   "file_extension": ".py",
   "mimetype": "text/x-python",
   "name": "python",
   "nbconvert_exporter": "python",
   "pygments_lexer": "ipython3",
   "version": "3.11.4"
  }
 },
 "nbformat": 4,
 "nbformat_minor": 5
}
