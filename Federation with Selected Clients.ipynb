{
 "cells": [
  {
   "cell_type": "code",
   "execution_count": 1,
   "id": "99842358",
   "metadata": {},
   "outputs": [],
   "source": [
    "import torch\n",
    "from torch.utils.data import DataLoader\n",
    "\n",
    "import pandas as pd\n",
    "\n",
    "from FLTrack.models import ShallowNN\n",
    "from FLTrack.evals import evaluate_mae_with_confidence\n",
    "\n",
    "features = 197\n",
    "batch_size = 64\n",
    "loss_fn = torch.nn.L1Loss()"
   ]
  },
  {
   "cell_type": "code",
   "execution_count": 2,
   "id": "f4535bb3",
   "metadata": {},
   "outputs": [],
   "source": [
    "selected_client_ids_param = [\"0_0\", \"0_2\", \"0_3\", \"0_4\", \"1_0\", \"1_1\", \"1_2\", \"1_4\", \"2_0\", \"2_1\", \"2_2\", \"2_3\", \"2_4\", \"2_5\", \"3_0\", \"3_2\",\"3_3\",\"3_4\",\"3_5\"]\n",
    "selected_client_ids_glob = client_ids = [\"0_0\",\"0_1\",\"0_5\",\"1_0\",\"1_1\",\"1_4\",\"1_5\",\"2_0\",\"2_1\",\"2_2\",\"2_3\",\"2_4\",\"2_5\",\"3_0\",\"3_1\",\"3_2\",\"3_3\",\"3_4\",\"3_5\",]\n",
    "client_ids = [f\"{i}_{j}\" for i in range(4) for j in range(6)]"
   ]
  },
  {
   "cell_type": "code",
   "execution_count": 3,
   "id": "e5a64580",
   "metadata": {},
   "outputs": [
    {
     "data": {
      "text/plain": [
       "<All keys matched successfully>"
      ]
     },
     "execution_count": 3,
     "metadata": {},
     "output_type": "execute_result"
    }
   ],
   "source": [
    "selected_global_model_param = ShallowNN(features)\n",
    "selected_global_model_param.load_state_dict(torch.load('checkpt/saving_only_selected_clients/epoch_500/_fedl_global_20_25.pth'))\n",
    "\n",
    "global_model = ShallowNN(features)\n",
    "global_model.load_state_dict(torch.load('checkpt/saving/epoch_500/_fedl_global_20_25.pth'))\n",
    "\n",
    "selected_global_model_glob = ShallowNN(features)\n",
    "selected_global_model_glob.load_state_dict(torch.load('checkpt/saving_only_selected_clients_g/epoch_500/_fedl_global_20_25.pth'))"
   ]
  },
  {
   "cell_type": "code",
   "execution_count": 4,
   "id": "afcb55a0",
   "metadata": {},
   "outputs": [],
   "source": [
    "selected_eval_list_p = []\n",
    "for client in selected_client_ids_param:\n",
    "    val_data_path =  \"testpt/\"+str(client)+\".pt\"\n",
    "    val_set = torch.load(val_data_path)\n",
    "    val_loader = DataLoader(val_set, batch_size, shuffle = True)\n",
    "    \n",
    "    federated_mae,(fed_lower_band, fed_upper_band), _ = evaluate_mae_with_confidence(selected_global_model_param,val_loader)\n",
    "    \n",
    "    eval_dict = {\"Client ID\" : client,\n",
    "                \"Federated Average MAE\" :round(federated_mae, 4),\n",
    "                \"Federated MAE lower band\": round(fed_lower_band, 4),\n",
    "                \"Federated MAE upper band\":round(fed_upper_band,4)}\n",
    "    \n",
    "    selected_eval_list_p.append(eval_dict)\n",
    "    \n",
    "selected_eval_df = pd.DataFrame.from_dict(selected_eval_list_p)\n",
    "selected_eval_df[\"clients\"] = [i for i in range(1, 25) if i not in (2, 6, 10, 12, 20)]"
   ]
  },
  {
   "cell_type": "code",
   "execution_count": 5,
   "id": "f4f971a6",
   "metadata": {},
   "outputs": [],
   "source": [
    "selected_eval_list_g = []\n",
    "for client in selected_client_ids_glob:\n",
    "    val_data_path =  \"testpt/\"+str(client)+\".pt\"\n",
    "    val_set = torch.load(val_data_path)\n",
    "    val_loader = DataLoader(val_set, batch_size, shuffle = True)\n",
    "    \n",
    "    federated_mae,(fed_lower_band, fed_upper_band), _ = evaluate_mae_with_confidence(selected_global_model_glob,val_loader)\n",
    "    \n",
    "    eval_dict = {\"Client ID\" : client,\n",
    "                \"Federated Average MAE\" :round(federated_mae, 4),\n",
    "                \"Federated MAE lower band\": round(fed_lower_band, 4),\n",
    "                \"Federated MAE upper band\":round(fed_upper_band,4)}\n",
    "    \n",
    "    selected_eval_list_g.append(eval_dict)\n",
    "    \n",
    "selected_eval_df_g = pd.DataFrame.from_dict(selected_eval_list_g)\n",
    "selected_eval_df_g[\"clients\"] = [i for i in range(1, 25) if i not in (2, 6, 10, 12, 20)]"
   ]
  },
  {
   "cell_type": "code",
   "execution_count": 6,
   "id": "e1ac1a2d",
   "metadata": {},
   "outputs": [],
   "source": [
    "eval_list = []\n",
    "for client in client_ids:\n",
    "    val_data_path =  \"testpt/\"+str(client)+\".pt\"\n",
    "    val_set = torch.load(val_data_path)\n",
    "    val_loader = DataLoader(val_set, batch_size, shuffle = True)\n",
    "    \n",
    "    federated_mae,(fed_lower_band, fed_upper_band), _ = evaluate_mae_with_confidence(global_model,val_loader)\n",
    "    \n",
    "    eval_dict = {\"Client ID\" : client,\n",
    "                \"Federated Average MAE\" :round(federated_mae, 4),\n",
    "                \"Federated MAE lower band\": round(fed_lower_band, 4),\n",
    "                \"Federated MAE upper band\":round(fed_upper_band,4)}\n",
    "    \n",
    "    eval_list.append(eval_dict)\n",
    "    \n",
    "eval_df = pd.DataFrame.from_dict(eval_list)\n",
    "eval_df[\"clients\"] = [i for i in range(1, 25)]"
   ]
  },
  {
   "cell_type": "code",
   "execution_count": 18,
   "id": "8121863d",
   "metadata": {},
   "outputs": [
    {
     "name": "stdout",
     "output_type": "stream",
     "text": [
      "0_0 0.4954 0.4796\n",
      "0_2 0.3337 0.3645\n",
      "0_3 0.4221 0.4637\n",
      "0_4 0.3335 0.3595\n",
      "1_0 0.506 0.4997\n",
      "1_1 0.5111 0.5001\n",
      "1_2 0.4223 0.4418\n",
      "1_4 0.4415 0.4443\n",
      "2_0 0.4211 0.4227\n",
      "2_1 0.4469 0.4288\n",
      "2_2 0.424 0.4244\n",
      "2_3 0.4248 0.4323\n",
      "2_4 0.4164 0.4194\n",
      "2_5 0.4268 0.4358\n",
      "3_0 0.5 0.5187\n",
      "3_2 0.5136 0.5243\n",
      "3_3 0.5035 0.5187\n",
      "3_4 0.509 0.5215\n",
      "3_5 0.5153 0.5307\n"
     ]
    }
   ],
   "source": [
    "for client in selected_client_ids_param:\n",
    "    selected_model_mae = selected_eval_df.loc[selected_eval_df['Client ID'] == client][\"Federated Average MAE\"].values[0]\n",
    "    all_model_mae = eval_df.loc[eval_df['Client ID'] == client][\"Federated Average MAE\"].values[0]\n",
    "    print(client, selected_model_mae, all_model_mae)"
   ]
  },
  {
   "cell_type": "code",
   "execution_count": 9,
   "id": "c9b573b7",
   "metadata": {},
   "outputs": [
    {
     "name": "stdout",
     "output_type": "stream",
     "text": [
      "0_0 0.5153 0.4955\n",
      "0_1 0.5153 0.4978\n",
      "0_5 0.5153 0.4702\n",
      "1_0 0.5153 0.503\n",
      "1_1 0.5153 0.5065\n",
      "1_4 0.5153 0.4864\n",
      "1_5 0.5153 0.5778\n",
      "2_0 0.5153 0.4277\n",
      "2_1 0.5153 0.4524\n",
      "2_2 0.5153 0.4217\n",
      "2_3 0.5153 0.4228\n",
      "2_4 0.5153 0.4154\n",
      "2_5 0.5153 0.4248\n",
      "3_0 0.5153 0.5064\n",
      "3_1 0.5153 0.5072\n",
      "3_2 0.5153 0.5152\n",
      "3_3 0.5153 0.5012\n",
      "3_4 0.5153 0.5162\n",
      "3_5 0.5153 0.5196\n"
     ]
    }
   ],
   "source": [
    "for client in selected_client_ids_glob:\n",
    "    selected_model_mae_g = selected_eval_df_g.loc[selected_eval_df_g['Client ID'] == client][\"Federated Average MAE\"].values[0]\n",
    "    all_model_mae = selected_eval_df_g.loc[selected_eval_df_g['Client ID'] == client][\"Federated Average MAE\"].values[0]\n",
    "    print(client, selected_model_mae, all_model_mae)"
   ]
  },
  {
   "cell_type": "code",
   "execution_count": 14,
   "id": "687e70c8",
   "metadata": {},
   "outputs": [],
   "source": [
    "selected_model_average_mae_param = selected_eval_df[\"Federated Average MAE\"].mean()\n",
    "selected_model_average_mae_global = selected_eval_df_g[\"Federated Average MAE\"].mean()\n",
    "model_average_mae = eval_df[\"Federated Average MAE\"].mean()"
   ]
  },
  {
   "cell_type": "code",
   "execution_count": 15,
   "id": "ea2cb584",
   "metadata": {},
   "outputs": [
    {
     "name": "stdout",
     "output_type": "stream",
     "text": [
      "Average mae of selected model by param 0.45089471340179443\n",
      "Average mae of selected model by global 0.48251578211784363\n",
      "Average mae of model 0.47159168124198914\n"
     ]
    }
   ],
   "source": [
    "print(f\"Average mae of selected model by param {selected_model_average_mae_param}\")\n",
    "print(f\"Average mae of selected model by global {selected_model_average_mae_global}\")\n",
    "print(f\"Average mae of model {model_average_mae}\")"
   ]
  },
  {
   "cell_type": "code",
   "execution_count": null,
   "id": "0dd0108d",
   "metadata": {},
   "outputs": [],
   "source": []
  }
 ],
 "metadata": {
  "kernelspec": {
   "display_name": "Python 3 (ipykernel)",
   "language": "python",
   "name": "python3"
  },
  "language_info": {
   "codemirror_mode": {
    "name": "ipython",
    "version": 3
   },
   "file_extension": ".py",
   "mimetype": "text/x-python",
   "name": "python",
   "nbconvert_exporter": "python",
   "pygments_lexer": "ipython3",
   "version": "3.11.4"
  }
 },
 "nbformat": 4,
 "nbformat_minor": 5
}
