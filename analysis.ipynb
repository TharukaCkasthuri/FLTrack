{
 "cells": [
  {
   "cell_type": "code",
   "execution_count": 3,
   "metadata": {},
   "outputs": [],
   "source": [
    "#fed_learning_all_losses = pd.read_csv(\"losses/fed_learning_stats_64.csv\")"
   ]
  },
  {
   "cell_type": "code",
   "execution_count": 1,
   "metadata": {},
   "outputs": [],
   "source": [
    "import os\n",
    "import time\n",
    "import torch\n",
    "\n",
    "import pandas as pd\n",
    "import numpy as np\n",
    "\n",
    "import matplotlib.pyplot as plt\n",
    "from torch.utils.data import DataLoader\n",
    "\n",
    "from models import ShallowNN\n",
    "from utils import load_file\n",
    "from evals import evaluate,evaluate_mae_with_confidence,influence\n",
    "from evals import euclidean_distance, manhattan_distance, pairwise_euclidean_distance, accumulated_proximity, full_accumulated_proximity\n",
    "\n",
    "features = 197\n",
    "batch_size = 64\n",
    "loss_fn = torch.nn.L1Loss()"
   ]
  },
  {
   "cell_type": "code",
   "execution_count": 4,
   "metadata": {},
   "outputs": [
    {
     "data": {
      "text/plain": [
       "'\\nfig,axes = plt.subplots(nrows=4,ncols=6,figsize=(60, 30))\\nfor client in client_ids:\\n    plot_id = client.split(\"_\")\\n    fed_losses = fed_learning_all_losses.loc[fed_learning_all_losses[\\'client_id\\'] == client].reset_index().drop(columns=[\\'index\\',\\'training_round\\',\\'client_id\\',\\'fed_train\\'])\\n    fed_losses = fed_losses.rename(columns={\"validation_loss\": \"fed_val\"})\\n    iso_losses = pd.read_csv(\"losses/batch64_client_\"+str(client)+\".csv\").drop(columns=[\"iso_train\"])\\n    df = pd.concat([fed_losses, iso_losses], axis=1)\\n    df.plot(ax=axes[int(plot_id[0])][int(plot_id[1])],title=client)\\n'"
      ]
     },
     "execution_count": 4,
     "metadata": {},
     "output_type": "execute_result"
    }
   ],
   "source": [
    "\"\"\"\n",
    "fig,axes = plt.subplots(nrows=4,ncols=6,figsize=(60, 30))\n",
    "for client in client_ids:\n",
    "    plot_id = client.split(\"_\")\n",
    "    fed_losses = fed_learning_all_losses.loc[fed_learning_all_losses['client_id'] == client].reset_index().drop(columns=['index','training_round','client_id','fed_train'])\n",
    "    fed_losses = fed_losses.rename(columns={\"validation_loss\": \"fed_val\"})\n",
    "    iso_losses = pd.read_csv(\"losses/batch64_client_\"+str(client)+\".csv\").drop(columns=[\"iso_train\"])\n",
    "    df = pd.concat([fed_losses, iso_losses], axis=1)\n",
    "    df.plot(ax=axes[int(plot_id[0])][int(plot_id[1])],title=client)\n",
    "\"\"\""
   ]
  },
  {
   "cell_type": "code",
   "execution_count": 2,
   "metadata": {},
   "outputs": [
    {
     "ename": "NameError",
     "evalue": "name 'client_ids' is not defined",
     "output_type": "error",
     "traceback": [
      "\u001b[0;31m---------------------------------------------------------------------------\u001b[0m",
      "\u001b[0;31mNameError\u001b[0m                                 Traceback (most recent call last)",
      "Cell \u001b[0;32mIn[2], line 2\u001b[0m\n\u001b[1;32m      1\u001b[0m eval_list \u001b[38;5;241m=\u001b[39m []\n\u001b[0;32m----> 2\u001b[0m \u001b[38;5;28;01mfor\u001b[39;00m client \u001b[38;5;129;01min\u001b[39;00m client_ids:\n\u001b[1;32m      4\u001b[0m     val_data_path \u001b[38;5;241m=\u001b[39m  \u001b[38;5;124m\"\u001b[39m\u001b[38;5;124mtestpt/\u001b[39m\u001b[38;5;124m\"\u001b[39m\u001b[38;5;241m+\u001b[39m\u001b[38;5;28mstr\u001b[39m(client)\u001b[38;5;241m+\u001b[39m\u001b[38;5;124m\"\u001b[39m\u001b[38;5;124m.pt\u001b[39m\u001b[38;5;124m\"\u001b[39m\n\u001b[1;32m      5\u001b[0m     val_set \u001b[38;5;241m=\u001b[39m torch\u001b[38;5;241m.\u001b[39mload(val_data_path)\n",
      "\u001b[0;31mNameError\u001b[0m: name 'client_ids' is not defined"
     ]
    }
   ],
   "source": [
    "eval_list = []\n",
    "for client in client_ids:\n",
    "    \n",
    "    val_data_path =  \"testpt/\"+str(client)+\".pt\"\n",
    "    val_set = torch.load(val_data_path)\n",
    "    val_loader = DataLoader(val_set, batch_size, shuffle = True)\n",
    "    \n",
    "    isolated_model_path = \"checkpt/isolated/batch64_client_\"+str(client)+\".pth\"\n",
    "    isolated_model =  ShallowNN(features)\n",
    "    isolated_model.load_state_dict(torch.load(isolated_model_path))\n",
    "    \n",
    "    _, _ , isolated_mae = evaluate(isolated_model, val_loader, loss_fn)\n",
    "    _, _ , global_mae = evaluate(global_model,val_loader,loss_fn)\n",
    "    \n",
    "    eval_dict = {\"client_id\":client, \"Isolated Model MAE\": round(isolated_mae, 4), \"Federated Model MAE\" :round(global_mae, 4)}\n",
    "    eval_list.append(eval_dict)\n",
    "    \n",
    "eval_df = pd.DataFrame.from_dict(eval_list)\n",
    "eval_df[\"clients\"] = [i for i in range(1,25)] "
   ]
  },
  {
   "cell_type": "code",
   "execution_count": null,
   "metadata": {},
   "outputs": [],
   "source": [
    "ax = eval_df.plot.bar(x=\"clients\",figsize=(20, 10))\n",
    "ax.set_ylabel(\"Mean Absolute Error for Validation\",fontdict={'fontsize':13})\n",
    "ax.set_xlabel(\"Client IDs\",fontdict={'fontsize':13})\n",
    "ax.legend(fontsize=15, loc=\"upper right\")"
   ]
  },
  {
   "cell_type": "code",
   "execution_count": null,
   "metadata": {},
   "outputs": [],
   "source": [
    "ben_list = []\n",
    "for index, row in eval_df.iterrows():\n",
    "    ben_list.append(round(row['Isolated Model MAE']-row['Federated Model MAE'],4))\n",
    "eval_df[\"Benefict\"] = ben_list"
   ]
  },
  {
   "cell_type": "code",
   "execution_count": null,
   "metadata": {},
   "outputs": [],
   "source": [
    "eval_df.to_csv(\"insights/benifict.csv\", index= False)"
   ]
  },
  {
   "cell_type": "code",
   "execution_count": null,
   "metadata": {},
   "outputs": [],
   "source": [
    "eval_df.plot.bar(x=\"clients\",y=\"Benefict\", figsize=(8, 4))"
   ]
  },
  {
   "cell_type": "code",
   "execution_count": null,
   "metadata": {},
   "outputs": [],
   "source": [
    "def influence(global_model, influenced_model):\n",
    "    eval_list = []\n",
    "    for client in client_ids:\n",
    "\n",
    "        val_data_path =  \"testpt/\"+str(client)+\".pt\"\n",
    "        val_set = torch.load(val_data_path)\n",
    "        val_loader = DataLoader(val_set, batch_size, shuffle = True)\n",
    "\n",
    "        global_loss, _ , global_mae = evaluate(global_model,val_loader,loss_fn)\n",
    "        influenced_loss, _ , influenced_mae = evaluate(influenced_model, val_loader, loss_fn)\n",
    "\n",
    "        eval_dict = {\"client_id\":client, \"global_mae\": round(global_mae, 4), \n",
    "                     \"influenced_mae\" :round(influenced_mae, 4),\n",
    "                    \"global_loss\": round(global_loss,4),\n",
    "                    \"influenced_loss\": round(influenced_loss,4)}\n",
    "        \n",
    "        eval_list.append(eval_dict)\n",
    "\n",
    "    eval_df = pd.DataFrame.from_dict(eval_list)\n",
    "    \n",
    "    influence = round(eval_df[\"global_mae\"].sum() - eval_df[\"influenced_mae\"].sum() , 4)\n",
    "    loss_influence = round(eval_df[\"global_loss\"].sum() - eval_df[\"influenced_loss\"].sum() , 4)\n",
    "    return eval_df, influence,loss_influence"
   ]
  },
  {
   "cell_type": "code",
   "execution_count": null,
   "metadata": {},
   "outputs": [],
   "source": [
    "inf_val = []\n",
    "loss_inf_val = []\n",
    "for client in client_ids:\n",
    "    model = ShallowNN(features)\n",
    "    model.load_state_dict(torch.load('checkpt/influence/' + str(client)+ '_fedl_global_500.pth'))\n",
    "    df, inf,loss_inf = influence(global_model,model)\n",
    "    inf_val.append(abs(inf))\n",
    "    loss_inf_val.append(abs(loss_inf))\n",
    "    #df.to_csv(\"influence2_\"+str(client) + \".csv\", index=False)"
   ]
  },
  {
   "cell_type": "code",
   "execution_count": null,
   "metadata": {},
   "outputs": [],
   "source": [
    "data = {\"client id\": client_ids, \"inf_val\": inf_val, \"loss_inf_val\":loss_inf_val}\n",
    "data = pd.DataFrame(data)\n",
    "data.to_csv(\"insights/influence_with_batch_mae.csv\" , index=False)"
   ]
  },
  {
   "cell_type": "code",
   "execution_count": null,
   "metadata": {},
   "outputs": [],
   "source": []
  }
 ],
 "metadata": {
  "kernelspec": {
   "display_name": "Python 3 (ipykernel)",
   "language": "python",
   "name": "python3"
  },
  "language_info": {
   "codemirror_mode": {
    "name": "ipython",
    "version": 3
   },
   "file_extension": ".py",
   "mimetype": "text/x-python",
   "name": "python",
   "nbconvert_exporter": "python",
   "pygments_lexer": "ipython3",
   "version": "3.11.3"
  }
 },
 "nbformat": 4,
 "nbformat_minor": 2
}
