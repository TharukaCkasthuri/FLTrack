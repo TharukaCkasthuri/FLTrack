{
 "cells": [
  {
   "cell_type": "code",
   "execution_count": null,
   "metadata": {},
   "outputs": [],
   "source": [
    "import os \n",
    "\n",
    "import pandas as pd\n",
    "import numpy as np\n",
    "import seaborn as sns\n",
    "\n",
    "from utils import load_file\n",
    "import matplotlib.pyplot as plt"
   ]
  },
  {
   "cell_type": "code",
   "execution_count": null,
   "metadata": {},
   "outputs": [],
   "source": [
    "client_ids = [\"0_0\",\"0_1\",\"0_2\",\"0_3\",\"0_4\",\"0_5\",\"1_0\",\"1_1\",\"1_2\",\"1_3\",\"1_4\",\"1_5\",\"2_0\",\"2_1\",\"2_2\",\"2_3\",\"2_4\",\"2_5\",\"3_0\",\"3_1\",\"3_2\",\"3_3\",\"3_4\",\"3_5\"]"
   ]
  },
  {
   "cell_type": "code",
   "execution_count": null,
   "metadata": {},
   "outputs": [],
   "source": [
    "fed_learning_all_losses = pd.read_csv(\"losses/fed_learning_stats.csv\")"
   ]
  },
  {
   "cell_type": "code",
   "execution_count": null,
   "metadata": {},
   "outputs": [],
   "source": [
    "fig,axes = plt.subplots(nrows=4,ncols=6,figsize=(60, 30))\n",
    "for client in client_ids:\n",
    "    plot_id = client.split(\"_\")\n",
    "    fed_losses = fed_learning_all_losses.loc[fed_learning_all_losses['client_id'] == client].reset_index().drop(columns=['index','training_round','client_id','fed_train'])\n",
    "    fed_losses = fed_losses.rename(columns={\"validation_loss\": \"fed_val\"})\n",
    "    iso_losses = pd.read_csv(\"losses/\"+\"0_0\"+\".csv\").drop(columns=[\"iso_train\"])\n",
    "    df = pd.concat([fed_losses, iso_losses], axis=1)\n",
    "    df.plot(ax=axes[int(plot_id[0])][int(plot_id[1])],title=client)"
   ]
  },
  {
   "cell_type": "code",
   "execution_count": 4,
   "metadata": {},
   "outputs": [],
   "source": [
    "import torch\n",
    "import torch.nn as nn\n",
    "import torch.optim as optim\n",
    "import numpy as np\n",
    "from scipy.optimize import fmin_l_bfgs_b\n",
    "from torch.utils.data import Dataset, DataLoader\n",
    "\n",
    "from models import ShallowNN\n",
    "\n",
    "features = 197\n",
    "batch_size = 64"
   ]
  },
  {
   "cell_type": "code",
   "execution_count": 113,
   "metadata": {},
   "outputs": [],
   "source": [
    "from torch.autograd import grad\n",
    "import time\n",
    "\n",
    "from torch.autograd.functional import hessian\n",
    "\n",
    "from utils import calculate_hessian"
   ]
  },
  {
   "cell_type": "code",
   "execution_count": 114,
   "metadata": {},
   "outputs": [],
   "source": [
    "# Create an instance of the second model\n",
    "model2 = ShallowNN(features)\n",
    "\n",
    "# Load the pre-trained parameters (you should load your own trained model here)\n",
    "model2.load_state_dict(torch.load('checkpt/_64_fedl_global.pth'))\n",
    "\n",
    "validation_dataset = torch.load(\"testpt/0_0.pt\")\n",
    "validation_data_loader = DataLoader(validation_dataset, batch_size, shuffle = True)\n",
    "\n",
    "loss_fn = torch.nn.L1Loss() "
   ]
  },
  {
   "cell_type": "code",
   "execution_count": 116,
   "metadata": {},
   "outputs": [
    {
     "ename": "TypeError",
     "evalue": "The inputs given to hessian must be either a Tensor or a tuple of Tensors but the given inputs has type <class 'list'>.",
     "output_type": "error",
     "traceback": [
      "\u001b[1;31m---------------------------------------------------------------------------\u001b[0m",
      "\u001b[1;31mTypeError\u001b[0m                                 Traceback (most recent call last)",
      "Cell \u001b[1;32mIn[116], line 1\u001b[0m\n\u001b[1;32m----> 1\u001b[0m hessian_mat, time \u001b[38;5;241m=\u001b[39m calculate_hessian(model2,loss_fn,validation_data_loader)\n",
      "Cell \u001b[1;32mIn[113], line 19\u001b[0m, in \u001b[0;36mcalculate_hessian\u001b[1;34m(model, loss_fn, data_loader)\u001b[0m\n\u001b[0;32m     14\u001b[0m avg_loss \u001b[38;5;241m=\u001b[39m total_loss \u001b[38;5;241m/\u001b[39m \u001b[38;5;28mlen\u001b[39m(data_loader)\n\u001b[0;32m     17\u001b[0m start \u001b[38;5;241m=\u001b[39m time\u001b[38;5;241m.\u001b[39mtime()\n\u001b[1;32m---> 19\u001b[0m hessian_matrix \u001b[38;5;241m=\u001b[39m hessian(avg_loss, \u001b[38;5;28mlist\u001b[39m(model\u001b[38;5;241m.\u001b[39mparameters()), create_graph\u001b[38;5;241m=\u001b[39m\u001b[38;5;28;01mTrue\u001b[39;00m)\n\u001b[0;32m     21\u001b[0m \u001b[38;5;28;01mreturn\u001b[39;00m hessian_matrix, time\u001b[38;5;241m.\u001b[39mtime() \u001b[38;5;241m-\u001b[39m start\n",
      "File \u001b[1;32m~\\AppData\\Local\\anaconda3\\envs\\experiment_v3\\Lib\\site-packages\\torch\\autograd\\functional.py:800\u001b[0m, in \u001b[0;36mhessian\u001b[1;34m(func, inputs, create_graph, strict, vectorize, outer_jacobian_strategy)\u001b[0m\n\u001b[0;32m    713\u001b[0m \u001b[38;5;28;01mdef\u001b[39;00m \u001b[38;5;21mhessian\u001b[39m(func, inputs, create_graph\u001b[38;5;241m=\u001b[39m\u001b[38;5;28;01mFalse\u001b[39;00m, strict\u001b[38;5;241m=\u001b[39m\u001b[38;5;28;01mFalse\u001b[39;00m, vectorize\u001b[38;5;241m=\u001b[39m\u001b[38;5;28;01mFalse\u001b[39;00m, outer_jacobian_strategy\u001b[38;5;241m=\u001b[39m\u001b[38;5;124m\"\u001b[39m\u001b[38;5;124mreverse-mode\u001b[39m\u001b[38;5;124m\"\u001b[39m):\n\u001b[0;32m    714\u001b[0m \u001b[38;5;250m    \u001b[39m\u001b[38;5;124mr\u001b[39m\u001b[38;5;124;03m\"\"\"Function that computes the Hessian of a given scalar function.\u001b[39;00m\n\u001b[0;32m    715\u001b[0m \n\u001b[0;32m    716\u001b[0m \u001b[38;5;124;03m    Args:\u001b[39;00m\n\u001b[1;32m   (...)\u001b[0m\n\u001b[0;32m    797\u001b[0m \u001b[38;5;124;03m                  [0., 6.]])))\u001b[39;00m\n\u001b[0;32m    798\u001b[0m \u001b[38;5;124;03m    \"\"\"\u001b[39;00m\n\u001b[1;32m--> 800\u001b[0m     is_inputs_tuple, inputs \u001b[38;5;241m=\u001b[39m _as_tuple(inputs, \u001b[38;5;124m\"\u001b[39m\u001b[38;5;124minputs\u001b[39m\u001b[38;5;124m\"\u001b[39m, \u001b[38;5;124m\"\u001b[39m\u001b[38;5;124mhessian\u001b[39m\u001b[38;5;124m\"\u001b[39m)\n\u001b[0;32m    801\u001b[0m     \u001b[38;5;28;01massert\u001b[39;00m outer_jacobian_strategy \u001b[38;5;129;01min\u001b[39;00m (\u001b[38;5;124m\"\u001b[39m\u001b[38;5;124mforward-mode\u001b[39m\u001b[38;5;124m\"\u001b[39m, \u001b[38;5;124m\"\u001b[39m\u001b[38;5;124mreverse-mode\u001b[39m\u001b[38;5;124m\"\u001b[39m), (\n\u001b[0;32m    802\u001b[0m         \u001b[38;5;124m'\u001b[39m\u001b[38;5;124mExpected strategy to be either \u001b[39m\u001b[38;5;124m\"\u001b[39m\u001b[38;5;124mforward-mode\u001b[39m\u001b[38;5;124m\"\u001b[39m\u001b[38;5;124m or \u001b[39m\u001b[38;5;124m\"\u001b[39m\u001b[38;5;124mreverse-mode\u001b[39m\u001b[38;5;124m\"\u001b[39m\u001b[38;5;124m.\u001b[39m\u001b[38;5;124m'\u001b[39m)\n\u001b[0;32m    804\u001b[0m     \u001b[38;5;28;01mdef\u001b[39;00m \u001b[38;5;21mensure_single_output_function\u001b[39m(\u001b[38;5;241m*\u001b[39minp):\n",
      "File \u001b[1;32m~\\AppData\\Local\\anaconda3\\envs\\experiment_v3\\Lib\\site-packages\\torch\\autograd\\functional.py:37\u001b[0m, in \u001b[0;36m_as_tuple\u001b[1;34m(inp, arg_name, fn_name)\u001b[0m\n\u001b[0;32m     34\u001b[0m             \u001b[38;5;28;01mraise\u001b[39;00m \u001b[38;5;167;01mTypeError\u001b[39;00m(\u001b[38;5;124m\"\u001b[39m\u001b[38;5;124mThe \u001b[39m\u001b[38;5;132;01m{}\u001b[39;00m\u001b[38;5;124m given to \u001b[39m\u001b[38;5;132;01m{}\u001b[39;00m\u001b[38;5;124m must be either a Tensor or a tuple of Tensors but the\u001b[39m\u001b[38;5;124m\"\u001b[39m\n\u001b[0;32m     35\u001b[0m                             \u001b[38;5;124m\"\u001b[39m\u001b[38;5;124m value at index \u001b[39m\u001b[38;5;132;01m{}\u001b[39;00m\u001b[38;5;124m has type \u001b[39m\u001b[38;5;132;01m{}\u001b[39;00m\u001b[38;5;124m.\u001b[39m\u001b[38;5;124m\"\u001b[39m\u001b[38;5;241m.\u001b[39mformat(arg_name, fn_name, i, \u001b[38;5;28mtype\u001b[39m(el)))\n\u001b[0;32m     36\u001b[0m         \u001b[38;5;28;01melse\u001b[39;00m:\n\u001b[1;32m---> 37\u001b[0m             \u001b[38;5;28;01mraise\u001b[39;00m \u001b[38;5;167;01mTypeError\u001b[39;00m(\u001b[38;5;124m\"\u001b[39m\u001b[38;5;124mThe \u001b[39m\u001b[38;5;132;01m{}\u001b[39;00m\u001b[38;5;124m given to \u001b[39m\u001b[38;5;132;01m{}\u001b[39;00m\u001b[38;5;124m must be either a Tensor or a tuple of Tensors but the\u001b[39m\u001b[38;5;124m\"\u001b[39m\n\u001b[0;32m     38\u001b[0m                             \u001b[38;5;124m\"\u001b[39m\u001b[38;5;124m given \u001b[39m\u001b[38;5;132;01m{}\u001b[39;00m\u001b[38;5;124m has type \u001b[39m\u001b[38;5;132;01m{}\u001b[39;00m\u001b[38;5;124m.\u001b[39m\u001b[38;5;124m\"\u001b[39m\u001b[38;5;241m.\u001b[39mformat(arg_name, fn_name, arg_name, \u001b[38;5;28mtype\u001b[39m(el)))\n\u001b[0;32m     40\u001b[0m \u001b[38;5;28;01mreturn\u001b[39;00m is_inp_tuple, inp\n",
      "\u001b[1;31mTypeError\u001b[0m: The inputs given to hessian must be either a Tensor or a tuple of Tensors but the given inputs has type <class 'list'>."
     ]
    }
   ],
   "source": [
    "hessian_mat, time = calculate_hessian(model2,loss_fn,validation_data_loader)"
   ]
  },
  {
   "cell_type": "code",
   "execution_count": null,
   "metadata": {},
   "outputs": [],
   "source": [
    "convert model.parameter to a tensor"
   ]
  },
  {
   "cell_type": "code",
   "execution_count": 81,
   "metadata": {},
   "outputs": [
    {
     "data": {
      "text/plain": [
       "torch.Size([14785, 14785])"
      ]
     },
     "execution_count": 81,
     "metadata": {},
     "output_type": "execute_result"
    }
   ],
   "source": [
    "hessian_mat.shape"
   ]
  },
  {
   "cell_type": "code",
   "execution_count": 83,
   "metadata": {},
   "outputs": [
    {
     "data": {
      "text/plain": [
       "37.233333333333334"
      ]
     },
     "execution_count": 83,
     "metadata": {},
     "output_type": "execute_result"
    }
   ],
   "source": [
    "2234/60"
   ]
  },
  {
   "cell_type": "code",
   "execution_count": 51,
   "metadata": {},
   "outputs": [
    {
     "ename": "SyntaxError",
     "evalue": "invalid syntax (129499540.py, line 6)",
     "output_type": "error",
     "traceback": [
      "\u001b[1;36m  Cell \u001b[1;32mIn[51], line 6\u001b[1;36m\u001b[0m\n\u001b[1;33m    .\u001b[0m\n\u001b[1;37m    ^\u001b[0m\n\u001b[1;31mSyntaxError\u001b[0m\u001b[1;31m:\u001b[0m invalid syntax\n"
     ]
    }
   ],
   "source": [
    "import torch\n",
    "import time\n",
    "\n",
    "# Create model\n",
    "model = torch.nn.Sequential(torch.nn.Linear(1, 100), torch.nn.Tanh(), torch.nn.Linear(100, 1))\n",
    "\n",
    "# Evaluate some loss on a random dataset\n",
    "x = torch.rand((1000,1))\n",
    "y = torch.rand((1000,1))\n",
    "y_hat = model(x)\n",
    "loss = ((y_hat - y)**2).mean()\n",
    "\n",
    "print(loss)\n",
    "\n",
    "''' Calculate Hessian '''\n",
    "start = time.time()\n",
    "\n",
    "# Allocate Hessian size\n",
    "H = torch.zeros((num_param, num_param))\n",
    "\n",
    "# Calculate Jacobian w.r.t. model parameters\n",
    "J = torch.autograd.grad(loss, list(model.parameters()), create_graph=True)\n",
    "J = torch.cat([e.flatten() for e in J]) # flatten\n",
    "\n",
    "# Fill in Hessian\n",
    "for i in range(num_param):\n",
    "    result = torch.autograd.grad(J[i], list(model.parameters()), retain_graph=True)\n",
    "    H[i] = torch.cat([r.flatten() for r in result]) # flatten\n",
    "\n",
    "print(time.time() - start)"
   ]
  },
  {
   "cell_type": "code",
   "execution_count": 24,
   "metadata": {},
   "outputs": [
    {
     "data": {
      "text/plain": [
       "tensor([[ 7.7808e-03, -9.2551e-05,  5.4254e-04,  ..., -3.1248e-03,\n",
       "         -9.6760e-03,  1.4003e-02],\n",
       "        [-9.2551e-05, -8.2589e-03, -4.0214e-04,  ...,  2.2377e-03,\n",
       "          7.0062e-03, -1.0067e-02],\n",
       "        [ 5.4254e-04, -4.0214e-04,  3.1513e-02,  ..., -1.2930e-02,\n",
       "         -4.0726e-02,  5.8290e-02],\n",
       "        ...,\n",
       "        [-3.1248e-03,  2.2377e-03, -1.2930e-02,  ...,  1.0654e-01,\n",
       "          2.9482e-01, -4.6080e-01],\n",
       "        [-9.6760e-03,  7.0062e-03, -4.0726e-02,  ...,  2.9482e-01,\n",
       "          8.4683e-01, -1.2899e+00],\n",
       "        [ 1.4003e-02, -1.0067e-02,  5.8290e-02,  ..., -4.6080e-01,\n",
       "         -1.2899e+00,  2.0000e+00]])"
      ]
     },
     "execution_count": 24,
     "metadata": {},
     "output_type": "execute_result"
    }
   ],
   "source": [
    "H"
   ]
  },
  {
   "cell_type": "code",
   "execution_count": null,
   "metadata": {},
   "outputs": [],
   "source": [
    "\n",
    "\n",
    "# Get the shape of the model's parameters\n",
    "model_parameters_shape = np.concatenate([p.data.view(-1).detach().cpu().numpy() for p in global_model.parameters()]).shape\n",
    "\n",
    "# Sample data and labels (random data for illustration purposes)\n",
    "inputs = torch.randn(100, input_dim)\n",
    "labels = torch.randn(100, output_dim)\n",
    "\n",
    "# Calculate the Hessian-vector product for both models\n",
    "_, Hvp1 = fmin_l_bfgs_b(loss_and_hvp, x0=model1_parameters, args=(global_model, criterion, inputs, labels))\n",
    "_, Hvp2 = fmin_l_bfgs_b(loss_and_hvp, x0=model2_parameters, args=(model2, criterion, inputs, labels))\n",
    "\n",
    "# Compare the Hessian properties (e.g., eigenvalues, eigenvalue distribution, sensitivity analysis, etc.)\n",
    "# You can use NumPy or other libraries to analyze the Hessian properties."
   ]
  },
  {
   "cell_type": "code",
   "execution_count": null,
   "metadata": {},
   "outputs": [],
   "source": []
  }
 ],
 "metadata": {
  "kernelspec": {
   "display_name": "Python 3 (ipykernel)",
   "language": "python",
   "name": "python3"
  },
  "language_info": {
   "codemirror_mode": {
    "name": "ipython",
    "version": 3
   },
   "file_extension": ".py",
   "mimetype": "text/x-python",
   "name": "python",
   "nbconvert_exporter": "python",
   "pygments_lexer": "ipython3",
   "version": "3.11.3"
  }
 },
 "nbformat": 4,
 "nbformat_minor": 2
}
