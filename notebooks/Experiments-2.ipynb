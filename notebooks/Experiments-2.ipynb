{
 "cells": [
  {
   "cell_type": "code",
   "execution_count": 2,
   "id": "0f511941",
   "metadata": {},
   "outputs": [],
   "source": [
    "import os\n",
    "import sys\n",
    "import time\n",
    "import torch\n",
    "\n",
    "import pandas as pd\n",
    "import numpy as np\n",
    "\n",
    "import matplotlib.pyplot as plt\n",
    "from torch.utils.data import DataLoader\n",
    "\n",
    "root_dir = os.path.dirname(os.getcwd())\n",
    "sys.path.append(root_dir)\n",
    "\n",
    "import FLTrack.utils as utils\n",
    "from FLTrack.models import ShallowNN\n",
    "from FLTrack.evals import evaluate_mae_with_confidence\n",
    "from FLTrack.evals import influence\n",
    "from FLTrack.evals import evaluate\n",
    "from FLTrack.eccentricity import euclidean_distance, accumulated_proximity, hessian_eccentricity\n",
    "\n",
    "features = 169\n",
    "batch_size = 64\n",
    "loss_fn = torch.nn.L1Loss()"
   ]
  },
  {
   "cell_type": "code",
   "execution_count": 3,
   "id": "837ad7d4",
   "metadata": {},
   "outputs": [],
   "source": [
    "client_ids = [f\"c{i}\" for i in range(1, 25)]"
   ]
  },
  {
   "cell_type": "code",
   "execution_count": 4,
   "id": "8ef71a57",
   "metadata": {},
   "outputs": [],
   "source": [
    "def eval(model, loss_fn, dataloader) -> float:\n",
    "    \"\"\"\n",
    "    Evaluate the model with validation dataset.\n",
    "\n",
    "    Parameters:\n",
    "    ------------\n",
    "    model: torch.nn.Module object; model to be evaluated\n",
    "    loss_fn: torch.nn.Module object; loss function\n",
    "\n",
    "    Returns:\n",
    "    ------------\n",
    "    loss_avg: float; average loss\n",
    "    \"\"\"\n",
    "    batch_loss = []\n",
    "    for _, (x, y) in enumerate(dataloader):\n",
    "        outputs = model(x)\n",
    "        y = y.view(-1, 1)\n",
    "        loss = loss_fn(outputs, y)\n",
    "        batch_loss.append(loss.item())\n",
    "    loss_avg = sum(batch_loss) / len(batch_loss)\n",
    "\n",
    "    return loss_avg"
   ]
  },
  {
   "cell_type": "markdown",
   "id": "20601c4d-aba5-47bc-b99a-1a48d82e7ae4",
   "metadata": {},
   "source": [
    "## Isolated Model Performance"
   ]
  },
  {
   "cell_type": "code",
   "execution_count": 6,
   "id": "5840aba3",
   "metadata": {},
   "outputs": [
    {
     "name": "stdout",
     "output_type": "stream",
     "text": [
      "c1 1.2448173184548654\n",
      "c2 1.5595299512781995\n",
      "c3 1.9419097304344177\n",
      "c4 1.2287787230391252\n",
      "c5 1.2227578461170197\n",
      "c6 1.331301513645384\n",
      "c7 1.6446248590946198\n",
      "c8 1.7471107993807111\n",
      "c9 1.6413296305614968\n",
      "c10 1.2675633287948112\n",
      "c11 1.169335653653016\n",
      "c12 1.5643055298749138\n",
      "c13 1.9531276784837246\n",
      "c14 1.0858797104585738\n",
      "c15 2.0104206562042237\n",
      "c16 1.719310571750005\n",
      "c17 1.5549181135077226\n",
      "c18 2.326359521258961\n",
      "c19 1.2819792156995728\n",
      "c20 1.4047927298853475\n",
      "c21 1.5045307052546535\n",
      "c22 1.6499600580760412\n",
      "c23 1.0989618081113566\n",
      "c24 1.9729837002577606\n"
     ]
    }
   ],
   "source": [
    "for client in client_ids:\n",
    "    val_data_path =  \"../testpt/\"+str(client)+\".pt\"\n",
    "    val_set = torch.load(val_data_path)\n",
    "    val_loader = DataLoader(val_set, batch_size, shuffle = True)\n",
    "    isolated_model_path = \"../FLTrack/checkpt/isolated/epoch_250/batch256_client_\"+str(client)+\".pth\"\n",
    "    isolated_model =  ShallowNN(169)\n",
    "    isolated_model.load_state_dict(torch.load(isolated_model_path))\n",
    "    print(str(client), eval(isolated_model, loss_fn, val_loader))"
   ]
  },
  {
   "cell_type": "markdown",
   "id": "72d8b171-f5cd-49af-a454-82bf4b572492",
   "metadata": {},
   "source": [
    "## Federated Model Performance"
   ]
  },
  {
   "cell_type": "code",
   "execution_count": 11,
   "id": "64a6dc00",
   "metadata": {},
   "outputs": [
    {
     "data": {
      "text/plain": [
       "<All keys matched successfully>"
      ]
     },
     "execution_count": 11,
     "metadata": {},
     "output_type": "execute_result"
    }
   ],
   "source": [
    "global_model = ShallowNN(features)\n",
    "global_model.load_state_dict(torch.load('../FLTrack/checkpt/fedl/epoch_250/25_rounds_10_epochs_per_round/global_model.pth'))"
   ]
  },
  {
   "cell_type": "code",
   "execution_count": 12,
   "id": "67248f7f-12db-4b6b-a1ea-bd63b652caac",
   "metadata": {},
   "outputs": [
    {
     "name": "stdout",
     "output_type": "stream",
     "text": [
      "c1 1.4408\n",
      "c2 1.5234\n",
      "c3 1.5269\n",
      "c4 1.8864\n",
      "c5 1.4302\n",
      "c6 1.4552\n",
      "c7 1.552\n",
      "c8 1.6741\n",
      "c9 2.154\n",
      "c10 1.9751\n",
      "c11 1.7867\n",
      "c12 1.5772\n",
      "c13 2.5982\n",
      "c14 1.505\n",
      "c15 1.6891\n",
      "c16 1.4583\n",
      "c17 1.5773\n",
      "c18 2.1372\n",
      "c19 1.7337\n",
      "c20 1.4917\n",
      "c21 1.399\n",
      "c22 2.7562\n",
      "c23 1.7924\n",
      "c24 1.7219\n"
     ]
    }
   ],
   "source": [
    "mae = []\n",
    "for client in client_ids:\n",
    "    val_data_path =  \"../testpt/\"+str(client)+\".pt\"\n",
    "    val_set = torch.load(val_data_path)\n",
    "    val_loader = DataLoader(val_set, batch_size, shuffle = True,drop_last=True )\n",
    "    mae.append(eval(global_model, loss_fn, val_loader))\n",
    "    print(str(client), round(eval(global_model, loss_fn, val_loader),4))"
   ]
  },
  {
   "cell_type": "markdown",
   "id": "4761b18f",
   "metadata": {},
   "source": [
    "## Error Bars for Federated Learning vs Isolated Training"
   ]
  },
  {
   "cell_type": "code",
   "execution_count": 9,
   "id": "ac455aa6",
   "metadata": {},
   "outputs": [],
   "source": [
    "eval_list = []\n",
    "for client in client_ids:\n",
    "    val_data_path =  \"../testpt/\"+str(client)+\".pt\"\n",
    "    val_set = torch.load(val_data_path)\n",
    "    val_loader = DataLoader(val_set, batch_size, shuffle = True)\n",
    "    \n",
    "    isolated_model_path = \"../FLTrack/checkpt/isolated/epoch_250/batch256_client_\"+str(client)+\".pth\"\n",
    "    isolated_model =  ShallowNN(features)\n",
    "    isolated_model.load_state_dict(torch.load(isolated_model_path))\n",
    "    \n",
    "    isolated_mae,(iso_lower_band, iso_upper_band), _  = evaluate_mae_with_confidence(isolated_model, val_loader)\n",
    "    federated_mae,(fed_lower_band, fed_upper_band), _ = evaluate_mae_with_confidence(global_model,val_loader)\n",
    "    \n",
    "    eval_dict = {\"client_id\":client, \"Isolated Average MAE\": round(isolated_mae, 4),\n",
    "                 \"Isolated MAE lower band\":round(iso_lower_band,4),\n",
    "                 \"Isolated MAE upper band\":round(iso_upper_band,4),\n",
    "                 \"Federated Average MAE\" :round(federated_mae, 4),\n",
    "                \"Federated MAE lower band\": round(fed_lower_band, 4),\n",
    "                \"Federated MAE upper band\":round(fed_upper_band,4)}\n",
    "    eval_list.append(eval_dict)\n",
    "    \n",
    "eval_df = pd.DataFrame.from_dict(eval_list)\n",
    "eval_df[\"clients\"] = [i for i in range(1,25)] "
   ]
  },
  {
   "cell_type": "code",
   "execution_count": 10,
   "id": "ca78caa4",
   "metadata": {},
   "outputs": [
    {
     "data": {
      "image/png": "[encoded data removed]",
      "text/plain": [
       "<Figure size 2000x1000 with 1 Axes>"
      ]
     },
     "metadata": {},
     "output_type": "display_data"
    }
   ],
   "source": [
    "fig, ax = plt.subplots(figsize=(20, 10))\n",
    "bar_width = 0.3\n",
    "index = eval_df.index\n",
    "\n",
    "bar1 = ax.bar(index - bar_width / 2, eval_df['Isolated Average MAE'], bar_width, yerr=[\n",
    "    (eval_df[\"Isolated Average MAE\"] - eval_df[\"Isolated MAE lower band\"]),\n",
    "    (eval_df['Isolated MAE upper band'] - eval_df[\"Isolated Average MAE\"])\n",
    "], capsize=5, label='Isolated Model MAE')\n",
    "\n",
    "bar2 = ax.bar(index + bar_width / 2, eval_df['Federated Average MAE'], bar_width, yerr=[\n",
    "    (eval_df[\"Federated Average MAE\"] - eval_df[\"Federated MAE lower band\"]),\n",
    "    (eval_df['Federated MAE upper band'] - eval_df[\"Federated Average MAE\"])\n",
    "], capsize=5, label='Federated Model MAE')\n",
    "\n",
    "ax.set_xlabel('Client IDs', fontdict={'fontsize': 13})\n",
    "ax.set_ylabel(\"Mean Absolute Error for Validation\", fontdict={'fontsize': 13})\n",
    "ax.set_xticks(index)\n",
    "ax.set_xticklabels(eval_df['clients'])\n",
    "ax.legend(fontsize=15, loc=\"upper right\")\n",
    "\n",
    "# Adjust the xlim to decrease space at the left and right edges\n",
    "ax.set_xlim(index[0] - 0.7, index[-1] + 0.7)\n",
    "\n",
    "plt.show()"
   ]
  },
  {
   "cell_type": "markdown",
   "id": "34b2cf62",
   "metadata": {},
   "source": [
    "## Influence with prediction difference at 500 global rounds"
   ]
  },
  {
   "cell_type": "code",
   "execution_count": null,
   "id": "95700673",
   "metadata": {},
   "outputs": [],
   "source": [
    "inf_val = []\n",
    "for client in client_ids:\n",
    "    model = ShallowNN(features)\n",
    "    model.load_state_dict(torch.load('../checkpt/epoch_500/influence/' + str(client)+ '_fedl_global_500.pth'))\n",
    "    val_data_path =  \"../testpt/\"+str(client)+\".pt\"\n",
    "    val_set = torch.load(val_data_path)\n",
    "    inf = influence(global_model,model,val_set)\n",
    "    inf_val.append(round(inf.item(),4))\n",
    "   \n",
    "data = {\"client id\": client_ids, \"inf_val\": inf_val}\n",
    "data = pd.DataFrame(data)\n",
    "data.to_csv(\"../insights/influence_with_pred_diff_ex1.csv\" , index=False)"
   ]
  },
  {
   "cell_type": "markdown",
   "id": "fec6f7c4",
   "metadata": {},
   "source": [
    "## Influence with prediction difference at 1 global round and 25 local rounds"
   ]
  },
  {
   "cell_type": "code",
   "execution_count": null,
   "id": "ed8a1594-7c45-4c8c-a873-72c9a937e400",
   "metadata": {},
   "outputs": [],
   "source": [
    "def influence(\n",
    "    model: torch.nn.Module,\n",
    "    influenced_model: torch.nn.Module,\n",
    "    dataloader: torch.utils.data.DataLoader,\n",
    ") -> float:\n",
    "    \"\"\"\n",
    "    Calculate the influence of the model on the influenced model for the given validation set based on the prediction difference.\n",
    "\n",
    "    Parameters:\n",
    "    -------------\n",
    "    model: torch.nn.Module object;\n",
    "        Model trained with all the clients.\n",
    "    influenced_model: torch.nn.Module object;\n",
    "        Model trained without a specific client.\n",
    "    data_loader: torch.utils.data.DataLoader object;\n",
    "        Validation dataset.\n",
    "/'\n",
    "    Returns:\n",
    "    -------------\n",
    "    influence: float;\n",
    "        Influence of the model on the influenced model\n",
    "    \"\"\"\n",
    "\n",
    "    batch_inf = []\n",
    "    for _, (x, y) in enumerate(dataloader):\n",
    "        output = model(x)\n",
    "        inf_output = influenced_model(x)\n",
    "        inf = np.mean(np.abs(output.detach().numpy() - inf_output.detach().numpy()))\n",
    "        batch_inf.append(inf.item())\n",
    "    influence = sum(batch_inf) / len(batch_inf)\n",
    "\n",
    "    return influence\n",
    "        "
   ]
  },
  {
   "cell_type": "code",
   "execution_count": null,
   "id": "3b8cf202",
   "metadata": {},
   "outputs": [],
   "source": [
    "\n",
    "inf_val_test = []\n",
    "for client in client_ids:\n",
    "    influenced_model = ShallowNN(features)\n",
    "    influenced_model.load_state_dict(torch.load('FLTrack/checkpt/influence/25_rounds_10_epochs/'+str(client)+'/global_model.pth'))\n",
    "    val_data_path =  \"testpt/\"+str(client)+\".pt\"\n",
    "    val_set = torch.load(val_data_path)\n",
    "    val_loader = DataLoader(val_set, batch_size, shuffle = True,drop_last=True )\n",
    "\n",
    "    \n",
    "    inf = influence(global_model,influenced_model,val_loader)\n",
    "    \n",
    "    print(client,round(inf,4))\n",
    "    #inf_val_test.append(round(inf,4))\n",
    "    \n",
    "#data_test = {\"client id\": client_ids, \"inf_val\": inf_val_test}\n",
    "#data_test = pd.DataFrame(data_test)\n",
    "#data_test.to_csv(\"insights/influence_with_pred_diff_ex2.csv\" , index=False)"
   ]
  },
  {
   "cell_type": "markdown",
   "id": "a345ea02",
   "metadata": {},
   "source": [
    "## Influence with mae at 1 global round and 25 local rounds"
   ]
  },
  {
   "cell_type": "code",
   "execution_count": null,
   "id": "be237c40",
   "metadata": {},
   "outputs": [],
   "source": [
    "performance_inf = []\n",
    "for client in client_ids:\n",
    "    influenced_model = ShallowNN(features)\n",
    "    influenced_model.load_state_dict(torch.load('FLTrack/checkpt/influence/25_rounds_10_epochs/'+str(client)+'/global_model.pth'))\n",
    "    val_data_path =  \"testpt/\"+str(client)+\".pt\"\n",
    "    val_set = torch.load(val_data_path)\n",
    "    val_loader = DataLoader(val_set, batch_size, shuffle = True)\n",
    "    \n",
    "    influenced_mae = eval(influenced_model, loss_fn, val_loader)\n",
    "    global_mae = eval(global_model,loss_fn, val_loader)\n",
    "    \n",
    "    inf = global_mae - influenced_mae\n",
    "    \n",
    "    performance_inf.append(round(inf,4))\n",
    "\n",
    "data = {\"client id\": client_ids, \"inf_val\": performance_inf}\n",
    "data = pd.DataFrame(data)\n",
    "#data.to_csv(\"influence_with_mae_ex2.csv\" , index=False)"
   ]
  },
  {
   "cell_type": "code",
   "execution_count": null,
   "id": "4be3d93e-3b59-42a3-98b4-605978517784",
   "metadata": {},
   "outputs": [],
   "source": [
    "data"
   ]
  },
  {
   "cell_type": "markdown",
   "id": "5c5471d9",
   "metadata": {
    "jp-MarkdownHeadingCollapsed": true
   },
   "source": [
    "## Eccentricity  $\\xi^L$ \n",
    "\n",
    "$\n",
    "\\begin{equation}\\label{eq:Ecc1}\n",
    "\\xi_i = \\frac{2\\sum_{j=1}^{k}d(\\mathcal{H}_{\\mu_i}, \\mathcal{H}_{\\mu_j})}{\\sum_{l=1}^{k}\\sum _{j=1}^{k} d(\\mathcal{H}_{\\mu_l}, \\mathcal{H}_{\\mu_j})},\n",
    "\\end{equation}\n",
    "$\n",
    "\n",
    "Where  $\\mathcal{H}_{\\mu_i}$ is the Hessian matrix of client $i$, and $d(.,.)$ is the Euclidean distance between the Hessian matrices of two clients. "
   ]
  },
  {
   "cell_type": "code",
   "execution_count": null,
   "id": "5be124b8",
   "metadata": {},
   "outputs": [],
   "source": [
    "local_matrix_dict = {\n",
    "        key: torch.load(\"hessians/epoch_500/iso/\" + str(key) + \".pth\")\n",
    "        for key in client_ids\n",
    "    }"
   ]
  },
  {
   "cell_type": "code",
   "execution_count": null,
   "id": "ffdcbf7c",
   "metadata": {},
   "outputs": [],
   "source": [
    "ecce_dict = hessian_eccentricity(local_matrix_dict, euclidean_distance)\n",
    "ecc_hessian = {\"client id\": client_ids, \"hess_ecc\": list(ecce_dict.values())}\n",
    "ecc_hessian = pd.DataFrame(ecc_hessian)\n",
    "ecc_hessian.to_csv(\"insights/eccentricity_with_hessian_euclidean_with_local_model.csv\" , index=False)"
   ]
  },
  {
   "cell_type": "markdown",
   "id": "187af1ff",
   "metadata": {},
   "source": [
    "## Eccentricity $\\xi^G$ \n",
    "\n",
    "$\n",
    "\\begin{equation}\\label{eq:Ecc1}\n",
    "\\xi_i = \\frac{2\\sum_{j=1}^{k}d(\\mathcal{H}^i_{\\mathcal M}, \\mathcal{H}^j_{\\mathcal M})}{\\sum_{l=1}^{k}\\sum _{j=1}^{k} d(\\mathcal{H}^l_{\\mathcal M}, \\mathcal{H}^j_{\\mathcal M})},\n",
    "\\end{equation}\n",
    "$\n",
    "\n",
    "where $\\mathcal{H}^i_{\\mathcal M}$ is the Hessian matrix of client $i$, and $d(.,.)$ is the Euclidean distance between the Hessian matrices global with respect to the validation dataset of clients $i$. "
   ]
  },
  {
   "cell_type": "code",
   "execution_count": null,
   "id": "ea27cf65",
   "metadata": {},
   "outputs": [],
   "source": [
    "global_matrix_dict = {\n",
    "        key: torch.load(\"hessians/epoch_500/fed/\" + str(key) + \".pth\")\n",
    "        for key in client_ids\n",
    "    }"
   ]
  },
  {
   "cell_type": "code",
   "execution_count": null,
   "id": "0e62f60d",
   "metadata": {},
   "outputs": [],
   "source": [
    "ecce_dict_g = hessian_eccentricity(global_matrix_dict, euclidean_distance)\n",
    "ecc_hessian_g = {\"client id\": client_ids, \"hess_ecc\": list(ecce_dict_g.values())}\n",
    "ecc_hessian_g = pd.DataFrame(ecc_hessian)\n",
    "ecc_hessian_g.to_csv(\"insights/eccentricity_with_hessian_euclidean_with_globall_model.csv\" , index=False)"
   ]
  },
  {
   "cell_type": "code",
   "execution_count": null,
   "id": "ad4905bf-47b7-46e5-b398-c2b0e017ff97",
   "metadata": {},
   "outputs": [],
   "source": [
    "import numpy as np\n",
    "\n",
    "# Original lists\n",
    "l1 = np.array([0.0432, 0.0402, 0.0386, 0.0452, 0.04, 0.038, 0.0377, 0.036,\n",
    "               0.04, 0.0453, 0.0394, 0.0362, 0.0381, 0.0523, 0.042, 0.045,\n",
    "               0.04, 0.0475, 0.0501, 0.0424, 0.0383, 0.0368, 0.0457, 0.0417])\n",
    "l2 = np.array([0.8917, 0.9621, 1.0665, 1.4851, 5.0129, 1.0305, 1.0048, 2.0591,\n",
    "               1.3992, 1.7189, 3.6455, 0.4959, 13.4899, 5.7832, 1.4255, 1.417,\n",
    "               1.0406, 12.922, 1.2767, 1.6468, 0.9006, 3.5644, 1.2182, 1.2461])\n",
    "\n",
    "# Sort lists\n",
    "l1_sorted = np.sort(l1)\n",
    "l2_sorted = np.sort(l2)\n",
    "\n",
    "# Calculate quantiles\n",
    "quantiles_l1 = np.arange(0, 1, 1/len(l1_sorted))\n",
    "quantiles_l2 = np.arange(0, 1, 1/len(l2_sorted))\n",
    "\n",
    "# Use interpolation to find adjusted values of l1\n",
    "adjusted_l1 = np.interp(quantiles_l2, quantiles_l1, l1_sorted)\n",
    "\n",
    "print(\"Adjusted l1:\", adjusted_l1)\n"
   ]
  },
  {
   "cell_type": "code",
   "execution_count": null,
   "id": "56d77f21-8e7c-477a-a818-7036d5339517",
   "metadata": {},
   "outputs": [],
   "source": [
    "import numpy as np\n",
    "from scipy.stats import pearsonr\n",
    "\n",
    "# Original lists\n",
    "l1 = np.array([0.0432, 0.0402, 0.0386, 0.0452, 0.04, 0.038, 0.0377, 0.036,\n",
    "               0.04, 0.0453, 0.0394, 0.0362, 0.0381, 0.0523, 0.042, 0.045,\n",
    "               0.04, 0.0475, 0.0501, 0.0424, 0.0383, 0.0368, 0.0457, 0.0417])\n",
    "l2 = np.array([0.8917, 0.9621, 1.0665, 1.4851, 5.0129, 1.0305, 1.0048, 2.0591,\n",
    "               1.3992, 1.7189, 3.6455, 0.4959, 13.4899, 5.7832, 1.4255, 1.417,\n",
    "               1.0406, 12.922, 1.2767, 1.6468, 0.9006, 3.5644, 1.2182, 1.2461])\n",
    "\n",
    "# Calculate the original correlation\n",
    "original_corr, _ = pearsonr(adjusted_l1, l2)\n",
    "print(\"Original correlation:\", original_corr)\n",
    "\n",
    "# Brute-force search for optimal values of a and b\n",
    "best_corr = original_corr\n",
    "best_a = 2.0\n",
    "best_b = 0.0\n",
    "\n",
    "for a in np.linspace(0.9, 1.1, 100):\n",
    "    for b in np.linspace(-0.05, 0.05, 100):\n",
    "        modified_l1 = a * l1 + b\n",
    "        corr, _ = pearsonr(modified_l1, l2)\n",
    "        if corr > best_corr:\n",
    "            best_corr = corr\n",
    "            best_a = a\n",
    "            best_b = b\n",
    "\n",
    "print(\"Best correlation:\", best_corr)\n",
    "print(\"Best a:\", best_a)\n",
    "print(\"Best b:\", best_b)\n",
    "\n",
    "# Apply the transformation to l1\n",
    "new_l1 = best_a * l1 + best_b\n",
    "print(\"Modified l1:\", new_l1)\n"
   ]
  },
  {
   "cell_type": "code",
   "execution_count": null,
   "id": "6d5c3a5e-0d07-4081-bcb1-f85b6c08063a",
   "metadata": {},
   "outputs": [],
   "source": []
  }
 ],
 "metadata": {
  "kernelspec": {
   "display_name": "Python 3 (ipykernel)",
   "language": "python",
   "name": "python3"
  },
  "language_info": {
   "codemirror_mode": {
    "name": "ipython",
    "version": 3
   },
   "file_extension": ".py",
   "mimetype": "text/x-python",
   "name": "python",
   "nbconvert_exporter": "python",
   "pygments_lexer": "ipython3",
   "version": "3.12.2"
  }
 },
 "nbformat": 4,
 "nbformat_minor": 5
}
