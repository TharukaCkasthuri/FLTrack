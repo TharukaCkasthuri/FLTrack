{
 "cells": [
  {
   "cell_type": "code",
   "execution_count": 1,
   "id": "14c3f9f5",
   "metadata": {},
   "outputs": [],
   "source": [
    "import os\n",
    "import sys\n",
    "\n",
    "current_directory = os.getcwd()\n",
    "fl = fltrack_directory = os.path.join(os.path.dirname(current_directory), 'FLTrack')\n",
    "sys.path.append(fl)\n",
    "\n",
    "import time\n",
    "import torch\n",
    "\n",
    "import pandas as pd\n",
    "import numpy as np\n",
    "\n",
    "import matplotlib.pyplot as plt\n",
    "from torch.utils.data import DataLoader\n",
    "\n",
    "from models import ShallowNN\n",
    "from utils import load_file\n",
    "from evals import evaluate,evaluate_mae_with_confidence,influence\n",
    "from evals import euclidean_distance, manhattan_distance, pairwise_euclidean_distance, accumulated_proximity, full_accumulated_proximity\n",
    "\n",
    "features = 197\n",
    "batch_size = 64\n",
    "loss_fn = torch.nn.L1Loss()"
   ]
  },
  {
   "cell_type": "code",
   "execution_count": 2,
   "id": "987dd5a2",
   "metadata": {},
   "outputs": [],
   "source": [
    "all_clients = [\"0_0\",\"0_1\",\"0_2\",\"0_3\",\"0_4\",\"0_5\",\"1_0\",\"1_1\",\"1_2\",\"1_3\",\"1_4\",\"1_5\",\"2_0\",\"2_1\",\"2_2\",\"2_3\",\"2_4\",\"2_5\",\"3_0\",\"3_1\",\"3_2\",\"3_3\",\"3_4\",\"3_5\"]\n",
    "ecc_clients = [\"0_2\",\"0_3\",\"0_4\",\"1_2\",\"1_3\"]\n",
    "non_ecc_clients = [\"0_0\", \"0_1\", \"0_5\", \"1_0\", \"1_1\", \"1_4\", \"1_5\", \"2_0\", \"2_1\", \"2_2\", \"2_3\", \"2_4\", \"2_5\", \"3_0\", \"3_1\", \"3_2\", \"3_3\", \"3_4\",\"3_5\",]"
   ]
  },
  {
   "cell_type": "code",
   "execution_count": 3,
   "id": "5f00c4db",
   "metadata": {},
   "outputs": [
    {
     "data": {
      "text/plain": [
       "<All keys matched successfully>"
      ]
     },
     "execution_count": 3,
     "metadata": {},
     "output_type": "execute_result"
    }
   ],
   "source": [
    "all_model = ShallowNN(features)\n",
    "all_model.load_state_dict(torch.load('../checkpt/saving/epoch_500/_fedl_global_20_25.pth'))\n",
    "ecc_model = ShallowNN(features)\n",
    "ecc_model.load_state_dict(torch.load('../checkpt/eccentric/epoch_500/20_rounds_25_epochs_per_round/_fedl_global_20_25.pth'))\n",
    "nonecc_model = ShallowNN(features)\n",
    "nonecc_model.load_state_dict(torch.load('../checkpt/non_eccentric/epoch_500/20_rounds_25_epochs_per_round/_fedl_global_20_25.pth'))"
   ]
  },
  {
   "cell_type": "code",
   "execution_count": 33,
   "id": "0889c100",
   "metadata": {},
   "outputs": [],
   "source": [
    "def eval_clients(client_ids, model):\n",
    "    \"\"\"\n",
    "    \"\"\"\n",
    "    eval_list = []\n",
    "    for client in client_ids:\n",
    "        val_data_path =  \"../testpt/\"+str(client)+\".pt\"\n",
    "        val_set = torch.load(val_data_path)\n",
    "        val_loader = DataLoader(val_set, batch_size, shuffle = True)\n",
    "\n",
    "        mae,(mae_lower_band, mae_upper_band), _ = evaluate_mae_with_confidence(all_model, val_loader)\n",
    "\n",
    "        eval_dict = {\"client_id\":client,\n",
    "                     \"MAE\" :round(mae, 4),\n",
    "                    \"MAE lower band\": round(mae_lower_band, 4),\n",
    "                    \"MAE upper band\":round(mae_upper_band,4)\n",
    "                    }\n",
    "\n",
    "        eval_list.append(eval_dict)\n",
    "        \n",
    "    eval_df = pd.DataFrame.from_dict(eval_list)\n",
    "    \n",
    "    return eval_df"
   ]
  },
  {
   "cell_type": "code",
   "execution_count": 34,
   "id": "b7e4ba05",
   "metadata": {},
   "outputs": [],
   "source": [
    "full_df = eval_clients(all_clients, all_model)\n",
    "ecc_df = eval_clients(ecc_clients, ecc_model)\n",
    "non_ecc_df = eval_clients(non_ecc_clients, nonecc_model)"
   ]
  },
  {
   "cell_type": "code",
   "execution_count": 46,
   "id": "50841531",
   "metadata": {},
   "outputs": [
    {
     "data": {
      "text/html": [
       "<div>\n",
       "<style scoped>\n",
       "    .dataframe tbody tr th:only-of-type {\n",
       "        vertical-align: middle;\n",
       "    }\n",
       "\n",
       "    .dataframe tbody tr th {\n",
       "        vertical-align: top;\n",
       "    }\n",
       "\n",
       "    .dataframe thead th {\n",
       "        text-align: right;\n",
       "    }\n",
       "</style>\n",
       "<table border=\"1\" class=\"dataframe\">\n",
       "  <thead>\n",
       "    <tr style=\"text-align: right;\">\n",
       "      <th></th>\n",
       "      <th>client_id</th>\n",
       "      <th>Ecce MAE</th>\n",
       "      <th>Full Model MAE</th>\n",
       "    </tr>\n",
       "  </thead>\n",
       "  <tbody>\n",
       "    <tr>\n",
       "      <th>0</th>\n",
       "      <td>0_2</td>\n",
       "      <td>0.3645</td>\n",
       "      <td>0.3645</td>\n",
       "    </tr>\n",
       "    <tr>\n",
       "      <th>1</th>\n",
       "      <td>0_3</td>\n",
       "      <td>0.4635</td>\n",
       "      <td>0.4636</td>\n",
       "    </tr>\n",
       "    <tr>\n",
       "      <th>2</th>\n",
       "      <td>0_4</td>\n",
       "      <td>0.3594</td>\n",
       "      <td>0.3594</td>\n",
       "    </tr>\n",
       "    <tr>\n",
       "      <th>3</th>\n",
       "      <td>1_2</td>\n",
       "      <td>0.4426</td>\n",
       "      <td>0.4420</td>\n",
       "    </tr>\n",
       "    <tr>\n",
       "      <th>4</th>\n",
       "      <td>1_3</td>\n",
       "      <td>0.5580</td>\n",
       "      <td>0.5578</td>\n",
       "    </tr>\n",
       "  </tbody>\n",
       "</table>\n",
       "</div>"
      ],
      "text/plain": [
       "  client_id  Ecce MAE  Full Model MAE\n",
       "0       0_2    0.3645          0.3645\n",
       "1       0_3    0.4635          0.4636\n",
       "2       0_4    0.3594          0.3594\n",
       "3       1_2    0.4426          0.4420\n",
       "4       1_3    0.5580          0.5578"
      ]
     },
     "execution_count": 46,
     "metadata": {},
     "output_type": "execute_result"
    }
   ],
   "source": [
    "ecc_df.rename(columns={'MAE': 'Ecce MAE'}, inplace=True)\n",
    "ecc_df[\"Full Model MAE\"] = full_df[full_df['client_id'].isin(ecc_clients)][\"MAE\"].values\n",
    "ecc_df[['client_id','Ecce MAE', 'Full Model MAE']]"
   ]
  },
  {
   "cell_type": "code",
   "execution_count": 50,
   "id": "853f29ed",
   "metadata": {},
   "outputs": [
    {
     "name": "stdout",
     "output_type": "stream",
     "text": [
      "0.4376\n",
      "0.43746\n"
     ]
    }
   ],
   "source": [
    "print(ecc_df['Ecce MAE'].mean())\n",
    "print(ecc_df['Full Model MAE'].mean())"
   ]
  },
  {
   "cell_type": "code",
   "execution_count": null,
   "id": "6f2a200e",
   "metadata": {},
   "outputs": [],
   "source": []
  },
  {
   "cell_type": "code",
   "execution_count": 47,
   "id": "1507be32",
   "metadata": {},
   "outputs": [
    {
     "data": {
      "text/html": [
       "<div>\n",
       "<style scoped>\n",
       "    .dataframe tbody tr th:only-of-type {\n",
       "        vertical-align: middle;\n",
       "    }\n",
       "\n",
       "    .dataframe tbody tr th {\n",
       "        vertical-align: top;\n",
       "    }\n",
       "\n",
       "    .dataframe thead th {\n",
       "        text-align: right;\n",
       "    }\n",
       "</style>\n",
       "<table border=\"1\" class=\"dataframe\">\n",
       "  <thead>\n",
       "    <tr style=\"text-align: right;\">\n",
       "      <th></th>\n",
       "      <th>client_id</th>\n",
       "      <th>Non Ecce MAE</th>\n",
       "      <th>Full Model MAE</th>\n",
       "    </tr>\n",
       "  </thead>\n",
       "  <tbody>\n",
       "    <tr>\n",
       "      <th>0</th>\n",
       "      <td>0_0</td>\n",
       "      <td>0.4798</td>\n",
       "      <td>0.4795</td>\n",
       "    </tr>\n",
       "    <tr>\n",
       "      <th>1</th>\n",
       "      <td>0_1</td>\n",
       "      <td>0.4785</td>\n",
       "      <td>0.4785</td>\n",
       "    </tr>\n",
       "    <tr>\n",
       "      <th>2</th>\n",
       "      <td>0_5</td>\n",
       "      <td>0.4623</td>\n",
       "      <td>0.4622</td>\n",
       "    </tr>\n",
       "    <tr>\n",
       "      <th>3</th>\n",
       "      <td>1_0</td>\n",
       "      <td>0.5000</td>\n",
       "      <td>0.4999</td>\n",
       "    </tr>\n",
       "    <tr>\n",
       "      <th>4</th>\n",
       "      <td>1_1</td>\n",
       "      <td>0.5006</td>\n",
       "      <td>0.5002</td>\n",
       "    </tr>\n",
       "    <tr>\n",
       "      <th>5</th>\n",
       "      <td>1_4</td>\n",
       "      <td>0.4455</td>\n",
       "      <td>0.4445</td>\n",
       "    </tr>\n",
       "    <tr>\n",
       "      <th>6</th>\n",
       "      <td>1_5</td>\n",
       "      <td>0.5641</td>\n",
       "      <td>0.5642</td>\n",
       "    </tr>\n",
       "    <tr>\n",
       "      <th>7</th>\n",
       "      <td>2_0</td>\n",
       "      <td>0.4254</td>\n",
       "      <td>0.4214</td>\n",
       "    </tr>\n",
       "    <tr>\n",
       "      <th>8</th>\n",
       "      <td>2_1</td>\n",
       "      <td>0.4310</td>\n",
       "      <td>0.4288</td>\n",
       "    </tr>\n",
       "    <tr>\n",
       "      <th>9</th>\n",
       "      <td>2_2</td>\n",
       "      <td>0.4253</td>\n",
       "      <td>0.4240</td>\n",
       "    </tr>\n",
       "    <tr>\n",
       "      <th>10</th>\n",
       "      <td>2_3</td>\n",
       "      <td>0.4310</td>\n",
       "      <td>0.4316</td>\n",
       "    </tr>\n",
       "    <tr>\n",
       "      <th>11</th>\n",
       "      <td>2_4</td>\n",
       "      <td>0.4168</td>\n",
       "      <td>0.4183</td>\n",
       "    </tr>\n",
       "    <tr>\n",
       "      <th>12</th>\n",
       "      <td>2_5</td>\n",
       "      <td>0.4372</td>\n",
       "      <td>0.4363</td>\n",
       "    </tr>\n",
       "    <tr>\n",
       "      <th>13</th>\n",
       "      <td>3_0</td>\n",
       "      <td>0.5193</td>\n",
       "      <td>0.5196</td>\n",
       "    </tr>\n",
       "    <tr>\n",
       "      <th>14</th>\n",
       "      <td>3_1</td>\n",
       "      <td>0.5251</td>\n",
       "      <td>0.5258</td>\n",
       "    </tr>\n",
       "    <tr>\n",
       "      <th>15</th>\n",
       "      <td>3_2</td>\n",
       "      <td>0.5239</td>\n",
       "      <td>0.5241</td>\n",
       "    </tr>\n",
       "    <tr>\n",
       "      <th>16</th>\n",
       "      <td>3_3</td>\n",
       "      <td>0.5182</td>\n",
       "      <td>0.5183</td>\n",
       "    </tr>\n",
       "    <tr>\n",
       "      <th>17</th>\n",
       "      <td>3_4</td>\n",
       "      <td>0.5227</td>\n",
       "      <td>0.5223</td>\n",
       "    </tr>\n",
       "    <tr>\n",
       "      <th>18</th>\n",
       "      <td>3_5</td>\n",
       "      <td>0.5308</td>\n",
       "      <td>0.5306</td>\n",
       "    </tr>\n",
       "  </tbody>\n",
       "</table>\n",
       "</div>"
      ],
      "text/plain": [
       "   client_id  Non Ecce MAE  Full Model MAE\n",
       "0        0_0        0.4798          0.4795\n",
       "1        0_1        0.4785          0.4785\n",
       "2        0_5        0.4623          0.4622\n",
       "3        1_0        0.5000          0.4999\n",
       "4        1_1        0.5006          0.5002\n",
       "5        1_4        0.4455          0.4445\n",
       "6        1_5        0.5641          0.5642\n",
       "7        2_0        0.4254          0.4214\n",
       "8        2_1        0.4310          0.4288\n",
       "9        2_2        0.4253          0.4240\n",
       "10       2_3        0.4310          0.4316\n",
       "11       2_4        0.4168          0.4183\n",
       "12       2_5        0.4372          0.4363\n",
       "13       3_0        0.5193          0.5196\n",
       "14       3_1        0.5251          0.5258\n",
       "15       3_2        0.5239          0.5241\n",
       "16       3_3        0.5182          0.5183\n",
       "17       3_4        0.5227          0.5223\n",
       "18       3_5        0.5308          0.5306"
      ]
     },
     "execution_count": 47,
     "metadata": {},
     "output_type": "execute_result"
    }
   ],
   "source": [
    "non_ecc_df.rename(columns={'MAE': 'Non Ecce MAE'}, inplace=True)\n",
    "non_ecc_df[\"Full Model MAE\"] = full_df[full_df['client_id'].isin(non_ecc_clients)][\"MAE\"].values\n",
    "non_ecc_df[['client_id','Non Ecce MAE', 'Full Model MAE']]"
   ]
  },
  {
   "cell_type": "code",
   "execution_count": 51,
   "id": "c100f472",
   "metadata": {},
   "outputs": [
    {
     "name": "stdout",
     "output_type": "stream",
     "text": [
      "0.48092103\n",
      "0.48053154\n"
     ]
    }
   ],
   "source": [
    "print(non_ecc_df['Non Ecce MAE'].mean())\n",
    "print(non_ecc_df['Full Model MAE'].mean())"
   ]
  },
  {
   "cell_type": "code",
   "execution_count": 18,
   "id": "5773c911",
   "metadata": {},
   "outputs": [
    {
     "data": {
      "text/plain": [
       "0.47162914"
      ]
     },
     "execution_count": 18,
     "metadata": {},
     "output_type": "execute_result"
    }
   ],
   "source": [
    "full_df[\"Average MAE\"].mean()"
   ]
  },
  {
   "cell_type": "code",
   "execution_count": 19,
   "id": "f2903b48",
   "metadata": {},
   "outputs": [
    {
     "data": {
      "text/plain": [
       "0.43768"
      ]
     },
     "execution_count": 19,
     "metadata": {},
     "output_type": "execute_result"
    }
   ],
   "source": [
    "ecc_df[\"Average MAE\"].mean()"
   ]
  },
  {
   "cell_type": "code",
   "execution_count": 20,
   "id": "9294898c",
   "metadata": {},
   "outputs": [
    {
     "data": {
      "text/plain": [
       "0.48096842"
      ]
     },
     "execution_count": 20,
     "metadata": {},
     "output_type": "execute_result"
    }
   ],
   "source": [
    "non_ecc_df[\"Average MAE\"].mean()"
   ]
  },
  {
   "cell_type": "code",
   "execution_count": null,
   "id": "2fef1880",
   "metadata": {},
   "outputs": [],
   "source": []
  }
 ],
 "metadata": {
  "kernelspec": {
   "display_name": "Python 3 (ipykernel)",
   "language": "python",
   "name": "python3"
  },
  "language_info": {
   "codemirror_mode": {
    "name": "ipython",
    "version": 3
   },
   "file_extension": ".py",
   "mimetype": "text/x-python",
   "name": "python",
   "nbconvert_exporter": "python",
   "pygments_lexer": "ipython3",
   "version": "3.11.4"
  }
 },
 "nbformat": 4,
 "nbformat_minor": 5
}
