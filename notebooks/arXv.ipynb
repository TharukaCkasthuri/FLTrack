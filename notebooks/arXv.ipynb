{
 "cells": [
  {
   "cell_type": "markdown",
   "id": "9f79b007",
   "metadata": {},
   "source": [
    "## Global Model Based Eccentricity Method 1\n",
    "\n",
    "$\n",
    "\\begin{equation}\\label{eq:Ecc2}\n",
    "\\xi_i = \\frac{d(\\mathcal{H}^i_{{\\mathcal M}}, \\mathcal{H}_{\\mu_i})}{\\sum _{j=1}^{k} d(\\mathcal{H}^j_{{\\mathcal M}}, \\mathcal{H}_{\\mu_j})},\n",
    "\\end{equation}\n",
    "$\n",
    "\n",
    "Where $\\mathcal{H}_{\\mu_i}$ and $\\mathcal{H}_{\\mu_j}$ are respectively, the Hessian matrices of local models $\\mu_i$ and $\\mu_j$, for $j=1, 2,\\ldots, k$, and $\\mathcal{H}^i_{{\\mathcal M}}$ and $\\mathcal{H}^j_{{\\mathcal M}}$ are the Hessian matrices of global model $\\mathcal M$ calculated respectively on the validation sets of clients $i$ and $j$, for $j=1, 2,\\ldots, k$,  and $d(.,.)$ is the Euclidean distance between two Hessian matrices. \n"
   ]
  },
  {
   "cell_type": "code",
   "execution_count": null,
   "id": "aa2f33fe",
   "metadata": {},
   "outputs": [],
   "source": [
    "glo_matrix_dict = {\n",
    "        key: {\"iso\" : torch.load(\"hessians/iso/\" + str(key) + \".pth\"),\n",
    "             \"fed\" : torch.load(\"hessians/fed/\" + str(key) + \".pth\")}\n",
    "        for key in client_ids\n",
    "    }"
   ]
  },
  {
   "cell_type": "code",
   "execution_count": null,
   "id": "3d1cc4cf",
   "metadata": {},
   "outputs": [],
   "source": [
    "distances = []\n",
    "for client in client_ids:\n",
    "    distance = accumulated_proximity(glo_matrix_dict[client][\"iso\"],glo_matrix_dict[client][\"fed\"], euclidean_distance)\n",
    "    distances.append(distance)\n",
    "    #print(client,acc_proximity, 2*acc_proximity/full_acc_proximity_p)"
   ]
  },
  {
   "cell_type": "code",
   "execution_count": null,
   "id": "93a3096e",
   "metadata": {},
   "outputs": [],
   "source": [
    "full_acc = sum(distances)"
   ]
  },
  {
   "cell_type": "code",
   "execution_count": null,
   "id": "d9632bc5",
   "metadata": {},
   "outputs": [],
   "source": [
    "ecc_dis = []\n",
    "for i in distances:\n",
    "    ecc_dis.append(round((i/full_acc).item(),4))\n",
    "ecc_diss = {\"client id\": client_ids, \"hess_dis\": ecc_dis}\n",
    "ecc_diss = pd.DataFrame(ecc_diss)\n",
    "ecc_diss.to_csv(\"insights/eccentricity_global_model_based_1.csv\" , index=False)"
   ]
  },
  {
   "cell_type": "markdown",
   "id": "9a7fa9af",
   "metadata": {},
   "source": [
    "## Global Model Based Eccentricity Method 2\n",
    "\n",
    "$\n",
    "\\begin{equation}\\label{eq:Ecc3}\n",
    "\\xi_i = \\frac{2\\sum_{j=1}^{k}d((\\mathcal{H}^i_{\\mathcal {M}} - \\mathcal{H}_{\\mu_i}), (\\mathcal{H}^j_{\\mathcal {M}} - \\mathcal{H}_{\\mu_j}))}{\\sum_{l=1}^{k}\\sum _{j=1}^{k} d((\\mathcal{H}^l_{{\\mathcal M}} - \\mathcal{H}_{\\mu_l}), (\\mathcal{H}^j_{{\\mathcal M}} - \\mathcal{H}_{\\mu_j}))},\n",
    "\\end{equation}\n",
    "$\n",
    "\n",
    "Where $\\mathcal{H}_{\\mu_i}$, $\\mathcal{H}_{\\mu_l}$ and $\\mathcal{H}_{\\mu_j}$ are respectively, the Hessian matrices of local models $\\mu_i$, $\\mu_l$ and $\\mu_j$, for $l, j=1, 2,\\ldots, k$, and $\\mathcal{H}^i_{{\\mathcal M}}$, $\\mathcal{H}^l_{{\\mathcal M}}$ and $\\mathcal{H}^j_{{\\mathcal M}}$ are the Hessian matrices of global model $\\mathcal M$ calculated respectively on the validation sets of clients $i$, $l$ and $j$, for $l, j=1, 2,\\ldots, k$,  and $d(.,.)$ is the Euclidean distance between the two matrices obtained by subtracting the corresponding Hessian matrices. \n"
   ]
  },
  {
   "cell_type": "code",
   "execution_count": null,
   "id": "53d1d091",
   "metadata": {},
   "outputs": [],
   "source": [
    "full_matrix_dict = {\n",
    "        key: {\"iso\" : torch.load(\"hessians/iso/\" + str(key) + \".pth\"),\n",
    "             \"fed\" : torch.load(\"hessians/fed/\" + str(key) + \".pth\")}\n",
    "        for key in client_ids\n",
    "    }\n",
    "diff_matrix_dict = {key : full_matrix_dict[key][\"fed\"] - full_matrix_dict[key][\"iso\"]\n",
    "                        for key in full_matrix_dict}"
   ]
  },
  {
   "cell_type": "code",
   "execution_count": null,
   "id": "5389dde2",
   "metadata": {},
   "outputs": [],
   "source": [
    "proximities = []\n",
    "for i in client_ids:\n",
    "    distances = []\n",
    "    for j in client_ids:\n",
    "        distance = accumulated_proximity(diff_matrix_dict[i],diff_matrix_dict[j],manhattan_distance)\n",
    "        distances.append(distance)\n",
    "    print(round(sum(distances).item(),4))\n",
    "    proximities.append(sum(distances).item())"
   ]
  },
  {
   "cell_type": "code",
   "execution_count": null,
   "id": "5bbedf85",
   "metadata": {},
   "outputs": [],
   "source": [
    "full_proximity = sum(proximities)"
   ]
  },
  {
   "cell_type": "code",
   "execution_count": null,
   "id": "c3e4f0f2",
   "metadata": {},
   "outputs": [],
   "source": [
    "full_proximity = sum(proximities)\n",
    "\n",
    "ecc = []\n",
    "for i in proximities:\n",
    "    ecc.append(round((2 * i/full_proximity),4))\n",
    "    \n",
    "eccentricities_3 = {\"client id\": client_ids, \"eccentricity\": ecc}\n",
    "eccentricities_3 = pd.DataFrame(eccentricities_3)\n",
    "eccentricities_3.to_csv(\"insights/eccentricities_global_model_based_2.csv\" , index=False)"
   ]
  },
  {
   "cell_type": "markdown",
   "id": "48ad6584",
   "metadata": {},
   "source": [
    "## Eccentricity Frobenius Method 3"
   ]
  },
  {
   "cell_type": "code",
   "execution_count": null,
   "id": "6d3895d8",
   "metadata": {},
   "outputs": [],
   "source": [
    "matrix_dict = {\n",
    "        key: torch.load(\"hessians/iso/\" + str(key) + \".pth\")\n",
    "        for key in client_ids\n",
    "    }"
   ]
  },
  {
   "cell_type": "code",
   "execution_count": null,
   "id": "2e6880c7",
   "metadata": {},
   "outputs": [],
   "source": [
    "eccentricities = []\n",
    "\n",
    "for client in client_ids:\n",
    "    client_matrix = torch.load(\"hessians/iso/\" + str(client) + \".pth\")\n",
    "    acc_norm = 0.0\n",
    "    for key in matrix_dict:\n",
    "        norm = torch.norm(client_matrix - matrix_dict[key] , 'fro')\n",
    "        acc_norm += norm\n",
    "    \n",
    "    eccentricities.append(round(acc_norm.item(),4))\n",
    "    print(round(acc_norm.item(),4))"
   ]
  },
  {
   "cell_type": "code",
   "execution_count": null,
   "id": "a2be554d",
   "metadata": {},
   "outputs": [],
   "source": [
    "full_ecc = []\n",
    "full_acc_proximity = sum(eccentricities)*2\n",
    "\n",
    "for item in eccentricities:\n",
    "    full_ecc.append(2*(item/full_acc_proximity))"
   ]
  },
  {
   "cell_type": "code",
   "execution_count": null,
   "id": "341d65e9",
   "metadata": {},
   "outputs": [],
   "source": [
    "ecc_hessian = {\"client id\": client_ids, \"hess_ecc\": full_ecc}\n",
    "ecc_hessian = pd.DataFrame(ecc_hessian)\n",
    "ecc_hessian.to_csv(\"insights/eccentricity_with_forb_norm.csv\" , index=False)"
   ]
  }
 ],
 "metadata": {
  "kernelspec": {
   "display_name": "Python 3 (ipykernel)",
   "language": "python",
   "name": "python3"
  },
  "language_info": {
   "codemirror_mode": {
    "name": "ipython",
    "version": 3
   },
   "file_extension": ".py",
   "mimetype": "text/x-python",
   "name": "python",
   "nbconvert_exporter": "python",
   "pygments_lexer": "ipython3",
   "version": "3.11.5"
  }
 },
 "nbformat": 4,
 "nbformat_minor": 5
}
