{
 "cells": [
  {
   "cell_type": "code",
   "execution_count": 2,
   "id": "0f511941",
   "metadata": {},
   "outputs": [],
   "source": [
    "import os\n",
    "import time\n",
    "import torch\n",
    "\n",
    "import pandas as pd\n",
    "import numpy as np\n",
    "\n",
    "import matplotlib.pyplot as plt\n",
    "from torch.utils.data import DataLoader\n",
    "\n",
    "from models import ShallowNN\n",
    "from utils import load_file\n",
    "from evals import evaluate,evaluate_mae_with_confidence,influence\n",
    "\n",
    "features = 197\n",
    "batch_size = 64\n",
    "loss_fn = torch.nn.L1Loss()"
   ]
  },
  {
   "cell_type": "code",
   "execution_count": 3,
   "id": "837ad7d4",
   "metadata": {},
   "outputs": [],
   "source": [
    "client_ids = [\"0_0\",\"0_1\",\"0_2\",\"0_3\",\"0_4\",\"0_5\",\"1_0\",\"1_1\",\"1_2\",\"1_3\",\"1_4\",\"1_5\",\"2_0\",\"2_1\",\"2_2\",\"2_3\",\"2_4\",\"2_5\",\"3_0\",\"3_1\",\"3_2\",\"3_3\",\"3_4\",\"3_5\"]"
   ]
  },
  {
   "cell_type": "code",
   "execution_count": 4,
   "id": "64a6dc00",
   "metadata": {},
   "outputs": [
    {
     "data": {
      "text/plain": [
       "<All keys matched successfully>"
      ]
     },
     "execution_count": 4,
     "metadata": {},
     "output_type": "execute_result"
    }
   ],
   "source": [
    "global_model = ShallowNN(features)\n",
    "global_model.load_state_dict(torch.load('checkpt/_fedl_global_500.pth'))"
   ]
  },
  {
   "cell_type": "markdown",
   "id": "4761b18f",
   "metadata": {},
   "source": [
    "## Error Bars for Federated Learning vs Isolated Training"
   ]
  },
  {
   "cell_type": "code",
   "execution_count": null,
   "id": "ac455aa6",
   "metadata": {},
   "outputs": [],
   "source": [
    "eval_list = []\n",
    "for client in client_ids:\n",
    "    val_data_path =  \"testpt/\"+str(client)+\".pt\"\n",
    "    val_set = torch.load(val_data_path)\n",
    "    val_loader = DataLoader(val_set, batch_size, shuffle = True)\n",
    "    \n",
    "    isolated_model_path = \"checkpt/isolated/batch64_client_\"+str(client)+\".pth\"\n",
    "    isolated_model =  ShallowNN(features)\n",
    "    isolated_model.load_state_dict(torch.load(isolated_model_path))\n",
    "    \n",
    "    isolated_mae,(iso_lower_band, iso_upper_band), _  = evaluate_mae_with_confidence(isolated_model, val_loader)\n",
    "    federated_mae,(fed_lower_band, fed_upper_band), _ = evaluate_mae_with_confidence(global_model,val_loader)\n",
    "    \n",
    "    eval_dict = {\"client_id\":client, \"Isolated Average MAE\": round(isolated_mae, 4),\n",
    "                 \"Isolated MAE lower band\":round(iso_lower_band,4),\n",
    "                 \"Isolated MAE upper band\":round(iso_upper_band,4),\n",
    "                 \"Federated Average MAE\" :round(federated_mae, 4),\n",
    "                \"Federated MAE lower band\": round(fed_lower_band, 4),\n",
    "                \"Federated MAE upper band\":round(fed_upper_band,4)}\n",
    "    eval_list.append(eval_dict)\n",
    "    #print(client,eval_dict)\n",
    "eval_df = pd.DataFrame.from_dict(eval_list)\n",
    "eval_df[\"clients\"] = [i for i in range(1,25)] "
   ]
  },
  {
   "cell_type": "code",
   "execution_count": null,
   "id": "ca78caa4",
   "metadata": {},
   "outputs": [],
   "source": [
    "fig, ax = plt.subplots(figsize=(20, 10))\n",
    "bar_width = 0.3  # Decrease the bar width\n",
    "index = eval_df.index\n",
    "\n",
    "bar1 = ax.bar(index - bar_width / 2, eval_df['Isolated Average MAE'], bar_width, yerr=[\n",
    "    (eval_df[\"Isolated Average MAE\"] - eval_df[\"Isolated MAE lower band\"]),\n",
    "    (eval_df['Isolated MAE upper band'] - eval_df[\"Isolated Average MAE\"])\n",
    "], capsize=5, label='Isolated Model MAE')\n",
    "\n",
    "bar2 = ax.bar(index + bar_width / 2, eval_df['Federated Average MAE'], bar_width, yerr=[\n",
    "    (eval_df[\"Federated Average MAE\"] - eval_df[\"Federated MAE lower band\"]),\n",
    "    (eval_df['Federated MAE upper band'] - eval_df[\"Federated Average MAE\"])\n",
    "], capsize=5, label='Federated Model MAE')\n",
    "\n",
    "ax.set_xlabel('Client IDs', fontdict={'fontsize': 13})\n",
    "ax.set_ylabel(\"Mean Absolute Error for Validation\", fontdict={'fontsize': 13})\n",
    "ax.set_xticks(index)\n",
    "ax.set_xticklabels(eval_df['clients'])\n",
    "ax.legend(fontsize=15, loc=\"upper right\")\n",
    "\n",
    "# Adjust the xlim to decrease space at the left and right edges\n",
    "ax.set_xlim(index[0] - 0.7, index[-1] + 0.7)\n",
    "\n",
    "plt.show()"
   ]
  },
  {
   "cell_type": "markdown",
   "id": "34b2cf62",
   "metadata": {},
   "source": [
    "## Influence "
   ]
  },
  {
   "cell_type": "code",
   "execution_count": null,
   "id": "95700673",
   "metadata": {},
   "outputs": [],
   "source": [
    "inf_val = []\n",
    "for client in client_ids:\n",
    "    model = ShallowNN(features)\n",
    "    model.load_state_dict(torch.load('checkpt/influence/' + str(client)+ '_fedl_global_500.pth'))\n",
    "    val_data_path =  \"testpt/\"+str(client)+\".pt\"\n",
    "    val_set = torch.load(val_data_path)\n",
    "    inf = influence(global_model,model,val_set)\n",
    "    \n",
    "    inf_val.append(round(inf.item(),4))\n",
    "    #df.to_csv(\"influence2_\"+str(client) + \".csv\", index=False)\n",
    "data = {\"client id\": client_ids, \"inf_val\": inf_val}\n",
    "data = pd.DataFrame(data)\n",
    "data.to_csv(\"insights/influence_with_pred_diff.csv\" , index=False)"
   ]
  },
  {
   "cell_type": "markdown",
   "id": "5c5471d9",
   "metadata": {},
   "source": [
    "## Eccentricities Method 1"
   ]
  },
  {
   "cell_type": "code",
   "execution_count": 1,
   "id": "889976e0",
   "metadata": {},
   "outputs": [],
   "source": [
    "from evals import euclidean_distance, manhattan_distance, pairwise_euclidean_distance, accumulated_proximity, full_accumulated_proximity"
   ]
  },
  {
   "cell_type": "code",
   "execution_count": null,
   "id": "317a5afa",
   "metadata": {},
   "outputs": [],
   "source": [
    "full_acc_proximity = full_accumulated_proximity(client_ids,euclidean_distance)"
   ]
  },
  {
   "cell_type": "code",
   "execution_count": null,
   "id": "9c34e7f7",
   "metadata": {},
   "outputs": [],
   "source": [
    "matrix_dict = {\n",
    "        key: torch.load(\"hessians/iso/\" + str(key) + \".pth\")\n",
    "        for key in client_ids\n",
    "    }"
   ]
  },
  {
   "cell_type": "code",
   "execution_count": null,
   "id": "1c0966df",
   "metadata": {},
   "outputs": [],
   "source": [
    "eccentricities = []\n",
    "for client in client_ids:\n",
    "    client_matrix = torch.load(\"hessians/iso/\" + str(client) + \".pth\")\n",
    "    acc_proximity = 0.0\n",
    "    for key in matrix_dict:\n",
    "        distance = accumulated_proximity(matrix_dict[key],client_matrix,euclidean_distance)\n",
    "        acc_proximity += distance\n",
    "    eccentricity = 2*acc_proximity/full_acc_proximity\n",
    "    eccentricities.append(round(eccentricity.item(),4))\n",
    "    print(client,acc_proximity, 2*acc_proximity/full_acc_proximity)\n",
    "    \n",
    "ecc_hessian = {\"client id\": client_ids, \"hess_ecc\": eccentricities}\n",
    "ecc_hessian = pd.DataFrame(ecc_hessian)\n",
    "ecc_hessian.to_csv(\"insights/eccentricity_with_hessian.csv\" , index=False)"
   ]
  },
  {
   "cell_type": "code",
   "execution_count": null,
   "id": "3c051600",
   "metadata": {},
   "outputs": [],
   "source": [
    "full_acc_proximity_p = full_accumulated_proximity(client_ids,pairwise_euclidean_distance)"
   ]
  },
  {
   "cell_type": "code",
   "execution_count": null,
   "id": "fb38a6cb",
   "metadata": {},
   "outputs": [],
   "source": [
    "for client in client_ids:\n",
    "    client_matrix = torch.load(\"hessians/iso/\" + str(client) + \".pth\")\n",
    "    acc_proximity = 0.0\n",
    "    for key in matrix_dict:\n",
    "        distance = accumulated_proximity(matrix_dict[key],client_matrix,pairwise_euclidean_distance)\n",
    "        acc_proximity += distance\n",
    "    \n",
    "    print(client,acc_proximity, 2*acc_proximity/full_acc_proximity_p)"
   ]
  },
  {
   "cell_type": "markdown",
   "id": "d30a9799",
   "metadata": {},
   "source": [
    "## Global Model Based Eccentricity Method 1\n",
    "\n",
    "$\n",
    "\\begin{equation}\\label{eq:Ecc2}\n",
    "\\xi_i = \\frac{d(\\mathcal{H}^i_{{\\mathcal M}}, \\mathcal{H}_{\\mu_i})}{\\sum _{j=1}^{k} d(\\mathcal{H}^j_{{\\mathcal M}}, \\mathcal{H}_{\\mu_j})},\n",
    "\\end{equation}\n",
    "$\n",
    "\n",
    "Where $\\mathcal{H}_{\\mu_i}$ and $\\mathcal{H}_{\\mu_j}$ are respectively, the Hessian matrices of local models $\\mu_i$ and $\\mu_j$, for $j=1, 2,\\ldots, k$, and $\\mathcal{H}^i_{{\\mathcal M}}$ and $\\mathcal{H}^j_{{\\mathcal M}}$ are the Hessian matrices of global model $\\mathcal M$ calculated respectively on the validation sets of clients $i$ and $j$, for $j=1, 2,\\ldots, k$,  and $d(.,.)$ is the Euclidean distance between two Hessian matrices. \n"
   ]
  },
  {
   "cell_type": "code",
   "execution_count": null,
   "id": "79588fed",
   "metadata": {},
   "outputs": [],
   "source": [
    "glo_matrix_dict = {\n",
    "        key: {\"iso\" : torch.load(\"hessians/iso/\" + str(key) + \".pth\"),\n",
    "             \"fed\" : torch.load(\"hessians/fed/\" + str(key) + \".pth\")}\n",
    "        for key in client_ids\n",
    "    }"
   ]
  },
  {
   "cell_type": "code",
   "execution_count": null,
   "id": "a5d066b8",
   "metadata": {},
   "outputs": [],
   "source": [
    "distances = []\n",
    "for client in client_ids:\n",
    "    distance = accumulated_proximity(glo_matrix_dict[client][\"iso\"],glo_matrix_dict[client][\"fed\"], euclidean_distance)\n",
    "    distances.append(distance)\n",
    "    #print(client,acc_proximity, 2*acc_proximity/full_acc_proximity_p)"
   ]
  },
  {
   "cell_type": "code",
   "execution_count": null,
   "id": "0a0b5584",
   "metadata": {},
   "outputs": [],
   "source": [
    "full_acc = sum(distances)"
   ]
  },
  {
   "cell_type": "code",
   "execution_count": null,
   "id": "97e9d0fa",
   "metadata": {},
   "outputs": [],
   "source": [
    "ecc_dis = []\n",
    "for i in distances:\n",
    "    ecc_dis.append(round((i/full_acc).item(),4))\n",
    "ecc_diss = {\"client id\": client_ids, \"hess_dis\": ecc_dis}\n",
    "ecc_diss = pd.DataFrame(ecc_diss)\n",
    "ecc_diss.to_csv(\"insights/eccentricity_with_hes_new.csv\" , index=False)"
   ]
  },
  {
   "cell_type": "markdown",
   "id": "6c77b6dd",
   "metadata": {},
   "source": [
    "## Global Model Based Eccentricity Method 2\n",
    "\n",
    "$\n",
    "\\begin{equation}\\label{eq:Ecc3}\n",
    "\\xi_i = \\frac{2\\sum_{j=1}^{k}d((\\mathcal{H}^i_{\\mathcal {M}} - \\mathcal{H}_{\\mu_i}), (\\mathcal{H}^j_{\\mathcal {M}} - \\mathcal{H}_{\\mu_j}))}{\\sum_{l=1}^{k}\\sum _{j=1}^{k} d((\\mathcal{H}^l_{{\\mathcal M}} - \\mathcal{H}_{\\mu_l}), (\\mathcal{H}^j_{{\\mathcal M}} - \\mathcal{H}_{\\mu_j}))},\n",
    "\\end{equation}\n",
    "$\n",
    "\n",
    "Where $\\mathcal{H}_{\\mu_i}$, $\\mathcal{H}_{\\mu_l}$ and $\\mathcal{H}_{\\mu_j}$ are respectively, the Hessian matrices of local models $\\mu_i$, $\\mu_l$ and $\\mu_j$, for $l, j=1, 2,\\ldots, k$, and $\\mathcal{H}^i_{{\\mathcal M}}$, $\\mathcal{H}^l_{{\\mathcal M}}$ and $\\mathcal{H}^j_{{\\mathcal M}}$ are the Hessian matrices of global model $\\mathcal M$ calculated respectively on the validation sets of clients $i$, $l$ and $j$, for $l, j=1, 2,\\ldots, k$,  and $d(.,.)$ is the Euclidean distance between the two matrices obtained by subtracting the corresponding Hessian matrices. \n",
    "\n",
    "\n"
   ]
  },
  {
   "cell_type": "code",
   "execution_count": 5,
   "id": "1504f602",
   "metadata": {},
   "outputs": [],
   "source": [
    "full_matrix_dict = {\n",
    "        key: {\"iso\" : torch.load(\"hessians/iso/\" + str(key) + \".pth\"),\n",
    "             \"fed\" : torch.load(\"hessians/fed/\" + str(key) + \".pth\")}\n",
    "        for key in client_ids\n",
    "    }\n",
    "diff_matrix_dict = {key : full_matrix_dict[key][\"fed\"] - full_matrix_dict[key][\"iso\"]\n",
    "                        for key in full_matrix_dict}"
   ]
  },
  {
   "cell_type": "code",
   "execution_count": 6,
   "id": "f9996c6d",
   "metadata": {},
   "outputs": [
    {
     "name": "stdout",
     "output_type": "stream",
     "text": [
      "264949.2812\n",
      "290662.375\n",
      "299186.75\n",
      "440217.25\n",
      "303603.1875\n",
      "270029.375\n",
      "257011.0469\n",
      "292898.1875\n",
      "286624.7188\n",
      "505118.5\n",
      "293154.4688\n",
      "329790.75\n",
      "308592.25\n",
      "277738.125\n",
      "260201.3438\n",
      "320082.5625\n",
      "289371.4062\n",
      "288759.1562\n",
      "336122.25\n",
      "277366.3438\n",
      "296204.3438\n",
      "303956.125\n",
      "338398.2812\n",
      "337072.2812\n"
     ]
    }
   ],
   "source": [
    "proximities = []\n",
    "for i in client_ids:\n",
    "    distances = []\n",
    "    for j in client_ids:\n",
    "        distance = accumulated_proximity(diff_matrix_dict[i],diff_matrix_dict[j],manhattan_distance)\n",
    "        distances.append(distance)\n",
    "    print(round(sum(distances).item(),4))\n",
    "    proximities.append(sum(distances).item())"
   ]
  },
  {
   "cell_type": "code",
   "execution_count": 7,
   "id": "9bc4449b",
   "metadata": {},
   "outputs": [
    {
     "data": {
      "text/plain": [
       "7467110.359375"
      ]
     },
     "execution_count": 7,
     "metadata": {},
     "output_type": "execute_result"
    }
   ],
   "source": [
    "full_proximity = sum(proximities)\n",
    "full_proximity"
   ]
  },
  {
   "cell_type": "code",
   "execution_count": 8,
   "id": "8108fbed",
   "metadata": {},
   "outputs": [],
   "source": [
    "full_proximity = sum(proximities)\n",
    "\n",
    "ecc = []\n",
    "for i in proximities:\n",
    "    ecc.append(round((2 * i/full_proximity),4))\n",
    "    \n",
    "eccentricities_3 = {\"client id\": client_ids, \"eccentricity\": ecc}\n",
    "eccentricities_3 = pd.DataFrame(eccentricities_3)\n",
    "eccentricities_3.to_csv(\"insights/eccentricities_3.csv\" , index=False)"
   ]
  },
  {
   "cell_type": "code",
   "execution_count": null,
   "id": "88a4d2d7",
   "metadata": {},
   "outputs": [],
   "source": []
  }
 ],
 "metadata": {
  "kernelspec": {
   "display_name": "Python 3 (ipykernel)",
   "language": "python",
   "name": "python3"
  },
  "language_info": {
   "codemirror_mode": {
    "name": "ipython",
    "version": 3
   },
   "file_extension": ".py",
   "mimetype": "text/x-python",
   "name": "python",
   "nbconvert_exporter": "python",
   "pygments_lexer": "ipython3",
   "version": "3.11.4"
  }
 },
 "nbformat": 4,
 "nbformat_minor": 5
}
