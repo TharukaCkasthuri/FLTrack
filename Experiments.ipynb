{
 "cells": [
  {
   "cell_type": "code",
   "execution_count": 1,
   "id": "0f511941",
   "metadata": {},
   "outputs": [],
   "source": [
    "import os\n",
    "import time\n",
    "import torch\n",
    "\n",
    "import pandas as pd\n",
    "import numpy as np\n",
    "\n",
    "import matplotlib.pyplot as plt\n",
    "from torch.utils.data import DataLoader\n",
    "\n",
    "from models import ShallowNN\n",
    "from utils import load_file\n",
    "from evals import evaluate,evaluate_mae_with_confidence,influence\n",
    "\n",
    "features = 197\n",
    "batch_size = 64\n",
    "loss_fn = torch.nn.L1Loss()"
   ]
  },
  {
   "cell_type": "code",
   "execution_count": 3,
   "id": "837ad7d4",
   "metadata": {},
   "outputs": [],
   "source": [
    "client_ids = [\"0_0\",\"0_1\",\"0_2\",\"0_3\",\"0_4\",\"0_5\",\"1_0\",\"1_1\",\"1_2\",\"1_3\",\"1_4\",\"1_5\",\"2_0\",\"2_1\",\"2_2\",\"2_3\",\"2_4\",\"2_5\",\"3_0\",\"3_1\",\"3_2\",\"3_3\",\"3_4\",\"3_5\"]"
   ]
  },
  {
   "cell_type": "code",
   "execution_count": 4,
   "id": "64a6dc00",
   "metadata": {},
   "outputs": [
    {
     "data": {
      "text/plain": [
       "<All keys matched successfully>"
      ]
     },
     "execution_count": 4,
     "metadata": {},
     "output_type": "execute_result"
    }
   ],
   "source": [
    "global_model = ShallowNN(features)\n",
    "global_model.load_state_dict(torch.load('checkpt/_fedl_global_500.pth'))"
   ]
  },
  {
   "cell_type": "markdown",
   "id": "4761b18f",
   "metadata": {},
   "source": [
    "## Error Bars for Federated Learning vs Isolated Training"
   ]
  },
  {
   "cell_type": "code",
   "execution_count": null,
   "id": "ac455aa6",
   "metadata": {},
   "outputs": [],
   "source": [
    "eval_list = []\n",
    "for client in client_ids:\n",
    "    val_data_path =  \"testpt/\"+str(client)+\".pt\"\n",
    "    val_set = torch.load(val_data_path)\n",
    "    val_loader = DataLoader(val_set, batch_size, shuffle = True)\n",
    "    \n",
    "    isolated_model_path = \"checkpt/isolated/batch64_client_\"+str(client)+\".pth\"\n",
    "    isolated_model =  ShallowNN(features)\n",
    "    isolated_model.load_state_dict(torch.load(isolated_model_path))\n",
    "    \n",
    "    isolated_mae,(iso_lower_band, iso_upper_band), _  = evaluate_mae_with_confidence(isolated_model, val_loader)\n",
    "    federated_mae,(fed_lower_band, fed_upper_band), _ = evaluate_mae_with_confidence(global_model,val_loader)\n",
    "    \n",
    "    eval_dict = {\"client_id\":client, \"Isolated Average MAE\": round(isolated_mae, 4),\n",
    "                 \"Isolated MAE lower band\":round(iso_lower_band,4),\n",
    "                 \"Isolated MAE upper band\":round(iso_upper_band,4),\n",
    "                 \"Federated Average MAE\" :round(federated_mae, 4),\n",
    "                \"Federated MAE lower band\": round(fed_lower_band, 4),\n",
    "                \"Federated MAE upper band\":round(fed_upper_band,4)}\n",
    "    eval_list.append(eval_dict)\n",
    "    #print(client,eval_dict)\n",
    "eval_df = pd.DataFrame.from_dict(eval_list)\n",
    "eval_df[\"clients\"] = [i for i in range(1,25)] "
   ]
  },
  {
   "cell_type": "code",
   "execution_count": null,
   "id": "ca78caa4",
   "metadata": {},
   "outputs": [],
   "source": [
    "fig, ax = plt.subplots(figsize=(20, 10))\n",
    "bar_width = 0.3  # Decrease the bar width\n",
    "index = eval_df.index\n",
    "\n",
    "bar1 = ax.bar(index - bar_width / 2, eval_df['Isolated Average MAE'], bar_width, yerr=[\n",
    "    (eval_df[\"Isolated Average MAE\"] - eval_df[\"Isolated MAE lower band\"]),\n",
    "    (eval_df['Isolated MAE upper band'] - eval_df[\"Isolated Average MAE\"])\n",
    "], capsize=5, label='Isolated Model MAE')\n",
    "\n",
    "bar2 = ax.bar(index + bar_width / 2, eval_df['Federated Average MAE'], bar_width, yerr=[\n",
    "    (eval_df[\"Federated Average MAE\"] - eval_df[\"Federated MAE lower band\"]),\n",
    "    (eval_df['Federated MAE upper band'] - eval_df[\"Federated Average MAE\"])\n",
    "], capsize=5, label='Federated Model MAE')\n",
    "\n",
    "ax.set_xlabel('Client IDs', fontdict={'fontsize': 13})\n",
    "ax.set_ylabel(\"Mean Absolute Error for Validation\", fontdict={'fontsize': 13})\n",
    "ax.set_xticks(index)\n",
    "ax.set_xticklabels(eval_df['clients'])\n",
    "ax.legend(fontsize=15, loc=\"upper right\")\n",
    "\n",
    "# Adjust the xlim to decrease space at the left and right edges\n",
    "ax.set_xlim(index[0] - 0.7, index[-1] + 0.7)\n",
    "\n",
    "plt.show()"
   ]
  },
  {
   "cell_type": "markdown",
   "id": "34b2cf62",
   "metadata": {},
   "source": [
    "## Influence "
   ]
  },
  {
   "cell_type": "code",
   "execution_count": null,
   "id": "95700673",
   "metadata": {},
   "outputs": [],
   "source": [
    "inf_val = []\n",
    "for client in client_ids:\n",
    "    model = ShallowNN(features)\n",
    "    model.load_state_dict(torch.load('checkpt/influence/' + str(client)+ '_fedl_global_500.pth'))\n",
    "    val_data_path =  \"testpt/\"+str(client)+\".pt\"\n",
    "    val_set = torch.load(val_data_path)\n",
    "    inf = influence(global_model,model,val_set)\n",
    "    \n",
    "    inf_val.append(round(inf.item(),4))\n",
    "    #df.to_csv(\"influence2_\"+str(client) + \".csv\", index=False)\n",
    "data = {\"client id\": client_ids, \"inf_val\": inf_val}\n",
    "data = pd.DataFrame(data)\n",
    "data.to_csv(\"insights/influence_with_pred_diff.csv\" , index=False)"
   ]
  },
  {
   "cell_type": "markdown",
   "id": "5c5471d9",
   "metadata": {},
   "source": [
    "## Eccentricities"
   ]
  },
  {
   "cell_type": "code",
   "execution_count": 5,
   "id": "889976e0",
   "metadata": {},
   "outputs": [],
   "source": [
    "from evals import euclidean_distance, pairwise_euclidean_distance, accumulated_proximity, full_accumulated_proximity"
   ]
  },
  {
   "cell_type": "code",
   "execution_count": 6,
   "id": "317a5afa",
   "metadata": {},
   "outputs": [
    {
     "name": "stderr",
     "output_type": "stream",
     "text": [
      "[E thread_pool.cpp:109] Exception in thread pool task: mutex lock failed: Invalid argument\n",
      "[E thread_pool.cpp:109] Exception in thread pool task: mutex lock failed: Invalid argument\n",
      "[E thread_pool.cpp:109] Exception in thread pool task: mutex lock failed: Invalid argument\n",
      "[E thread_pool.cpp:109] Exception in thread pool task: mutex lock failed: Invalid argument\n",
      "[E thread_pool.cpp:109] Exception in thread pool task: mutex lock failed: Invalid argument\n",
      "[E thread_pool.cpp:109] Exception in thread pool task: mutex lock failed: Invalid argument\n",
      "[E thread_pool.cpp:109] Exception in thread pool task: mutex lock failed: Invalid argument\n",
      "[E thread_pool.cpp:109] Exception in thread pool task: mutex lock failed: Invalid argument\n"
     ]
    },
    {
     "ename": "KeyboardInterrupt",
     "evalue": "",
     "output_type": "error",
     "traceback": [
      "\u001b[0;31m---------------------------------------------------------------------------\u001b[0m",
      "\u001b[0;31mKeyboardInterrupt\u001b[0m                         Traceback (most recent call last)",
      "Cell \u001b[0;32mIn[6], line 1\u001b[0m\n\u001b[0;32m----> 1\u001b[0m full_acc_proximity \u001b[38;5;241m=\u001b[39m full_accumulated_proximity(client_ids,euclidean_distance)\n",
      "File \u001b[0;32m~/Documents/BTH/FedCE/evals.py:256\u001b[0m, in \u001b[0;36mfull_accumulated_proximity\u001b[0;34m(clients, distance_matrix)\u001b[0m\n\u001b[1;32m    254\u001b[0m \u001b[38;5;28;01mfor\u001b[39;00m l \u001b[38;5;129;01min\u001b[39;00m clients:\n\u001b[1;32m    255\u001b[0m     \u001b[38;5;28;01mfor\u001b[39;00m i \u001b[38;5;129;01min\u001b[39;00m clients:\n\u001b[0;32m--> 256\u001b[0m         acc_prox \u001b[38;5;241m=\u001b[39m accumulated_proximity(\n\u001b[1;32m    257\u001b[0m             matrix_dict[i][\u001b[38;5;124m\"\u001b[39m\u001b[38;5;124miso_matrix\u001b[39m\u001b[38;5;124m\"\u001b[39m],\n\u001b[1;32m    258\u001b[0m             matrix_dict[l][\u001b[38;5;124m\"\u001b[39m\u001b[38;5;124miso_matrix\u001b[39m\u001b[38;5;124m\"\u001b[39m],\n\u001b[1;32m    259\u001b[0m             distance_matrix,\n\u001b[1;32m    260\u001b[0m         )\n\u001b[1;32m    261\u001b[0m         total_proximity \u001b[38;5;241m+\u001b[39m\u001b[38;5;241m=\u001b[39m acc_prox\n\u001b[1;32m    263\u001b[0m \u001b[38;5;28;01mreturn\u001b[39;00m total_proximity\n",
      "File \u001b[0;32m~/Documents/BTH/FedCE/evals.py:227\u001b[0m, in \u001b[0;36maccumulated_proximity\u001b[0;34m(x, y, distance_matrix)\u001b[0m\n\u001b[1;32m    211\u001b[0m \u001b[38;5;28;01mdef\u001b[39;00m \u001b[38;5;21maccumulated_proximity\u001b[39m(\n\u001b[1;32m    212\u001b[0m     x: torch\u001b[38;5;241m.\u001b[39mtensor, y: torch\u001b[38;5;241m.\u001b[39mtensor, distance_matrix: Callable\n\u001b[1;32m    213\u001b[0m ) \u001b[38;5;241m-\u001b[39m\u001b[38;5;241m>\u001b[39m torch\u001b[38;5;241m.\u001b[39mtensor:\n\u001b[1;32m    214\u001b[0m \u001b[38;5;250m    \u001b[39m\u001b[38;5;124;03m\"\"\"\u001b[39;00m\n\u001b[1;32m    215\u001b[0m \u001b[38;5;124;03m    Calculate the accumulated proximity between two tensors.\u001b[39;00m\n\u001b[1;32m    216\u001b[0m \n\u001b[0;32m   (...)\u001b[0m\n\u001b[1;32m    224\u001b[0m \u001b[38;5;124;03m    proximity: torch.tensor object; accumulated proximity between two tensors\u001b[39;00m\n\u001b[1;32m    225\u001b[0m \u001b[38;5;124;03m    \"\"\"\u001b[39;00m\n\u001b[0;32m--> 227\u001b[0m     distances \u001b[38;5;241m=\u001b[39m distance_matrix(x, y)\n\u001b[1;32m    228\u001b[0m     proximity \u001b[38;5;241m=\u001b[39m torch\u001b[38;5;241m.\u001b[39msum(distances)\n\u001b[1;32m    230\u001b[0m     \u001b[38;5;28;01mreturn\u001b[39;00m proximity\n",
      "File \u001b[0;32m~/Documents/BTH/FedCE/evals.py:205\u001b[0m, in \u001b[0;36meuclidean_distance\u001b[0;34m(x, y)\u001b[0m\n\u001b[1;32m    192\u001b[0m \u001b[38;5;250m\u001b[39m\u001b[38;5;124;03m\"\"\"Calculate the Euclidean distance between two matrices.\u001b[39;00m\n\u001b[1;32m    193\u001b[0m \n\u001b[1;32m    194\u001b[0m \u001b[38;5;124;03mParameters:\u001b[39;00m\n\u001b[0;32m   (...)\u001b[0m\n\u001b[1;32m    201\u001b[0m \u001b[38;5;124;03mdistance: torch.tensor object; Euclidean distance between two matrices\u001b[39;00m\n\u001b[1;32m    202\u001b[0m \u001b[38;5;124;03m\"\"\"\u001b[39;00m\n\u001b[1;32m    204\u001b[0m \u001b[38;5;66;03m# Calculate the squared Euclidean distance element-wise\u001b[39;00m\n\u001b[0;32m--> 205\u001b[0m squared_distance \u001b[38;5;241m=\u001b[39m torch\u001b[38;5;241m.\u001b[39mpow(x \u001b[38;5;241m-\u001b[39m y, \u001b[38;5;241m2\u001b[39m)\u001b[38;5;241m.\u001b[39msum(dim\u001b[38;5;241m=\u001b[39m\u001b[38;5;241m1\u001b[39m)\n\u001b[1;32m    206\u001b[0m distance \u001b[38;5;241m=\u001b[39m torch\u001b[38;5;241m.\u001b[39msqrt(squared_distance)\n\u001b[1;32m    208\u001b[0m \u001b[38;5;28;01mreturn\u001b[39;00m distance\n",
      "\u001b[0;31mKeyboardInterrupt\u001b[0m: "
     ]
    }
   ],
   "source": [
    "full_acc_proximity = full_accumulated_proximity(client_ids,euclidean_distance)"
   ]
  },
  {
   "cell_type": "code",
   "execution_count": null,
   "id": "9c34e7f7",
   "metadata": {},
   "outputs": [],
   "source": [
    "matrix_dict = {\n",
    "        key: torch.load(\"hessians/iso/\" + str(key) + \".pth\")\n",
    "        for key in client_ids\n",
    "    }"
   ]
  },
  {
   "cell_type": "code",
   "execution_count": null,
   "id": "1c0966df",
   "metadata": {},
   "outputs": [],
   "source": [
    "eccentricities = []\n",
    "for client in client_ids:\n",
    "    client_matrix = torch.load(\"hessians/iso/\" + str(client) + \".pth\")\n",
    "    acc_proximity = 0.0\n",
    "    for key in matrix_dict:\n",
    "        distance = accumulated_proximity(matrix_dict[key],client_matrix,euclidean_distance)\n",
    "        acc_proximity += distance\n",
    "    eccentricity = 2*acc_proximity/full_acc_proximity\n",
    "    eccentricities.append(round(eccentricity.item(),4))\n",
    "    print(client,acc_proximity, 2*acc_proximity/full_acc_proximity)\n",
    "    \n",
    "ecc_hessian = {\"client id\": client_ids, \"hess_ecc\": eccentricities}\n",
    "ecc_hessian = pd.DataFrame(ecc_hessian)\n",
    "ecc_hessian.to_csv(\"insights/eccentricity_with_hessian.csv\" , index=False)"
   ]
  },
  {
   "cell_type": "code",
   "execution_count": null,
   "id": "3c051600",
   "metadata": {},
   "outputs": [],
   "source": [
    "full_acc_proximity_p = full_accumulated_proximity(client_ids,pairwise_euclidean_distance)"
   ]
  },
  {
   "cell_type": "code",
   "execution_count": null,
   "id": "fb38a6cb",
   "metadata": {},
   "outputs": [],
   "source": [
    "for client in client_ids:\n",
    "    client_matrix = torch.load(\"hessians/iso/\" + str(client) + \".pth\")\n",
    "    acc_proximity = 0.0\n",
    "    for key in matrix_dict:\n",
    "        distance = accumulated_proximity(matrix_dict[key],client_matrix,pairwise_euclidean_distance)\n",
    "        acc_proximity += distance\n",
    "    \n",
    "    print(client,acc_proximity, 2*acc_proximity/full_acc_proximity_p)"
   ]
  },
  {
   "cell_type": "markdown",
   "id": "d30a9799",
   "metadata": {},
   "source": [
    "## Global Model Based Eccentricity"
   ]
  },
  {
   "cell_type": "code",
   "execution_count": 7,
   "id": "79588fed",
   "metadata": {},
   "outputs": [],
   "source": [
    "glo_matrix_dict = {\n",
    "        key: {\"iso\" : torch.load(\"hessians/iso/\" + str(key) + \".pth\"),\n",
    "             \"fed\" : torch.load(\"hessians/fed/\" + str(key) + \".pth\")}\n",
    "        for key in client_ids\n",
    "    }"
   ]
  },
  {
   "cell_type": "code",
   "execution_count": 16,
   "id": "a5d066b8",
   "metadata": {},
   "outputs": [],
   "source": [
    "distances = []\n",
    "for client in client_ids:\n",
    "    distance = accumulated_proximity(glo_matrix_dict[client][\"iso\"],glo_matrix_dict[client][\"fed\"], euclidean_distance)\n",
    "    distances.append(distance)\n",
    "    #print(client,acc_proximity, 2*acc_proximity/full_acc_proximity_p)"
   ]
  },
  {
   "cell_type": "code",
   "execution_count": 18,
   "id": "0a0b5584",
   "metadata": {},
   "outputs": [],
   "source": [
    "full_acc = sum(distances)"
   ]
  },
  {
   "cell_type": "code",
   "execution_count": null,
   "id": "4d4b8ef9",
   "metadata": {},
   "outputs": [],
   "source": [
    "len(distances)"
   ]
  },
  {
   "cell_type": "code",
   "execution_count": 21,
   "id": "97e9d0fa",
   "metadata": {},
   "outputs": [],
   "source": [
    "ecc_dis = []\n",
    "for i in distances:\n",
    "    ecc_dis.append(round((i/full_acc).item(),4))\n",
    "ecc_diss = {\"client id\": client_ids, \"hess_dis\": ecc_dis}\n",
    "ecc_diss = pd.DataFrame(ecc_diss)\n",
    "ecc_diss.to_csv(\"insights/eccentricity_with_hes_new.csv\" , index=False)"
   ]
  },
  {
   "cell_type": "code",
   "execution_count": 27,
   "id": "66c250e8",
   "metadata": {},
   "outputs": [
    {
     "data": {
      "text/plain": [
       "torch.Size([14785, 14785])"
      ]
     },
     "execution_count": 27,
     "metadata": {},
     "output_type": "execute_result"
    }
   ],
   "source": [
    "(glo_matrix_dict[\"0_0\"][\"iso\"] - glo_matrix_dict[\"0_0\"][\"fed\"]).size()"
   ]
  },
  {
   "cell_type": "code",
   "execution_count": null,
   "id": "ed5b18cc",
   "metadata": {},
   "outputs": [],
   "source": []
  }
 ],
 "metadata": {
  "kernelspec": {
   "display_name": "Python 3 (ipykernel)",
   "language": "python",
   "name": "python3"
  },
  "language_info": {
   "codemirror_mode": {
    "name": "ipython",
    "version": 3
   },
   "file_extension": ".py",
   "mimetype": "text/x-python",
   "name": "python",
   "nbconvert_exporter": "python",
   "pygments_lexer": "ipython3",
   "version": "3.11.4"
  }
 },
 "nbformat": 4,
 "nbformat_minor": 5
}
