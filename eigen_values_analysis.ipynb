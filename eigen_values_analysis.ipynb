{
 "cells": [
  {
   "cell_type": "code",
   "execution_count": 1,
   "id": "ffcbe7fb",
   "metadata": {},
   "outputs": [],
   "source": [
    "import os\n",
    "import time\n",
    "import torch\n",
    "\n",
    "import pandas as pd\n",
    "import numpy as np\n",
    "\n",
    "import matplotlib.pyplot as plt\n",
    "from torch.utils.data import DataLoader\n",
    "\n",
    "from models import ShallowNN\n",
    "from utils import load_file, get_all_possible_pairs\n",
    "from evals import evaluate, pairwise_euclidean_distance , influence, calculate_hessian_flattened\n",
    "\n",
    "features = 197\n",
    "batch_size = 64\n",
    "loss_fn = torch.nn.L1Loss()"
   ]
  },
  {
   "cell_type": "code",
   "execution_count": 2,
   "id": "e63e9451",
   "metadata": {},
   "outputs": [],
   "source": [
    "client_ids = [\"0_0\",\"0_1\",\"0_2\",\"0_3\",\"0_4\",\"0_5\",\"1_0\",\"1_1\",\"1_2\",\"1_3\",\"1_4\",\"1_5\",\"2_0\",\"2_1\",\"2_2\",\"2_3\",\"2_4\",\"2_5\",\"3_0\",\"3_1\",\"3_2\",\"3_3\",\"3_4\",\"3_5\"]"
   ]
  },
  {
   "cell_type": "code",
   "execution_count": 3,
   "id": "e8e8140c",
   "metadata": {},
   "outputs": [
    {
     "data": {
      "text/plain": [
       "<All keys matched successfully>"
      ]
     },
     "execution_count": 3,
     "metadata": {},
     "output_type": "execute_result"
    }
   ],
   "source": [
    "global_model = ShallowNN(features)\n",
    "global_model.load_state_dict(torch.load('checkpt/epoch_500/_fedl_global_500.pth'))"
   ]
  },
  {
   "cell_type": "code",
   "execution_count": 4,
   "id": "6df067ae",
   "metadata": {},
   "outputs": [],
   "source": [
    "from pyhessian import hessian"
   ]
  },
  {
   "cell_type": "code",
   "execution_count": 5,
   "id": "40a69760",
   "metadata": {},
   "outputs": [
    {
     "name": "stderr",
     "output_type": "stream",
     "text": [
      "/Users/tharuka/anaconda3/envs/fedce/lib/python3.11/site-packages/torch/autograd/__init__.py:200: UserWarning: Using backward() with create_graph=True will create a reference cycle between the parameter and its gradient which can cause a memory leak. We recommend using autograd.grad when creating the graph to avoid this. If you have to use this function, make sure to reset the .grad fields of your parameters to None after use to break the cycle and avoid the leak. (Triggered internally at /Users/runner/work/pytorch/pytorch/pytorch/torch/csrc/autograd/engine.cpp:1156.)\n",
      "  Variable._execution_engine.run_backward(  # Calls into the C++ engine to run the backward pass\n"
     ]
    },
    {
     "name": "stdout",
     "output_type": "stream",
     "text": [
      "[1.387229084968567]\n",
      "[1.3263691663742065]\n",
      "[-1.6219123601913452]\n",
      "[2.911726951599121]\n",
      "[1.044628381729126]\n",
      "[1.4119017124176025]\n",
      "[1.049511432647705]\n",
      "[1.052514672279358]\n",
      "[0.5787808895111084]\n",
      "[1.1117876768112183]\n",
      "[-0.4282904863357544]\n",
      "[1.5827229022979736]\n",
      "[0.8526875972747803]\n",
      "[-0.8462137579917908]\n",
      "[1.009723424911499]\n",
      "[0.6890099048614502]\n",
      "[-1.2222977876663208]\n",
      "[-1.3032875061035156]\n",
      "[0.8303232789039612]\n",
      "[-1.0736682415008545]\n",
      "[0.5403720140457153]\n",
      "[-0.9259750843048096]\n",
      "[0.3718031942844391]\n",
      "[-1.434649109840393]\n"
     ]
    }
   ],
   "source": [
    "eigen_values = []\n",
    "eigen_vectors = {}\n",
    "for client in client_ids:\n",
    "    val_set = torch.load(\"trainpt/\"+str(client)+\".pt\")\n",
    "    data_loader = DataLoader(val_set, 64, shuffle = True)\n",
    "    hessian_comp = hessian(global_model, loss_fn,  dataloader=data_loader, cuda=False)\n",
    "    top_eigenvalues, top_eigenvector = hessian_comp.eigenvalues()\n",
    "    print(top_eigenvalues)\n",
    "    eigen_values.append(round(top_eigenvalues[-1],4))\n",
    "    eigen_vectors[client] = top_eigenvector"
   ]
  },
  {
   "cell_type": "code",
   "execution_count": 6,
   "id": "440bdd8e",
   "metadata": {},
   "outputs": [],
   "source": [
    "proxi = []\n",
    "for client in client_ids:\n",
    "    client_vector = eigen_vectors[client][0][0]\n",
    "    total_dist = 0.0\n",
    "    for key,vector in eigen_vectors.items():\n",
    "        if key != client:\n",
    "            distance = np.linalg.norm(vector[0][0] - client_vector)\n",
    "            total_dist += distance\n",
    "    proxi.append(total_dist)"
   ]
  },
  {
   "cell_type": "code",
   "execution_count": 7,
   "id": "44328f92",
   "metadata": {},
   "outputs": [],
   "source": [
    "eigens = {\"client_id\": client_ids, \"eigen_values\":eigen_values}\n",
    "eigens = pd.DataFrame(eigens)\n",
    "eigens.to_csv(\"insights/eigens.csv\" , index=False)"
   ]
  }
 ],
 "metadata": {
  "kernelspec": {
   "display_name": "Python 3 (ipykernel)",
   "language": "python",
   "name": "python3"
  },
  "language_info": {
   "codemirror_mode": {
    "name": "ipython",
    "version": 3
   },
   "file_extension": ".py",
   "mimetype": "text/x-python",
   "name": "python",
   "nbconvert_exporter": "python",
   "pygments_lexer": "ipython3",
   "version": "3.11.3"
  }
 },
 "nbformat": 4,
 "nbformat_minor": 5
}
